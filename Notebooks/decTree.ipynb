{
 "cells": [
  {
   "cell_type": "markdown",
   "metadata": {},
   "source": [
    "# dec tree "
   ]
  },
  {
   "cell_type": "code",
   "execution_count": 455,
   "metadata": {},
   "outputs": [],
   "source": [
    "import numpy as np\n",
    "import matplotlib.pyplot as plt\n",
    "import pandas as pd\n",
    "import seaborn as sns\n",
    "%matplotlib inline\n",
    "import random\n",
    "from pprint import pprint"
   ]
  },
  {
   "cell_type": "markdown",
   "metadata": {},
   "source": [
    "# load data und check"
   ]
  },
  {
   "cell_type": "code",
   "execution_count": 456,
   "metadata": {},
   "outputs": [
    {
     "data": {
      "text/html": [
       "<div>\n",
       "<style scoped>\n",
       "    .dataframe tbody tr th:only-of-type {\n",
       "        vertical-align: middle;\n",
       "    }\n",
       "\n",
       "    .dataframe tbody tr th {\n",
       "        vertical-align: top;\n",
       "    }\n",
       "\n",
       "    .dataframe thead th {\n",
       "        text-align: right;\n",
       "    }\n",
       "</style>\n",
       "<table border=\"1\" class=\"dataframe\">\n",
       "  <thead>\n",
       "    <tr style=\"text-align: right;\">\n",
       "      <th></th>\n",
       "      <th>approxAnzahl</th>\n",
       "      <th>areaRatio</th>\n",
       "      <th>circleLike</th>\n",
       "      <th>contureDistance</th>\n",
       "      <th>conturenAnzahl</th>\n",
       "      <th>farPoint</th>\n",
       "      <th>keyPointsAnzahl</th>\n",
       "      <th>mean_val</th>\n",
       "      <th>middlepointDistance</th>\n",
       "      <th>minimal_ratio</th>\n",
       "      <th>minimal_ratio2</th>\n",
       "      <th>momentpointDistance</th>\n",
       "      <th>rectangleLike</th>\n",
       "      <th>seradity</th>\n",
       "      <th>seradity2</th>\n",
       "      <th>solidity</th>\n",
       "      <th>solidity2</th>\n",
       "      <th>steiner</th>\n",
       "      <th>type</th>\n",
       "    </tr>\n",
       "  </thead>\n",
       "  <tbody>\n",
       "    <tr>\n",
       "      <th>0</th>\n",
       "      <td>26</td>\n",
       "      <td>0.004413</td>\n",
       "      <td>0.379250</td>\n",
       "      <td>1.003808</td>\n",
       "      <td>3</td>\n",
       "      <td>65806</td>\n",
       "      <td>434</td>\n",
       "      <td>254.011059</td>\n",
       "      <td>-2.810088</td>\n",
       "      <td>2.710155</td>\n",
       "      <td>1.045454</td>\n",
       "      <td>-8.246211</td>\n",
       "      <td>1.020743</td>\n",
       "      <td>0.554420</td>\n",
       "      <td>0.970142</td>\n",
       "      <td>0.669933</td>\n",
       "      <td>0.978365</td>\n",
       "      <td>5.099020</td>\n",
       "      <td>Dosenoeffner</td>\n",
       "    </tr>\n",
       "    <tr>\n",
       "      <th>1</th>\n",
       "      <td>27</td>\n",
       "      <td>0.062218</td>\n",
       "      <td>0.442046</td>\n",
       "      <td>1.073125</td>\n",
       "      <td>2</td>\n",
       "      <td>29660</td>\n",
       "      <td>432</td>\n",
       "      <td>240.198330</td>\n",
       "      <td>-0.998737</td>\n",
       "      <td>2.002529</td>\n",
       "      <td>1.673469</td>\n",
       "      <td>24.331050</td>\n",
       "      <td>1.249528</td>\n",
       "      <td>0.650614</td>\n",
       "      <td>0.954057</td>\n",
       "      <td>0.499288</td>\n",
       "      <td>0.978225</td>\n",
       "      <td>30.232433</td>\n",
       "      <td>Korkenzieher</td>\n",
       "    </tr>\n",
       "    <tr>\n",
       "      <th>2</th>\n",
       "      <td>20</td>\n",
       "      <td>0.109854</td>\n",
       "      <td>0.498771</td>\n",
       "      <td>1.251264</td>\n",
       "      <td>2</td>\n",
       "      <td>7145</td>\n",
       "      <td>418</td>\n",
       "      <td>228.538098</td>\n",
       "      <td>7.272945</td>\n",
       "      <td>3.037383</td>\n",
       "      <td>1.585366</td>\n",
       "      <td>23.769729</td>\n",
       "      <td>1.516755</td>\n",
       "      <td>0.910871</td>\n",
       "      <td>0.951853</td>\n",
       "      <td>0.739691</td>\n",
       "      <td>0.964045</td>\n",
       "      <td>16.278821</td>\n",
       "      <td>Flaschenoeffner</td>\n",
       "    </tr>\n",
       "    <tr>\n",
       "      <th>3</th>\n",
       "      <td>20</td>\n",
       "      <td>0.013830</td>\n",
       "      <td>0.253412</td>\n",
       "      <td>1.522871</td>\n",
       "      <td>3</td>\n",
       "      <td>27976</td>\n",
       "      <td>322</td>\n",
       "      <td>249.384412</td>\n",
       "      <td>7.473587</td>\n",
       "      <td>1.616767</td>\n",
       "      <td>1.802632</td>\n",
       "      <td>-0.000000</td>\n",
       "      <td>0.277719</td>\n",
       "      <td>0.761132</td>\n",
       "      <td>0.958875</td>\n",
       "      <td>0.718056</td>\n",
       "      <td>0.963532</td>\n",
       "      <td>17.720045</td>\n",
       "      <td>Dosenoeffner</td>\n",
       "    </tr>\n",
       "    <tr>\n",
       "      <th>4</th>\n",
       "      <td>19</td>\n",
       "      <td>0.008913</td>\n",
       "      <td>0.401001</td>\n",
       "      <td>1.051924</td>\n",
       "      <td>2</td>\n",
       "      <td>56244</td>\n",
       "      <td>407</td>\n",
       "      <td>252.974080</td>\n",
       "      <td>4.510240</td>\n",
       "      <td>2.314801</td>\n",
       "      <td>1.208333</td>\n",
       "      <td>-7.615773</td>\n",
       "      <td>1.008971</td>\n",
       "      <td>0.670125</td>\n",
       "      <td>0.964847</td>\n",
       "      <td>0.648434</td>\n",
       "      <td>0.975986</td>\n",
       "      <td>19.235384</td>\n",
       "      <td>Dosenoeffner</td>\n",
       "    </tr>\n",
       "  </tbody>\n",
       "</table>\n",
       "</div>"
      ],
      "text/plain": [
       "   approxAnzahl  areaRatio  circleLike  contureDistance  conturenAnzahl  \\\n",
       "0            26   0.004413    0.379250         1.003808               3   \n",
       "1            27   0.062218    0.442046         1.073125               2   \n",
       "2            20   0.109854    0.498771         1.251264               2   \n",
       "3            20   0.013830    0.253412         1.522871               3   \n",
       "4            19   0.008913    0.401001         1.051924               2   \n",
       "\n",
       "   farPoint  keyPointsAnzahl    mean_val  middlepointDistance  minimal_ratio  \\\n",
       "0     65806              434  254.011059            -2.810088       2.710155   \n",
       "1     29660              432  240.198330            -0.998737       2.002529   \n",
       "2      7145              418  228.538098             7.272945       3.037383   \n",
       "3     27976              322  249.384412             7.473587       1.616767   \n",
       "4     56244              407  252.974080             4.510240       2.314801   \n",
       "\n",
       "   minimal_ratio2  momentpointDistance  rectangleLike  seradity  seradity2  \\\n",
       "0        1.045454            -8.246211       1.020743  0.554420   0.970142   \n",
       "1        1.673469            24.331050       1.249528  0.650614   0.954057   \n",
       "2        1.585366            23.769729       1.516755  0.910871   0.951853   \n",
       "3        1.802632            -0.000000       0.277719  0.761132   0.958875   \n",
       "4        1.208333            -7.615773       1.008971  0.670125   0.964847   \n",
       "\n",
       "   solidity  solidity2    steiner             type  \n",
       "0  0.669933   0.978365   5.099020     Dosenoeffner  \n",
       "1  0.499288   0.978225  30.232433     Korkenzieher  \n",
       "2  0.739691   0.964045  16.278821  Flaschenoeffner  \n",
       "3  0.718056   0.963532  17.720045     Dosenoeffner  \n",
       "4  0.648434   0.975986  19.235384     Dosenoeffner  "
      ]
     },
     "execution_count": 456,
     "metadata": {},
     "output_type": "execute_result"
    }
   ],
   "source": [
    "df = pd.read_csv(\"extracsvAll.csv\")\n",
    "df.head()"
   ]
  },
  {
   "cell_type": "code",
   "execution_count": 457,
   "metadata": {},
   "outputs": [],
   "source": [
    "df = df.rename(columns={\"type\":\"label\"})"
   ]
  },
  {
   "cell_type": "code",
   "execution_count": 458,
   "metadata": {},
   "outputs": [
    {
     "data": {
      "text/html": [
       "<div>\n",
       "<style scoped>\n",
       "    .dataframe tbody tr th:only-of-type {\n",
       "        vertical-align: middle;\n",
       "    }\n",
       "\n",
       "    .dataframe tbody tr th {\n",
       "        vertical-align: top;\n",
       "    }\n",
       "\n",
       "    .dataframe thead th {\n",
       "        text-align: right;\n",
       "    }\n",
       "</style>\n",
       "<table border=\"1\" class=\"dataframe\">\n",
       "  <thead>\n",
       "    <tr style=\"text-align: right;\">\n",
       "      <th></th>\n",
       "      <th>approxAnzahl</th>\n",
       "      <th>areaRatio</th>\n",
       "      <th>circleLike</th>\n",
       "      <th>contureDistance</th>\n",
       "      <th>conturenAnzahl</th>\n",
       "      <th>farPoint</th>\n",
       "      <th>keyPointsAnzahl</th>\n",
       "      <th>mean_val</th>\n",
       "      <th>middlepointDistance</th>\n",
       "      <th>minimal_ratio</th>\n",
       "      <th>minimal_ratio2</th>\n",
       "      <th>momentpointDistance</th>\n",
       "      <th>rectangleLike</th>\n",
       "      <th>seradity</th>\n",
       "      <th>seradity2</th>\n",
       "      <th>solidity</th>\n",
       "      <th>solidity2</th>\n",
       "      <th>steiner</th>\n",
       "      <th>label</th>\n",
       "    </tr>\n",
       "  </thead>\n",
       "  <tbody>\n",
       "    <tr>\n",
       "      <th>0</th>\n",
       "      <td>26</td>\n",
       "      <td>0.004413</td>\n",
       "      <td>0.379250</td>\n",
       "      <td>1.003808</td>\n",
       "      <td>3</td>\n",
       "      <td>65806</td>\n",
       "      <td>434</td>\n",
       "      <td>254.011059</td>\n",
       "      <td>-2.810088</td>\n",
       "      <td>2.710155</td>\n",
       "      <td>1.045454</td>\n",
       "      <td>-8.246211</td>\n",
       "      <td>1.020743</td>\n",
       "      <td>0.554420</td>\n",
       "      <td>0.970142</td>\n",
       "      <td>0.669933</td>\n",
       "      <td>0.978365</td>\n",
       "      <td>5.099020</td>\n",
       "      <td>Dosenoeffner</td>\n",
       "    </tr>\n",
       "    <tr>\n",
       "      <th>1</th>\n",
       "      <td>27</td>\n",
       "      <td>0.062218</td>\n",
       "      <td>0.442046</td>\n",
       "      <td>1.073125</td>\n",
       "      <td>2</td>\n",
       "      <td>29660</td>\n",
       "      <td>432</td>\n",
       "      <td>240.198330</td>\n",
       "      <td>-0.998737</td>\n",
       "      <td>2.002529</td>\n",
       "      <td>1.673469</td>\n",
       "      <td>24.331050</td>\n",
       "      <td>1.249528</td>\n",
       "      <td>0.650614</td>\n",
       "      <td>0.954057</td>\n",
       "      <td>0.499288</td>\n",
       "      <td>0.978225</td>\n",
       "      <td>30.232433</td>\n",
       "      <td>Korkenzieher</td>\n",
       "    </tr>\n",
       "    <tr>\n",
       "      <th>2</th>\n",
       "      <td>20</td>\n",
       "      <td>0.109854</td>\n",
       "      <td>0.498771</td>\n",
       "      <td>1.251264</td>\n",
       "      <td>2</td>\n",
       "      <td>7145</td>\n",
       "      <td>418</td>\n",
       "      <td>228.538098</td>\n",
       "      <td>7.272945</td>\n",
       "      <td>3.037383</td>\n",
       "      <td>1.585366</td>\n",
       "      <td>23.769729</td>\n",
       "      <td>1.516755</td>\n",
       "      <td>0.910871</td>\n",
       "      <td>0.951853</td>\n",
       "      <td>0.739691</td>\n",
       "      <td>0.964045</td>\n",
       "      <td>16.278821</td>\n",
       "      <td>Flaschenoeffner</td>\n",
       "    </tr>\n",
       "    <tr>\n",
       "      <th>3</th>\n",
       "      <td>20</td>\n",
       "      <td>0.013830</td>\n",
       "      <td>0.253412</td>\n",
       "      <td>1.522871</td>\n",
       "      <td>3</td>\n",
       "      <td>27976</td>\n",
       "      <td>322</td>\n",
       "      <td>249.384412</td>\n",
       "      <td>7.473587</td>\n",
       "      <td>1.616767</td>\n",
       "      <td>1.802632</td>\n",
       "      <td>-0.000000</td>\n",
       "      <td>0.277719</td>\n",
       "      <td>0.761132</td>\n",
       "      <td>0.958875</td>\n",
       "      <td>0.718056</td>\n",
       "      <td>0.963532</td>\n",
       "      <td>17.720045</td>\n",
       "      <td>Dosenoeffner</td>\n",
       "    </tr>\n",
       "    <tr>\n",
       "      <th>4</th>\n",
       "      <td>19</td>\n",
       "      <td>0.008913</td>\n",
       "      <td>0.401001</td>\n",
       "      <td>1.051924</td>\n",
       "      <td>2</td>\n",
       "      <td>56244</td>\n",
       "      <td>407</td>\n",
       "      <td>252.974080</td>\n",
       "      <td>4.510240</td>\n",
       "      <td>2.314801</td>\n",
       "      <td>1.208333</td>\n",
       "      <td>-7.615773</td>\n",
       "      <td>1.008971</td>\n",
       "      <td>0.670125</td>\n",
       "      <td>0.964847</td>\n",
       "      <td>0.648434</td>\n",
       "      <td>0.975986</td>\n",
       "      <td>19.235384</td>\n",
       "      <td>Dosenoeffner</td>\n",
       "    </tr>\n",
       "  </tbody>\n",
       "</table>\n",
       "</div>"
      ],
      "text/plain": [
       "   approxAnzahl  areaRatio  circleLike  contureDistance  conturenAnzahl  \\\n",
       "0            26   0.004413    0.379250         1.003808               3   \n",
       "1            27   0.062218    0.442046         1.073125               2   \n",
       "2            20   0.109854    0.498771         1.251264               2   \n",
       "3            20   0.013830    0.253412         1.522871               3   \n",
       "4            19   0.008913    0.401001         1.051924               2   \n",
       "\n",
       "   farPoint  keyPointsAnzahl    mean_val  middlepointDistance  minimal_ratio  \\\n",
       "0     65806              434  254.011059            -2.810088       2.710155   \n",
       "1     29660              432  240.198330            -0.998737       2.002529   \n",
       "2      7145              418  228.538098             7.272945       3.037383   \n",
       "3     27976              322  249.384412             7.473587       1.616767   \n",
       "4     56244              407  252.974080             4.510240       2.314801   \n",
       "\n",
       "   minimal_ratio2  momentpointDistance  rectangleLike  seradity  seradity2  \\\n",
       "0        1.045454            -8.246211       1.020743  0.554420   0.970142   \n",
       "1        1.673469            24.331050       1.249528  0.650614   0.954057   \n",
       "2        1.585366            23.769729       1.516755  0.910871   0.951853   \n",
       "3        1.802632            -0.000000       0.277719  0.761132   0.958875   \n",
       "4        1.208333            -7.615773       1.008971  0.670125   0.964847   \n",
       "\n",
       "   solidity  solidity2    steiner            label  \n",
       "0  0.669933   0.978365   5.099020     Dosenoeffner  \n",
       "1  0.499288   0.978225  30.232433     Korkenzieher  \n",
       "2  0.739691   0.964045  16.278821  Flaschenoeffner  \n",
       "3  0.718056   0.963532  17.720045     Dosenoeffner  \n",
       "4  0.648434   0.975986  19.235384     Dosenoeffner  "
      ]
     },
     "execution_count": 458,
     "metadata": {},
     "output_type": "execute_result"
    }
   ],
   "source": [
    "df.head()"
   ]
  },
  {
   "cell_type": "code",
   "execution_count": 459,
   "metadata": {},
   "outputs": [
    {
     "name": "stdout",
     "output_type": "stream",
     "text": [
      "<class 'pandas.core.frame.DataFrame'>\n",
      "RangeIndex: 752 entries, 0 to 751\n",
      "Data columns (total 19 columns):\n",
      " #   Column               Non-Null Count  Dtype  \n",
      "---  ------               --------------  -----  \n",
      " 0   approxAnzahl         752 non-null    int64  \n",
      " 1   areaRatio            752 non-null    float64\n",
      " 2   circleLike           752 non-null    float64\n",
      " 3   contureDistance      752 non-null    float64\n",
      " 4   conturenAnzahl       752 non-null    int64  \n",
      " 5   farPoint             752 non-null    int64  \n",
      " 6   keyPointsAnzahl      752 non-null    int64  \n",
      " 7   mean_val             752 non-null    float64\n",
      " 8   middlepointDistance  752 non-null    float64\n",
      " 9   minimal_ratio        752 non-null    float64\n",
      " 10  minimal_ratio2       752 non-null    float64\n",
      " 11  momentpointDistance  752 non-null    float64\n",
      " 12  rectangleLike        752 non-null    float64\n",
      " 13  seradity             752 non-null    float64\n",
      " 14  seradity2            752 non-null    float64\n",
      " 15  solidity             752 non-null    float64\n",
      " 16  solidity2            752 non-null    float64\n",
      " 17  steiner              752 non-null    float64\n",
      " 18  label                752 non-null    object \n",
      "dtypes: float64(14), int64(4), object(1)\n",
      "memory usage: 111.8+ KB\n"
     ]
    }
   ],
   "source": [
    "#df = df.drop(\"seradity2\",axis=1)\n",
    "df.info()"
   ]
  },
  {
   "cell_type": "markdown",
   "metadata": {},
   "source": [
    "# train test split"
   ]
  },
  {
   "cell_type": "code",
   "execution_count": 460,
   "metadata": {},
   "outputs": [],
   "source": [
    "def train_test_split(df, test_size_in_percent):\n",
    "    \n",
    "    test_size = round(test_size_in_percent/100 * len(df))\n",
    "\n",
    "    indices = df.index.tolist()\n",
    "    test_indices = random.sample(population=indices, k=test_size)\n",
    "\n",
    "    test_df = df.loc[test_indices]\n",
    "    train_df = df.drop(test_indices)\n",
    "    \n",
    "    return train_df, test_df"
   ]
  },
  {
   "cell_type": "code",
   "execution_count": 461,
   "metadata": {},
   "outputs": [],
   "source": [
    "train_df, test_df = train_test_split(df, test_size_in_percent=10)"
   ]
  },
  {
   "cell_type": "markdown",
   "metadata": {},
   "source": [
    "# numpy zum vergleich"
   ]
  },
  {
   "cell_type": "code",
   "execution_count": 462,
   "metadata": {},
   "outputs": [
    {
     "data": {
      "text/plain": [
       "array([[27, 0.0622180253908299, 0.4420460103413104, 1.0731254690564174,\n",
       "        2, 29660, 432, 240.19832985386225, -0.9987370322443212,\n",
       "        2.0025291297206445, 1.6734694326930222, 24.33105012119288,\n",
       "        1.2495280354521354, 0.6506143762704918, 0.954056956814649,\n",
       "        0.4992875552668525, 0.978225008248103, 30.23243291566195,\n",
       "        'Korkenzieher'],\n",
       "       [20, 0.1098535286284953, 0.4987713635262302, 1.25126397633015, 2,\n",
       "        7145, 418, 228.53809834748105, 7.272945408240227,\n",
       "        3.037383177570093, 1.5853658536585369, 23.769728648009423,\n",
       "        1.5167550423321108, 0.910870883739543, 0.9518534973602496,\n",
       "        0.7396912586419169, 0.9640449438202248, 16.278820596099706,\n",
       "        'Flaschenoeffner'],\n",
       "       [20, 0.0138303441055734, 0.2534123002142241, 1.5228709758609766,\n",
       "        3, 27976, 322, 249.38441193933176, 7.473587168837972,\n",
       "        1.6167665808430385, 1.8026316915888143, -0.0, 0.2777194559252447,\n",
       "        0.7611319735769114, 0.9588745642304008, 0.7180557478881877,\n",
       "        0.963531669865643, 17.72004514666935, 'Dosenoeffner'],\n",
       "       [19, 0.0089133261274809, 0.4010013963237812, 1.0519242192091869,\n",
       "        2, 56244, 407, 252.97407975460123, 4.510239610572982,\n",
       "        2.3148008554659056, 1.2083333426993002, -7.615773105863909,\n",
       "        1.008971118248453, 0.6701248519420633, 0.964846761929162,\n",
       "        0.6484336908824964, 0.9759862778730704, 19.235384061671343,\n",
       "        'Dosenoeffner'],\n",
       "       [18, 0.1027159607561617, 0.4845024686828008, 1.1103504010663856,\n",
       "        2, 7794, 310, 230.2016698024459, 6.756756756756756, 3.7,\n",
       "        1.562902077730934, 29.698484809834994, 1.4788006433844585,\n",
       "        0.8979719191112031, 0.9477620228744912, 0.83681812872328,\n",
       "        0.9279409115474688, 10.63014581273465, 'Flaschenoeffner']],\n",
       "      dtype=object)"
      ]
     },
     "execution_count": 462,
     "metadata": {},
     "output_type": "execute_result"
    }
   ],
   "source": [
    "data = train_df.values\n",
    "data[:5]"
   ]
  },
  {
   "cell_type": "markdown",
   "metadata": {},
   "source": [
    "### gibt es nur ein label"
   ]
  },
  {
   "cell_type": "code",
   "execution_count": 463,
   "metadata": {},
   "outputs": [],
   "source": [
    "def check_purity(data):\n",
    "    \n",
    "    label_column = data[:, -1]\n",
    "    unique_classes = np.unique(label_column)\n",
    "\n",
    "    if len(unique_classes) == 1:\n",
    "        return True\n",
    "    else:\n",
    "        return False"
   ]
  },
  {
   "cell_type": "markdown",
   "metadata": {},
   "source": [
    "### falls ja kann schon klassifiziert werden"
   ]
  },
  {
   "cell_type": "code",
   "execution_count": 464,
   "metadata": {},
   "outputs": [],
   "source": [
    "def classify_data(data):\n",
    "    \n",
    "    label_column = data[:, -1]\n",
    "    unique_classes, counts_unique_classes = np.unique(label_column, return_counts=True)\n",
    "\n",
    "    index = counts_unique_classes.argmax()\n",
    "    classification = unique_classes[index]\n",
    "    \n",
    "    return classification"
   ]
  },
  {
   "cell_type": "markdown",
   "metadata": {},
   "source": [
    "### orte an denen die daten gesplittet werden können. heißt alle lücken zwischen den daten für jede spalte"
   ]
  },
  {
   "cell_type": "code",
   "execution_count": 465,
   "metadata": {},
   "outputs": [],
   "source": [
    "def get_potential_splits(data):\n",
    "    \n",
    "    potential_splits = {}\n",
    "    _, n_columns = data.shape\n",
    "    for column_index in range(n_columns - 1):        # excluding the last column which is the label\n",
    "        potential_splits[column_index] = []\n",
    "        values = data[:, column_index]\n",
    "        unique_values = np.unique(values)\n",
    "\n",
    "        for index in range(len(unique_values)):\n",
    "            if index != 0:\n",
    "                current_value = unique_values[index]\n",
    "                previous_value = unique_values[index - 1]\n",
    "                potential_split = (current_value + previous_value) / 2\n",
    "                \n",
    "                potential_splits[column_index].append(potential_split)\n",
    "    \n",
    "    return potential_splits"
   ]
  },
  {
   "cell_type": "markdown",
   "metadata": {},
   "source": [
    "### datenframe in zwei teile teilen anhand einer wertgrenze in einer spalte"
   ]
  },
  {
   "cell_type": "code",
   "execution_count": 466,
   "metadata": {},
   "outputs": [],
   "source": [
    "def split_data(data, split_column, split_value):\n",
    "    \n",
    "    split_column_values = data[:, split_column]\n",
    "\n",
    "    data_below = data[split_column_values <= split_value]\n",
    "    data_above = data[split_column_values >  split_value]\n",
    "    \n",
    "    return data_below, data_above"
   ]
  },
  {
   "cell_type": "markdown",
   "metadata": {},
   "source": [
    "### entropie berechnen für einen datensatz bzw einen teil des gesamten datensatz"
   ]
  },
  {
   "cell_type": "code",
   "execution_count": 467,
   "metadata": {},
   "outputs": [],
   "source": [
    "def calculate_entropy(data):\n",
    "    \n",
    "    label_column = data[:, -1]\n",
    "    _, counts = np.unique(label_column, return_counts=True)\n",
    "\n",
    "    probabilities = counts / counts.sum() #get durchschnitt/probability\n",
    "    entropy = sum(probabilities * -np.log2(probabilities)) #entropie funktion np componentwise operation\n",
    "     \n",
    "    return entropy"
   ]
  },
  {
   "cell_type": "markdown",
   "metadata": {},
   "source": [
    "gesamtentropie der teilentropien berechnen"
   ]
  },
  {
   "cell_type": "code",
   "execution_count": 468,
   "metadata": {},
   "outputs": [],
   "source": [
    "def calculate_overall_entropy(data_below, data_above):\n",
    "    \n",
    "    n = len(data_below) + len(data_above)\n",
    "    p_data_below = len(data_below) / n\n",
    "    p_data_above = len(data_above) / n\n",
    "\n",
    "    overall_entropy =  (p_data_below * calculate_entropy(data_below) \n",
    "                      + p_data_above * calculate_entropy(data_above))\n",
    "    \n",
    "    return overall_entropy"
   ]
  },
  {
   "cell_type": "markdown",
   "metadata": {},
   "source": [
    "### splitt mit der niedrigsten entropie berechnen"
   ]
  },
  {
   "cell_type": "code",
   "execution_count": 469,
   "metadata": {},
   "outputs": [],
   "source": [
    "def determine_best_split(data, potential_splits):\n",
    "    \n",
    "    overall_entropy = 99\n",
    "    for column_index in potential_splits:\n",
    "        for value in potential_splits[column_index]:\n",
    "            data_below, data_above = split_data(data, split_column=column_index, split_value=value)\n",
    "            current_overall_entropy = calculate_overall_entropy(data_below, data_above)\n",
    "\n",
    "            if current_overall_entropy <= overall_entropy:\n",
    "                overall_entropy = current_overall_entropy\n",
    "                best_split_column = column_index\n",
    "                best_split_value = value\n",
    "    \n",
    "    return best_split_column, best_split_value"
   ]
  },
  {
   "cell_type": "markdown",
   "metadata": {},
   "source": [
    "# tree erstellen"
   ]
  },
  {
   "cell_type": "code",
   "execution_count": 470,
   "metadata": {},
   "outputs": [],
   "source": [
    "def decision_tree_algorithm(df, counter=0, min_samples=2, max_depth=3):\n",
    "    \n",
    "    # datenframe beim ersten durchgang in numpy array umwandeln\n",
    "    if counter == 0:\n",
    "        global COLUMN_HEADERS\n",
    "        COLUMN_HEADERS = df.columns\n",
    "        data = df.values\n",
    "    else:\n",
    "        data = df           \n",
    "    \n",
    "    \n",
    "    # klassifizieren wenn daten rein sind, baum zu groß oder zu wenig datenpunkte übrig\n",
    "    if (check_purity(data)) or (len(data) < min_samples) or (counter == max_depth):\n",
    "        classification = classify_data(data)\n",
    "        \n",
    "        return classification\n",
    "\n",
    "    \n",
    "    # recursiver part \n",
    "    else:    \n",
    "        counter += 1\n",
    "\n",
    "        # daten am splitt mit der niedrigsten entropie splitten\n",
    "        potential_splits = get_potential_splits(data)\n",
    "        split_column, split_value = determine_best_split(data, potential_splits)\n",
    "        data_below, data_above = split_data(data, split_column, split_value)\n",
    "        \n",
    "        # sub-tree erstellen für diese tiefenstufe, teilt an splitvalue in größer und kleiner\n",
    "        feature_name = COLUMN_HEADERS[split_column]\n",
    "        question = str(feature_name) + \" <= \" + str(split_value)\n",
    "        sub_tree = {question: []}\n",
    "        \n",
    "        # tree in linke und rechte seite aufspalten, jeweils subtrees erstellun usw\n",
    "        yes_answer = decision_tree_algorithm(data_below, counter, min_samples, max_depth)\n",
    "        no_answer = decision_tree_algorithm(data_above, counter, min_samples, max_depth)\n",
    "        \n",
    "        # wenn linke und rechte seite gleich klassifizieren dann abbruch, ansonsten subtree an den gesamten baum anhängen\n",
    "        if yes_answer == no_answer:\n",
    "            sub_tree = yes_answer\n",
    "        else:\n",
    "            sub_tree[question].append(yes_answer)\n",
    "            sub_tree[question].append(no_answer)\n",
    "        \n",
    "        return sub_tree"
   ]
  },
  {
   "cell_type": "markdown",
   "metadata": {},
   "source": [
    "# Classify"
   ]
  },
  {
   "cell_type": "code",
   "execution_count": 471,
   "metadata": {},
   "outputs": [
    {
     "name": "stdout",
     "output_type": "stream",
     "text": [
      "{'seradity <= 0.8487558929054093': [{'minimal_ratio <= 2.144180502534514': [{'farPoint <= 44430.5': [{'rectangleLike <= 0.2800011909088761': [{'minimal_ratio <= 1.5664935826590796': ['Korkenzieher', 'Dosenoeffner']}, {'mean_val <= 249.8407039259926': [{'middlepointDistance <= 11.223879039058527': [{'rectangleLike <= 0.44860131828232924': ['Korkenzieher', {'momentpointDistance <= 17.399494936611667': ['Flaschenoeffner', {'minimal_ratio <= 1.6843533756497018': ['Flaschenoeffner', {'steiner <= 54.446343951588304': ['Korkenzieher', 'Dosenoeffner']}]}]}]}, {'steiner <= 71.26900170508316': ['Korkenzieher', 'Flaschenoeffner']}]}, {'contureDistance <= 2.246989978966929': ['Korkenzieher', 'Dosenoeffner']}]}]}, {'momentpointDistance <= 6.5': [{'steiner <= 61.00022239845694': [{'seradity2 <= 0.6256144901972116': ['Korkenzieher', 'Dosenoeffner']}, 'Flaschenoeffner']}, {'solidity2 <= 0.6405106303336292': ['Dosenoeffner', 'Korkenzieher']}]}]}, {'middlepointDistance <= 11.386944313100905': [{'rectangleLike <= 1.2989434105644893': [{'contureDistance <= 1.4743787627949203': ['Dosenoeffner', {'steiner <= 18.120619473869912': ['Dosenoeffner', 'Korkenzieher']}]}, {'farPoint <= 14031.5': [{'seradity <= 0.838437745377127': ['Korkenzieher', {'steiner <= 30.1371039947485': ['Dosenoeffner', 'Korkenzieher']}]}, {'momentpointDistance <= 15.158910531638176': [{'farPoint <= 33177.0': [{'conturenAnzahl <= 2.5': [{'solidity2 <= 0.7109411270837388': ['Korkenzieher', 'Flaschenoeffner']}, {'seradity <= 0.695698270339492': ['Flaschenoeffner', 'Dosenoeffner']}]}, 'Dosenoeffner']}, {'solidity <= 0.5234471518072652': ['Korkenzieher', 'Flaschenoeffner']}]}]}]}, {'solidity <= 0.752582162795502': [{'mean_val <= 234.6216659814747': ['Korkenzieher', {'solidity2 <= 0.9715981012658228': ['Flaschenoeffner', 'Korkenzieher']}]}, {'momentpointDistance <= 55.05251018448267': [{'seradity <= 0.800264181983906': ['Dosenoeffner', {'steiner <= 21.363557856865455': ['Flaschenoeffner', 'Korkenzieher']}]}, 'Flaschenoeffner']}]}]}]}, {'mean_val <= 248.14628361842148': [{'solidity2 <= 0.874887540097943': [{'mean_val <= 238.02266666666668': [{'momentpointDistance <= 40.59188309203678': [{'solidity <= 0.7857832153697821': ['Flaschenoeffner', 'Dosenoeffner']}, {'minimal_ratio2 <= 2.260667606404695': [{'solidity2 <= 0.793970716693289': ['Flaschenoeffner', 'Korkenzieher']}, 'Korkenzieher']}]}, 'Flaschenoeffner']}, {'areaRatio <= 0.3902354946535006': [{'areaRatio <= 0.0154921900962867': ['Korkenzieher', {'keyPointsAnzahl <= 483.5': [{'minimal_ratio2 <= 3.3862478089195536': ['Flaschenoeffner', {'steiner <= 11.04860917398253': ['Flaschenoeffner', 'Korkenzieher']}]}, 'Korkenzieher']}]}, {'steiner <= 21.73131381210073': ['Korkenzieher', 'Dosenoeffner']}]}]}, {'rectangleLike <= 0.35550685842582747': ['Flaschenoeffner', {'middlepointDistance <= 9.110347235425895': [{'solidity <= 0.8209795166586964': ['Korkenzieher', {'steiner <= 8.307886552931954': ['Flaschenoeffner', {'steiner <= 24.624228365658293': ['Dosenoeffner', 'Flaschenoeffner']}]}]}, 'Dosenoeffner']}]}]}]}\n"
     ]
    }
   ],
   "source": [
    "tree = decision_tree_algorithm(train_df,min_samples=2, max_depth=12)\n",
    "print(tree)\n"
   ]
  },
  {
   "cell_type": "code",
   "execution_count": 472,
   "metadata": {},
   "outputs": [
    {
     "data": {
      "text/plain": [
       "approxAnzahl                     19\n",
       "areaRatio                   0.08398\n",
       "circleLike                 0.445645\n",
       "contureDistance            1.151268\n",
       "conturenAnzahl                    3\n",
       "farPoint                       7142\n",
       "keyPointsAnzahl                 347\n",
       "mean_val                 233.076129\n",
       "middlepointDistance        6.005594\n",
       "minimal_ratio              5.164539\n",
       "minimal_ratio2             4.045455\n",
       "momentpointDistance       29.274562\n",
       "rectangleLike              1.364883\n",
       "seradity                   0.899838\n",
       "seradity2                  0.953652\n",
       "solidity                   0.902668\n",
       "solidity2                  0.924405\n",
       "steiner                   13.152946\n",
       "label                  Korkenzieher\n",
       "Name: 59, dtype: object"
      ]
     },
     "execution_count": 472,
     "metadata": {},
     "output_type": "execute_result"
    }
   ],
   "source": [
    "example = test_df.iloc[random.randint(0,len(test_df))]\n",
    "example"
   ]
  },
  {
   "cell_type": "markdown",
   "metadata": {},
   "source": [
    "### eintrag durch den baum laufen lassen anhand der werte die vorher ermittelt wurden"
   ]
  },
  {
   "cell_type": "code",
   "execution_count": 473,
   "metadata": {},
   "outputs": [],
   "source": [
    "def classify_example(example, tree):\n",
    "    question = list(tree.keys())[0]\n",
    "    feature_name, _ , value = question.split()\n",
    "\n",
    "    # ask question\n",
    "    if example[feature_name] <= float(value):\n",
    "        answer = tree[question][0]\n",
    "    else:\n",
    "        answer = tree[question][1]\n",
    "\n",
    "    # base case\n",
    "    if not isinstance(answer, dict):\n",
    "        return answer\n",
    "    \n",
    "    # recursive part\n",
    "    else:\n",
    "        residual_tree = answer\n",
    "        return classify_example(example, residual_tree)"
   ]
  },
  {
   "cell_type": "code",
   "execution_count": 474,
   "metadata": {},
   "outputs": [
    {
     "data": {
      "text/plain": [
       "'Korkenzieher'"
      ]
     },
     "execution_count": 474,
     "metadata": {},
     "output_type": "execute_result"
    }
   ],
   "source": [
    "classify_example(example, tree)"
   ]
  },
  {
   "cell_type": "markdown",
   "metadata": {},
   "source": [
    "### accuracy bestimmen anhand dem verhätnis richtig zu falsch klassifiziert"
   ]
  },
  {
   "cell_type": "code",
   "execution_count": 475,
   "metadata": {},
   "outputs": [],
   "source": [
    "def calculate_keynumbers(df, tree):\n",
    "\n",
    "    df[\"classification\"] = df.apply(classify_example, axis=1, args=(tree,))\n",
    "    df[\"classification_correct\"] = df[\"classification\"] == df[\"label\"]\n",
    "    overall_accuracy = df[\"classification_correct\"].mean()\n",
    "\n",
    "    label_column = df[\"label\"]\n",
    "    unique_classes, _ = np.unique(label_column, return_counts=True)\n",
    "    \n",
    "    keynumbers = []\n",
    "\n",
    "    for uc in unique_classes:\n",
    "        \n",
    "        tp_df = df.loc[(df[\"label\"] == uc) & (df[\"classification_correct\"] == True)]\n",
    "        fp_df = df.loc[(df[\"label\"] == uc) & (df[\"classification_correct\"] == False)]\n",
    "        tn_df = df.loc[(df[\"label\"] != uc) & (df[\"classification_correct\"] == True)]\n",
    "        fn_df = df.loc[(df[\"label\"] != uc) & (df[\"classification_correct\"] == False)]\n",
    "\n",
    "        true_positiv, _ = tp_df.shape\n",
    "        false_positiv, _ = fp_df.shape\n",
    "        true_negative, _ = tn_df.shape\n",
    "        false_negative, _ = fn_df.shape\n",
    "\n",
    "        recall = true_positiv / (true_positiv+false_negative)\n",
    "        precision = true_positiv / (true_positiv+false_positiv)\n",
    "        f1score = 2 * (precision * recall) / (precision + recall)\n",
    "\n",
    "        keynumbers.append({\"Label\":uc, \"recall\":recall, \"precision\":precision, \"f1score\":f1score})\n",
    "    \n",
    "    \n",
    "    return overall_accuracy, keynumbers"
   ]
  },
  {
   "cell_type": "code",
   "execution_count": 476,
   "metadata": {},
   "outputs": [
    {
     "data": {
      "text/plain": [
       "0.9466666666666667"
      ]
     },
     "execution_count": 476,
     "metadata": {},
     "output_type": "execute_result"
    }
   ],
   "source": [
    "accuracy, keynumbers = calculate_keynumbers(test_df, tree)\n",
    "accuracy"
   ]
  },
  {
   "cell_type": "code",
   "execution_count": 477,
   "metadata": {},
   "outputs": [
    {
     "data": {
      "text/html": [
       "<div>\n",
       "<style scoped>\n",
       "    .dataframe tbody tr th:only-of-type {\n",
       "        vertical-align: middle;\n",
       "    }\n",
       "\n",
       "    .dataframe tbody tr th {\n",
       "        vertical-align: top;\n",
       "    }\n",
       "\n",
       "    .dataframe thead th {\n",
       "        text-align: right;\n",
       "    }\n",
       "</style>\n",
       "<table border=\"1\" class=\"dataframe\">\n",
       "  <thead>\n",
       "    <tr style=\"text-align: right;\">\n",
       "      <th></th>\n",
       "      <th>Label</th>\n",
       "      <th>recall</th>\n",
       "      <th>precision</th>\n",
       "      <th>f1score</th>\n",
       "    </tr>\n",
       "  </thead>\n",
       "  <tbody>\n",
       "    <tr>\n",
       "      <th>0</th>\n",
       "      <td>Dosenoeffner</td>\n",
       "      <td>0.896552</td>\n",
       "      <td>0.962963</td>\n",
       "      <td>0.928571</td>\n",
       "    </tr>\n",
       "    <tr>\n",
       "      <th>1</th>\n",
       "      <td>Flaschenoeffner</td>\n",
       "      <td>0.777778</td>\n",
       "      <td>1.000000</td>\n",
       "      <td>0.875000</td>\n",
       "    </tr>\n",
       "    <tr>\n",
       "      <th>2</th>\n",
       "      <td>Korkenzieher</td>\n",
       "      <td>0.968750</td>\n",
       "      <td>0.911765</td>\n",
       "      <td>0.939394</td>\n",
       "    </tr>\n",
       "  </tbody>\n",
       "</table>\n",
       "</div>"
      ],
      "text/plain": [
       "             Label    recall  precision   f1score\n",
       "0     Dosenoeffner  0.896552   0.962963  0.928571\n",
       "1  Flaschenoeffner  0.777778   1.000000  0.875000\n",
       "2     Korkenzieher  0.968750   0.911765  0.939394"
      ]
     },
     "execution_count": 477,
     "metadata": {},
     "output_type": "execute_result"
    }
   ],
   "source": [
    "keynumbers = pd.DataFrame(keynumbers)\n",
    "keynumbers"
   ]
  },
  {
   "cell_type": "code",
   "execution_count": null,
   "metadata": {},
   "outputs": [],
   "source": []
  }
 ],
 "metadata": {
  "interpreter": {
   "hash": "55d49e96652214b7e9ba9709caae99839963d9ef77e085afa927bb268725629b"
  },
  "kernelspec": {
   "display_name": "Python 3.9.7 64-bit ('base': conda)",
   "language": "python",
   "name": "python3"
  },
  "language_info": {
   "codemirror_mode": {
    "name": "ipython",
    "version": 3
   },
   "file_extension": ".py",
   "mimetype": "text/x-python",
   "name": "python",
   "nbconvert_exporter": "python",
   "pygments_lexer": "ipython3",
   "version": "3.9.7"
  },
  "orig_nbformat": 4
 },
 "nbformat": 4,
 "nbformat_minor": 2
}
