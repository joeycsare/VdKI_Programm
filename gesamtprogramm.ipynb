{
 "cells": [
  {
   "cell_type": "markdown",
   "metadata": {},
   "source": [
    "# Gesamtprogramm"
   ]
  },
  {
   "cell_type": "code",
   "execution_count": 1,
   "metadata": {},
   "outputs": [
    {
     "name": "stdout",
     "output_type": "stream",
     "text": [
      "Added Directory bilddaten\\Dosenoeffner\n",
      "Added Directory bilddaten\\Flaschenoeffner\n",
      "Added Directory bilddaten\\Korkenzieher\n"
     ]
    }
   ],
   "source": [
    "import ImageHandler as ih\n",
    "import numpy as np\n",
    "import pandas as pd\n",
    "import random\n",
    "from ImageHandler import cv\n",
    "\n",
    "loader = ih.ImageLoader('bilddaten\\Dosenoeffner')\n",
    "loader.AddDirRealPath('bilddaten\\Flaschenoeffner')\n",
    "loader.AddDirRealPath('bilddaten\\Korkenzieher')\n",
    "\n",
    "# loader.AddDirRealPath('train\\Dosenoeffner')\n",
    "# loader.AddDirRealPath('train\\Flaschenoeffner')\n",
    "# loader.AddDirRealPath('train\\Korkenzieher')\n",
    "\n",
    "# loader.AddDirRealPath('iliasdaten\\Dosenoeffner')\n",
    "# loader.AddDirRealPath('iliasdaten\\Flaschenoeffner')\n",
    "# loader.AddDirRealPath('iliasdaten\\Korkenzieher')"
   ]
  },
  {
   "cell_type": "code",
   "execution_count": 2,
   "metadata": {},
   "outputs": [
    {
     "name": "stdout",
     "output_type": "stream",
     "text": [
      "dateilänge =  767\n",
      "Randomlänge =  3\n"
     ]
    }
   ],
   "source": [
    "loader.MakeSampleEntrys(3)\n",
    "\n",
    "print('dateilänge = ',len(loader.allImgPaths))\n",
    "print('Randomlänge = ',len(loader.sampleEntrysPath))\n",
    "\n",
    "changer = ih.ImageChanger(loader.sampleEntrysPath, 0, False)"
   ]
  },
  {
   "cell_type": "code",
   "execution_count": 3,
   "metadata": {},
   "outputs": [
    {
     "name": "stdout",
     "output_type": "stream",
     "text": [
      "Total Number of Errors = 0\n",
      "-------------Values CSV Done------------\n"
     ]
    }
   ],
   "source": [
    "\n",
    "changer.FrameByWidth(400)\n",
    "changer.BilateralFilter(10,10)\n",
    "# changer.ShowAll()\n",
    "\n",
    "changer.Normieren()\n",
    "changer.ColorAdapt(sigma=1)\n",
    "# changer.ShowAll()\n",
    "\n",
    "changer.BrightTresh()\n",
    "# changer.ShowAll()\n",
    "\n",
    "changer.Bordering(100)\n",
    "# changer.ShowAll()\n",
    "\n",
    "changer.InvertCheck()\n",
    "# changer.ShowAll()\n",
    "\n",
    "changer.Dilation(7,2)\n",
    "# changer.ShowAll()\n",
    "\n",
    "changer.Erode(7,2)\n",
    "# changer.ShowAll()\n",
    "\n",
    "changer.ConturMerkmale(type1=cv.RETR_TREE,type2=cv.CHAIN_APPROX_NONE,epsyValue=0.005)\n",
    "# changer.ShowAll()\n",
    "changer.PrintErrors(all=True)\n",
    "changer.PrintValuesToCSV('extracsvAll1.csv')"
   ]
  },
  {
   "cell_type": "code",
   "execution_count": 4,
   "metadata": {},
   "outputs": [
    {
     "data": {
      "text/html": [
       "<div>\n",
       "<style scoped>\n",
       "    .dataframe tbody tr th:only-of-type {\n",
       "        vertical-align: middle;\n",
       "    }\n",
       "\n",
       "    .dataframe tbody tr th {\n",
       "        vertical-align: top;\n",
       "    }\n",
       "\n",
       "    .dataframe thead th {\n",
       "        text-align: right;\n",
       "    }\n",
       "</style>\n",
       "<table border=\"1\" class=\"dataframe\">\n",
       "  <thead>\n",
       "    <tr style=\"text-align: right;\">\n",
       "      <th></th>\n",
       "      <th>approxAnzahl</th>\n",
       "      <th>areaRatio</th>\n",
       "      <th>circleLike</th>\n",
       "      <th>contureDistance</th>\n",
       "      <th>conturenAnzahl</th>\n",
       "      <th>farPoint</th>\n",
       "      <th>keyPointsAnzahl</th>\n",
       "      <th>mean_val</th>\n",
       "      <th>middlepointDistance</th>\n",
       "      <th>minimal_ratio</th>\n",
       "      <th>minimal_ratio2</th>\n",
       "      <th>momentpointDistance</th>\n",
       "      <th>rectangleLike</th>\n",
       "      <th>seradity</th>\n",
       "      <th>seradity2</th>\n",
       "      <th>solidity</th>\n",
       "      <th>solidity2</th>\n",
       "      <th>steiner</th>\n",
       "      <th>label</th>\n",
       "    </tr>\n",
       "  </thead>\n",
       "  <tbody>\n",
       "    <tr>\n",
       "      <th>0</th>\n",
       "      <td>26</td>\n",
       "      <td>0.004413</td>\n",
       "      <td>0.379250</td>\n",
       "      <td>1.003808</td>\n",
       "      <td>3</td>\n",
       "      <td>65806</td>\n",
       "      <td>434</td>\n",
       "      <td>254.011059</td>\n",
       "      <td>-2.810088</td>\n",
       "      <td>2.710155</td>\n",
       "      <td>1.045454</td>\n",
       "      <td>-8.246211</td>\n",
       "      <td>1.020743</td>\n",
       "      <td>0.554420</td>\n",
       "      <td>0.970142</td>\n",
       "      <td>0.669933</td>\n",
       "      <td>0.978365</td>\n",
       "      <td>5.099020</td>\n",
       "      <td>Dosenoeffner</td>\n",
       "    </tr>\n",
       "    <tr>\n",
       "      <th>1</th>\n",
       "      <td>27</td>\n",
       "      <td>0.062218</td>\n",
       "      <td>0.442046</td>\n",
       "      <td>1.073125</td>\n",
       "      <td>2</td>\n",
       "      <td>29660</td>\n",
       "      <td>432</td>\n",
       "      <td>240.198330</td>\n",
       "      <td>-0.998737</td>\n",
       "      <td>2.002529</td>\n",
       "      <td>1.673469</td>\n",
       "      <td>24.331050</td>\n",
       "      <td>1.249528</td>\n",
       "      <td>0.650614</td>\n",
       "      <td>0.954057</td>\n",
       "      <td>0.499288</td>\n",
       "      <td>0.978225</td>\n",
       "      <td>30.232433</td>\n",
       "      <td>Korkenzieher</td>\n",
       "    </tr>\n",
       "    <tr>\n",
       "      <th>2</th>\n",
       "      <td>20</td>\n",
       "      <td>0.109854</td>\n",
       "      <td>0.498771</td>\n",
       "      <td>1.251264</td>\n",
       "      <td>2</td>\n",
       "      <td>7145</td>\n",
       "      <td>418</td>\n",
       "      <td>228.538098</td>\n",
       "      <td>7.272945</td>\n",
       "      <td>3.037383</td>\n",
       "      <td>1.585366</td>\n",
       "      <td>23.769729</td>\n",
       "      <td>1.516755</td>\n",
       "      <td>0.910871</td>\n",
       "      <td>0.951853</td>\n",
       "      <td>0.739691</td>\n",
       "      <td>0.964045</td>\n",
       "      <td>16.278821</td>\n",
       "      <td>Flaschenoeffner</td>\n",
       "    </tr>\n",
       "    <tr>\n",
       "      <th>3</th>\n",
       "      <td>20</td>\n",
       "      <td>0.013830</td>\n",
       "      <td>0.253412</td>\n",
       "      <td>1.522871</td>\n",
       "      <td>3</td>\n",
       "      <td>27976</td>\n",
       "      <td>322</td>\n",
       "      <td>249.384412</td>\n",
       "      <td>7.473587</td>\n",
       "      <td>1.616767</td>\n",
       "      <td>1.802632</td>\n",
       "      <td>-0.000000</td>\n",
       "      <td>0.277719</td>\n",
       "      <td>0.761132</td>\n",
       "      <td>0.958875</td>\n",
       "      <td>0.718056</td>\n",
       "      <td>0.963532</td>\n",
       "      <td>17.720045</td>\n",
       "      <td>Dosenoeffner</td>\n",
       "    </tr>\n",
       "    <tr>\n",
       "      <th>4</th>\n",
       "      <td>19</td>\n",
       "      <td>0.008913</td>\n",
       "      <td>0.401001</td>\n",
       "      <td>1.051924</td>\n",
       "      <td>2</td>\n",
       "      <td>56244</td>\n",
       "      <td>407</td>\n",
       "      <td>252.974080</td>\n",
       "      <td>4.510240</td>\n",
       "      <td>2.314801</td>\n",
       "      <td>1.208333</td>\n",
       "      <td>-7.615773</td>\n",
       "      <td>1.008971</td>\n",
       "      <td>0.670125</td>\n",
       "      <td>0.964847</td>\n",
       "      <td>0.648434</td>\n",
       "      <td>0.975986</td>\n",
       "      <td>19.235384</td>\n",
       "      <td>Dosenoeffner</td>\n",
       "    </tr>\n",
       "  </tbody>\n",
       "</table>\n",
       "</div>"
      ],
      "text/plain": [
       "   approxAnzahl  areaRatio  circleLike  contureDistance  conturenAnzahl  \\\n",
       "0            26   0.004413    0.379250         1.003808               3   \n",
       "1            27   0.062218    0.442046         1.073125               2   \n",
       "2            20   0.109854    0.498771         1.251264               2   \n",
       "3            20   0.013830    0.253412         1.522871               3   \n",
       "4            19   0.008913    0.401001         1.051924               2   \n",
       "\n",
       "   farPoint  keyPointsAnzahl    mean_val  middlepointDistance  minimal_ratio  \\\n",
       "0     65806              434  254.011059            -2.810088       2.710155   \n",
       "1     29660              432  240.198330            -0.998737       2.002529   \n",
       "2      7145              418  228.538098             7.272945       3.037383   \n",
       "3     27976              322  249.384412             7.473587       1.616767   \n",
       "4     56244              407  252.974080             4.510240       2.314801   \n",
       "\n",
       "   minimal_ratio2  momentpointDistance  rectangleLike  seradity  seradity2  \\\n",
       "0        1.045454            -8.246211       1.020743  0.554420   0.970142   \n",
       "1        1.673469            24.331050       1.249528  0.650614   0.954057   \n",
       "2        1.585366            23.769729       1.516755  0.910871   0.951853   \n",
       "3        1.802632            -0.000000       0.277719  0.761132   0.958875   \n",
       "4        1.208333            -7.615773       1.008971  0.670125   0.964847   \n",
       "\n",
       "   solidity  solidity2    steiner            label  \n",
       "0  0.669933   0.978365   5.099020     Dosenoeffner  \n",
       "1  0.499288   0.978225  30.232433     Korkenzieher  \n",
       "2  0.739691   0.964045  16.278821  Flaschenoeffner  \n",
       "3  0.718056   0.963532  17.720045     Dosenoeffner  \n",
       "4  0.648434   0.975986  19.235384     Dosenoeffner  "
      ]
     },
     "execution_count": 4,
     "metadata": {},
     "output_type": "execute_result"
    }
   ],
   "source": [
    "df = pd.read_csv(\"extracsvAll.csv\")\n",
    "df = df.rename(columns={\"type\":\"label\"})\n",
    "df.head()"
   ]
  },
  {
   "cell_type": "code",
   "execution_count": 5,
   "metadata": {},
   "outputs": [
    {
     "name": "stdout",
     "output_type": "stream",
     "text": [
      "<class 'pandas.core.frame.DataFrame'>\n",
      "RangeIndex: 752 entries, 0 to 751\n",
      "Data columns (total 19 columns):\n",
      " #   Column               Non-Null Count  Dtype  \n",
      "---  ------               --------------  -----  \n",
      " 0   approxAnzahl         752 non-null    int64  \n",
      " 1   areaRatio            752 non-null    float64\n",
      " 2   circleLike           752 non-null    float64\n",
      " 3   contureDistance      752 non-null    float64\n",
      " 4   conturenAnzahl       752 non-null    int64  \n",
      " 5   farPoint             752 non-null    int64  \n",
      " 6   keyPointsAnzahl      752 non-null    int64  \n",
      " 7   mean_val             752 non-null    float64\n",
      " 8   middlepointDistance  752 non-null    float64\n",
      " 9   minimal_ratio        752 non-null    float64\n",
      " 10  minimal_ratio2       752 non-null    float64\n",
      " 11  momentpointDistance  752 non-null    float64\n",
      " 12  rectangleLike        752 non-null    float64\n",
      " 13  seradity             752 non-null    float64\n",
      " 14  seradity2            752 non-null    float64\n",
      " 15  solidity             752 non-null    float64\n",
      " 16  solidity2            752 non-null    float64\n",
      " 17  steiner              752 non-null    float64\n",
      " 18  label                752 non-null    object \n",
      "dtypes: float64(14), int64(4), object(1)\n",
      "memory usage: 111.8+ KB\n"
     ]
    }
   ],
   "source": [
    "#df = df.drop(\"approxAnzahl\",axis=1)\n",
    "#df = df.drop(\"areaRatio\",axis=1)\n",
    "#df = df.drop(\"circleLike\",axis=1)\n",
    "#df = df.drop(\"contureDistance\",axis=1)\n",
    "#df = df.drop(\"conturenAnzahl\",axis=1)\n",
    "#df = df.drop(\"farPoint\",axis=1)\n",
    "#df = df.drop(\"keyPointsAnzahl\",axis=1)\n",
    "#df = df.drop(\"mean_val\",axis=1)\n",
    "#df = df.drop(\"middlepointDistance\",axis=1)\n",
    "#df = df.drop(\"minimal_ratio\",axis=1)\n",
    "#df = df.drop(\"minimal_ratio2\",axis=1)\n",
    "#df = df.drop(\"momentpointDistance\",axis=1)\n",
    "#df = df.drop(\"rectangleLike\",axis=1)\n",
    "#df = df.drop(\"seradity\",axis=1)\n",
    "#df = df.drop(\"seradity2\",axis=1)\n",
    "#df = df.drop(\"solidity\",axis=1)\n",
    "#df = df.drop(\"solidity2\",axis=1)\n",
    "#df = df.drop(\"steiner\",axis=1)\n",
    "df.info()"
   ]
  },
  {
   "cell_type": "code",
   "execution_count": 6,
   "metadata": {},
   "outputs": [],
   "source": [
    "dec = ih.Dectree()\n",
    "train_df, test_df = dec.frame_split(df, test_size_in_percent=20)"
   ]
  },
  {
   "cell_type": "code",
   "execution_count": 7,
   "metadata": {},
   "outputs": [
    {
     "name": "stdout",
     "output_type": "stream",
     "text": [
      "{'seradity <= 0.8487558929054093': [{'farPoint <= 43890.5': [{'minimal_ratio <= 2.149693097787739': [{'rectangleLike <= 0.2800011909088761': [{'minimal_ratio <= 1.5664935826590796': ['Korkenzieher', 'Dosenoeffner']}, {'mean_val <= 249.8407039259926': [{'middlepointDistance <= 11.606142017935145': [{'rectangleLike <= 0.44860131828232924': ['Korkenzieher', {'mean_val <= 241.1840131948956': [{'areaRatio <= 0.08871162868147395': ['Korkenzieher', {'solidity2 <= 0.7759511416901235': [{'steiner <= 54.446343951588304': ['Korkenzieher', 'Dosenoeffner']}, 'Flaschenoeffner']}]}, 'Flaschenoeffner']}]}, 'Korkenzieher']}, {'contureDistance <= 2.246989978966929': ['Korkenzieher', 'Dosenoeffner']}]}]}, {'middlepointDistance <= 15.934968714676149': [{'rectangleLike <= 1.149788854095888': [{'solidity2 <= 0.9777126316501068': [{'steiner <= 23.963138728989417': ['Dosenoeffner', {'solidity <= 0.7892172607634369': ['Korkenzieher', 'Dosenoeffner']}]}, 'Korkenzieher']}, {'farPoint <= 14031.5': [{'seradity <= 0.838437745377127': ['Korkenzieher', {'steiner <= 30.1371039947485': ['Dosenoeffner', 'Korkenzieher']}]}, {'keyPointsAnzahl <= 435.0': [{'minimal_ratio <= 2.6972286121259836': [{'steiner <= 30.22042389953956': ['Dosenoeffner', 'Korkenzieher']}, 'Flaschenoeffner']}, {'approxAnzahl <= 27.5': [{'minimal_ratio2 <= 2.1936113049123103': [{'solidity2 <= 0.975556996144529': ['Flaschenoeffner', 'Dosenoeffner']}, 'Dosenoeffner']}, {'solidity <= 0.574512836223801': ['Korkenzieher', 'Dosenoeffner']}]}]}]}]}, {'solidity <= 0.7608900001471945': [{'solidity2 <= 0.6718623266451261': ['Flaschenoeffner', 'Korkenzieher']}, {'minimal_ratio2 <= 3.5873753567567794': ['Flaschenoeffner', 'Dosenoeffner']}]}]}]}, {'momentpointDistance <= 6.692582403567252': [{'steiner <= 61.00022239845694': [{'seradity2 <= 0.5957325314437583': ['Korkenzieher', 'Dosenoeffner']}, 'Flaschenoeffner']}, {'middlepointDistance <= -0.9039967367876662': ['Dosenoeffner', 'Korkenzieher']}]}]}, {'mean_val <= 248.14628361842148': [{'solidity2 <= 0.876496339387044': [{'mean_val <= 238.02266666666668': [{'momentpointDistance <= 40.59188309203678': [{'solidity <= 0.7857832153697821': ['Flaschenoeffner', 'Dosenoeffner']}, {'minimal_ratio2 <= 2.260667606404695': ['Flaschenoeffner', 'Korkenzieher']}]}, 'Flaschenoeffner']}, {'areaRatio <= 0.3902354946535006': [{'minimal_ratio <= 4.58561550847328': [{'keyPointsAnzahl <= 483.5': ['Flaschenoeffner', 'Korkenzieher']}, {'rectangleLike <= 1.4129570454630198': ['Korkenzieher', 'Flaschenoeffner']}]}, {'steiner <= 21.73131381210073': ['Korkenzieher', 'Dosenoeffner']}]}]}, {'rectangleLike <= 0.35550685842582747': ['Flaschenoeffner', {'momentpointDistance <= 15.077747210701755': [{'steiner <= 6.33818724320517': ['Flaschenoeffner', 'Korkenzieher']}, {'steiner <= 20.67173992052279': ['Dosenoeffner', {'seradity <= 0.8837031769870309': ['Dosenoeffner', {'steiner <= 25.047511554864492': ['Korkenzieher', 'Flaschenoeffner']}]}]}]}]}]}]}\n"
     ]
    }
   ],
   "source": [
    "tree = dec.make_decision_tree(train_df,min_samples=1, max_depth=15)\n",
    "print(tree)"
   ]
  },
  {
   "cell_type": "code",
   "execution_count": 8,
   "metadata": {},
   "outputs": [
    {
     "data": {
      "text/plain": [
       "0.92"
      ]
     },
     "execution_count": 8,
     "metadata": {},
     "output_type": "execute_result"
    }
   ],
   "source": [
    "accuracy, keynumbers = dec.calculate_keynumbers(test_df, tree)\n",
    "accuracy"
   ]
  },
  {
   "cell_type": "code",
   "execution_count": 9,
   "metadata": {},
   "outputs": [
    {
     "data": {
      "text/html": [
       "<div>\n",
       "<style scoped>\n",
       "    .dataframe tbody tr th:only-of-type {\n",
       "        vertical-align: middle;\n",
       "    }\n",
       "\n",
       "    .dataframe tbody tr th {\n",
       "        vertical-align: top;\n",
       "    }\n",
       "\n",
       "    .dataframe thead th {\n",
       "        text-align: right;\n",
       "    }\n",
       "</style>\n",
       "<table border=\"1\" class=\"dataframe\">\n",
       "  <thead>\n",
       "    <tr style=\"text-align: right;\">\n",
       "      <th></th>\n",
       "      <th>Label</th>\n",
       "      <th>recall</th>\n",
       "      <th>precision</th>\n",
       "      <th>f1score</th>\n",
       "    </tr>\n",
       "  </thead>\n",
       "  <tbody>\n",
       "    <tr>\n",
       "      <th>0</th>\n",
       "      <td>Dosenoeffner</td>\n",
       "      <td>0.814815</td>\n",
       "      <td>0.956522</td>\n",
       "      <td>0.880000</td>\n",
       "    </tr>\n",
       "    <tr>\n",
       "      <th>1</th>\n",
       "      <td>Flaschenoeffner</td>\n",
       "      <td>0.870968</td>\n",
       "      <td>0.931034</td>\n",
       "      <td>0.900000</td>\n",
       "    </tr>\n",
       "    <tr>\n",
       "      <th>2</th>\n",
       "      <td>Korkenzieher</td>\n",
       "      <td>0.869565</td>\n",
       "      <td>0.869565</td>\n",
       "      <td>0.869565</td>\n",
       "    </tr>\n",
       "  </tbody>\n",
       "</table>\n",
       "</div>"
      ],
      "text/plain": [
       "             Label    recall  precision   f1score\n",
       "0     Dosenoeffner  0.814815   0.956522  0.880000\n",
       "1  Flaschenoeffner  0.870968   0.931034  0.900000\n",
       "2     Korkenzieher  0.869565   0.869565  0.869565"
      ]
     },
     "execution_count": 9,
     "metadata": {},
     "output_type": "execute_result"
    }
   ],
   "source": [
    "keynumbers = pd.DataFrame(keynumbers)\n",
    "keynumbers"
   ]
  }
 ],
 "metadata": {
  "interpreter": {
   "hash": "55d49e96652214b7e9ba9709caae99839963d9ef77e085afa927bb268725629b"
  },
  "kernelspec": {
   "display_name": "Python 3.9.7 64-bit ('base': conda)",
   "language": "python",
   "name": "python3"
  },
  "language_info": {
   "codemirror_mode": {
    "name": "ipython",
    "version": 3
   },
   "file_extension": ".py",
   "mimetype": "text/x-python",
   "name": "python",
   "nbconvert_exporter": "python",
   "pygments_lexer": "ipython3",
   "version": "3.9.7"
  },
  "orig_nbformat": 4
 },
 "nbformat": 4,
 "nbformat_minor": 2
}
