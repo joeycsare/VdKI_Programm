{
 "cells": [
  {
   "cell_type": "markdown",
   "metadata": {},
   "source": [
    "# Merkmale erstellen"
   ]
  },
  {
   "cell_type": "code",
   "execution_count": 1,
   "metadata": {},
   "outputs": [
    {
     "name": "stdout",
     "output_type": "stream",
     "text": [
      "Added Directory bilddaten\\Dosenoeffner\n",
      "Added Directory bilddaten\\Flaschenoeffner\n",
      "Added Directory bilddaten\\Korkenzieher\n"
     ]
    }
   ],
   "source": [
    "import ImageHandler as ih\n",
    "from ImageHandler import cv\n",
    "import numpy as np\n",
    "import matplotlib.pyplot as plt\n",
    "import pandas as pd\n",
    "\n",
    "loader = ih.ImageLoader('bilddaten\\Dosenoeffner')\n",
    "loader.AddDirRealPath('bilddaten\\Flaschenoeffner')\n",
    "loader.AddDirRealPath('bilddaten\\Korkenzieher')\n",
    "\n",
    "# loader.AddDirRealPath('train\\Dosenoeffner')\n",
    "# loader.AddDirRealPath('train\\Flaschenoeffner')\n",
    "# loader.AddDirRealPath('train\\Korkenzieher')\n",
    "\n",
    "# loader.AddDirRealPath('iliasdaten\\Dosenoeffner')\n",
    "# loader.AddDirRealPath('iliasdaten\\Flaschenoeffner')\n",
    "# loader.AddDirRealPath('iliasdaten\\Korkenzieher')"
   ]
  },
  {
   "cell_type": "code",
   "execution_count": 2,
   "metadata": {},
   "outputs": [
    {
     "name": "stdout",
     "output_type": "stream",
     "text": [
      "dateilänge =  767\n",
      "Randomlänge =  10\n"
     ]
    }
   ],
   "source": [
    "loader.MakeSampleEntrys(10)\n",
    "\n",
    "print('dateilänge = ',len(loader.allImgPaths))\n",
    "print('Randomlänge = ',len(loader.sampleEntrysPath))\n",
    "changer = ih.ImageChanger(loader.sampleEntrysPath, 0, False)"
   ]
  },
  {
   "cell_type": "code",
   "execution_count": 3,
   "metadata": {},
   "outputs": [
    {
     "name": "stdout",
     "output_type": "stream",
     "text": [
      "Total Number of Errors = 1\n",
      "ERROR: Farpoint 1 4--------------- AttributeError(\"'NoneType' object has no attribute 'shape'\")\n",
      "-------------Values CSV Done------------\n"
     ]
    }
   ],
   "source": [
    "\n",
    "changer.FrameByWidth(400)\n",
    "changer.BilateralFilter(10,10)\n",
    "changer.Normieren()\n",
    "changer.ColorMerkmale(sigma=1)\n",
    "changer.BrightTresh()\n",
    "changer.Bordering(100)\n",
    "changer.Dilation(7,2)\n",
    "changer.Erode(7,2)\n",
    "changer.ConturMerkmale(type1=cv.RETR_TREE,type2=cv.CHAIN_APPROX_NONE,epsyValue=0.005)\n",
    "changer.PrintErrors(all=True)\n",
    "changer.PrintValuesToCSV('extracsvAll1.csv')"
   ]
  }
 ],
 "metadata": {
  "interpreter": {
   "hash": "55d49e96652214b7e9ba9709caae99839963d9ef77e085afa927bb268725629b"
  },
  "kernelspec": {
   "display_name": "Python 3.9.7 64-bit ('base': conda)",
   "language": "python",
   "name": "python3"
  },
  "language_info": {
   "codemirror_mode": {
    "name": "ipython",
    "version": 3
   },
   "file_extension": ".py",
   "mimetype": "text/x-python",
   "name": "python",
   "nbconvert_exporter": "python",
   "pygments_lexer": "ipython3",
   "version": "3.9.7"
  },
  "orig_nbformat": 4
 },
 "nbformat": 4,
 "nbformat_minor": 2
}
