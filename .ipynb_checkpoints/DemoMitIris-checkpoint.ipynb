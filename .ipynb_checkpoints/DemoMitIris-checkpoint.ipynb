{
 "cells": [
  {
   "cell_type": "markdown",
   "metadata": {},
   "source": [
    "# DemoMitIris "
   ]
  },
  {
   "cell_type": "code",
   "execution_count": 1,
   "metadata": {},
   "outputs": [],
   "source": [
    "import pandas as pd\n",
    "import numpy as np\n",
    "import matplotlib.pyplot as plt\n",
    "import sklearn"
   ]
  },
  {
   "cell_type": "code",
   "execution_count": 2,
   "metadata": {},
   "outputs": [],
   "source": [
    "iris_df = pd.read_csv('output.csv')"
   ]
  },
  {
   "cell_type": "code",
   "execution_count": 3,
   "metadata": {},
   "outputs": [
    {
     "data": {
      "text/html": [
       "<div>\n",
       "<style scoped>\n",
       "    .dataframe tbody tr th:only-of-type {\n",
       "        vertical-align: middle;\n",
       "    }\n",
       "\n",
       "    .dataframe tbody tr th {\n",
       "        vertical-align: top;\n",
       "    }\n",
       "\n",
       "    .dataframe thead th {\n",
       "        text-align: right;\n",
       "    }\n",
       "</style>\n",
       "<table border=\"1\" class=\"dataframe\">\n",
       "  <thead>\n",
       "    <tr style=\"text-align: right;\">\n",
       "      <th></th>\n",
       "      <th>aspectR</th>\n",
       "      <th>boxDimensions</th>\n",
       "      <th>contureX</th>\n",
       "      <th>contureY</th>\n",
       "      <th>index</th>\n",
       "      <th>perimeter</th>\n",
       "      <th>steiner</th>\n",
       "      <th>type</th>\n",
       "    </tr>\n",
       "  </thead>\n",
       "  <tbody>\n",
       "    <tr>\n",
       "      <th>0</th>\n",
       "      <td>2.391841</td>\n",
       "      <td>(373.8123474121094, 156.28643798828125)</td>\n",
       "      <td>249</td>\n",
       "      <td>174</td>\n",
       "      <td>276</td>\n",
       "      <td>1212.492421</td>\n",
       "      <td>13.928388</td>\n",
       "      <td>Flaschenoeffner</td>\n",
       "    </tr>\n",
       "    <tr>\n",
       "      <th>1</th>\n",
       "      <td>1.120773</td>\n",
       "      <td>(464.0, 414.0)</td>\n",
       "      <td>138</td>\n",
       "      <td>250</td>\n",
       "      <td>337</td>\n",
       "      <td>1890.933109</td>\n",
       "      <td>113.004425</td>\n",
       "      <td>Korkenzieher</td>\n",
       "    </tr>\n",
       "    <tr>\n",
       "      <th>2</th>\n",
       "      <td>1.315248</td>\n",
       "      <td>(294.31121826171875, 387.0921325683594)</td>\n",
       "      <td>203</td>\n",
       "      <td>201</td>\n",
       "      <td>355</td>\n",
       "      <td>1860.770763</td>\n",
       "      <td>22.847319</td>\n",
       "      <td>Korkenzieher</td>\n",
       "    </tr>\n",
       "    <tr>\n",
       "      <th>3</th>\n",
       "      <td>1.214401</td>\n",
       "      <td>(468.27618408203125, 385.6026306152344)</td>\n",
       "      <td>217</td>\n",
       "      <td>169</td>\n",
       "      <td>137</td>\n",
       "      <td>2149.263183</td>\n",
       "      <td>5.000000</td>\n",
       "      <td>Dosenoeffner</td>\n",
       "    </tr>\n",
       "    <tr>\n",
       "      <th>4</th>\n",
       "      <td>1.549235</td>\n",
       "      <td>(426.7472839355469, 275.45672607421875)</td>\n",
       "      <td>196</td>\n",
       "      <td>213</td>\n",
       "      <td>311</td>\n",
       "      <td>2450.719028</td>\n",
       "      <td>26.476405</td>\n",
       "      <td>Korkenzieher</td>\n",
       "    </tr>\n",
       "  </tbody>\n",
       "</table>\n",
       "</div>"
      ],
      "text/plain": [
       "    aspectR                            boxDimensions  contureX  contureY  \\\n",
       "0  2.391841  (373.8123474121094, 156.28643798828125)       249       174   \n",
       "1  1.120773                           (464.0, 414.0)       138       250   \n",
       "2  1.315248  (294.31121826171875, 387.0921325683594)       203       201   \n",
       "3  1.214401  (468.27618408203125, 385.6026306152344)       217       169   \n",
       "4  1.549235  (426.7472839355469, 275.45672607421875)       196       213   \n",
       "\n",
       "   index    perimeter     steiner             type  \n",
       "0    276  1212.492421   13.928388  Flaschenoeffner  \n",
       "1    337  1890.933109  113.004425     Korkenzieher  \n",
       "2    355  1860.770763   22.847319     Korkenzieher  \n",
       "3    137  2149.263183    5.000000     Dosenoeffner  \n",
       "4    311  2450.719028   26.476405     Korkenzieher  "
      ]
     },
     "execution_count": 3,
     "metadata": {},
     "output_type": "execute_result"
    }
   ],
   "source": [
    "iris_df.head()"
   ]
  },
  {
   "cell_type": "code",
   "execution_count": 4,
   "metadata": {},
   "outputs": [
    {
     "data": {
      "text/html": [
       "<div>\n",
       "<style scoped>\n",
       "    .dataframe tbody tr th:only-of-type {\n",
       "        vertical-align: middle;\n",
       "    }\n",
       "\n",
       "    .dataframe tbody tr th {\n",
       "        vertical-align: top;\n",
       "    }\n",
       "\n",
       "    .dataframe thead th {\n",
       "        text-align: right;\n",
       "    }\n",
       "</style>\n",
       "<table border=\"1\" class=\"dataframe\">\n",
       "  <thead>\n",
       "    <tr style=\"text-align: right;\">\n",
       "      <th></th>\n",
       "      <th>aspectR</th>\n",
       "      <th>boxDimensions</th>\n",
       "      <th>contureX</th>\n",
       "      <th>contureY</th>\n",
       "      <th>index</th>\n",
       "      <th>perimeter</th>\n",
       "      <th>steiner</th>\n",
       "      <th>type</th>\n",
       "    </tr>\n",
       "  </thead>\n",
       "  <tbody>\n",
       "    <tr>\n",
       "      <th>0</th>\n",
       "      <td>2.391841</td>\n",
       "      <td>(373.8123474121094, 156.28643798828125)</td>\n",
       "      <td>249</td>\n",
       "      <td>174</td>\n",
       "      <td>276</td>\n",
       "      <td>1212.492421</td>\n",
       "      <td>13.928388</td>\n",
       "      <td>Flaschenoeffner</td>\n",
       "    </tr>\n",
       "    <tr>\n",
       "      <th>1</th>\n",
       "      <td>1.120773</td>\n",
       "      <td>(464.0, 414.0)</td>\n",
       "      <td>138</td>\n",
       "      <td>250</td>\n",
       "      <td>337</td>\n",
       "      <td>1890.933109</td>\n",
       "      <td>113.004425</td>\n",
       "      <td>Korkenzieher</td>\n",
       "    </tr>\n",
       "    <tr>\n",
       "      <th>2</th>\n",
       "      <td>1.315248</td>\n",
       "      <td>(294.31121826171875, 387.0921325683594)</td>\n",
       "      <td>203</td>\n",
       "      <td>201</td>\n",
       "      <td>355</td>\n",
       "      <td>1860.770763</td>\n",
       "      <td>22.847319</td>\n",
       "      <td>Korkenzieher</td>\n",
       "    </tr>\n",
       "    <tr>\n",
       "      <th>3</th>\n",
       "      <td>1.214401</td>\n",
       "      <td>(468.27618408203125, 385.6026306152344)</td>\n",
       "      <td>217</td>\n",
       "      <td>169</td>\n",
       "      <td>137</td>\n",
       "      <td>2149.263183</td>\n",
       "      <td>5.000000</td>\n",
       "      <td>Dosenoeffner</td>\n",
       "    </tr>\n",
       "    <tr>\n",
       "      <th>4</th>\n",
       "      <td>1.549235</td>\n",
       "      <td>(426.7472839355469, 275.45672607421875)</td>\n",
       "      <td>196</td>\n",
       "      <td>213</td>\n",
       "      <td>311</td>\n",
       "      <td>2450.719028</td>\n",
       "      <td>26.476405</td>\n",
       "      <td>Korkenzieher</td>\n",
       "    </tr>\n",
       "    <tr>\n",
       "      <th>5</th>\n",
       "      <td>3.250000</td>\n",
       "      <td>(12.0, 39.0)</td>\n",
       "      <td>487</td>\n",
       "      <td>28</td>\n",
       "      <td>243</td>\n",
       "      <td>143.497474</td>\n",
       "      <td>1.000000</td>\n",
       "      <td>Flaschenoeffner</td>\n",
       "    </tr>\n",
       "    <tr>\n",
       "      <th>6</th>\n",
       "      <td>1.578636</td>\n",
       "      <td>(495.8787841796875, 314.11859130859375)</td>\n",
       "      <td>264</td>\n",
       "      <td>268</td>\n",
       "      <td>144</td>\n",
       "      <td>1950.618524</td>\n",
       "      <td>24.515301</td>\n",
       "      <td>Dosenoeffner</td>\n",
       "    </tr>\n",
       "    <tr>\n",
       "      <th>7</th>\n",
       "      <td>1.338816</td>\n",
       "      <td>(343.8909912109375, 460.4066162109375)</td>\n",
       "      <td>255</td>\n",
       "      <td>276</td>\n",
       "      <td>365</td>\n",
       "      <td>2666.927177</td>\n",
       "      <td>33.241540</td>\n",
       "      <td>Korkenzieher</td>\n",
       "    </tr>\n",
       "    <tr>\n",
       "      <th>8</th>\n",
       "      <td>5.045210</td>\n",
       "      <td>(167.94117736816406, 33.28725051879883)</td>\n",
       "      <td>414</td>\n",
       "      <td>91</td>\n",
       "      <td>258</td>\n",
       "      <td>413.989894</td>\n",
       "      <td>19.798990</td>\n",
       "      <td>Flaschenoeffner</td>\n",
       "    </tr>\n",
       "    <tr>\n",
       "      <th>9</th>\n",
       "      <td>3.991623</td>\n",
       "      <td>(100.00276184082031, 399.1733093261719)</td>\n",
       "      <td>248</td>\n",
       "      <td>206</td>\n",
       "      <td>157</td>\n",
       "      <td>1081.830515</td>\n",
       "      <td>7.071068</td>\n",
       "      <td>Flaschenoeffner</td>\n",
       "    </tr>\n",
       "    <tr>\n",
       "      <th>10</th>\n",
       "      <td>1.129684</td>\n",
       "      <td>(267.11053466796875, 236.44712829589844)</td>\n",
       "      <td>250</td>\n",
       "      <td>269</td>\n",
       "      <td>456</td>\n",
       "      <td>1504.545367</td>\n",
       "      <td>32.015621</td>\n",
       "      <td>Korkenzieher</td>\n",
       "    </tr>\n",
       "    <tr>\n",
       "      <th>11</th>\n",
       "      <td>1.785571</td>\n",
       "      <td>(891.0, 499.0)</td>\n",
       "      <td>279</td>\n",
       "      <td>439</td>\n",
       "      <td>99</td>\n",
       "      <td>3949.712764</td>\n",
       "      <td>30.594117</td>\n",
       "      <td>Dosenoeffner</td>\n",
       "    </tr>\n",
       "    <tr>\n",
       "      <th>12</th>\n",
       "      <td>2.595587</td>\n",
       "      <td>(440.1925048828125, 169.59263610839844)</td>\n",
       "      <td>244</td>\n",
       "      <td>247</td>\n",
       "      <td>60</td>\n",
       "      <td>2359.082383</td>\n",
       "      <td>16.763055</td>\n",
       "      <td>Dosenoeffner</td>\n",
       "    </tr>\n",
       "    <tr>\n",
       "      <th>13</th>\n",
       "      <td>1.222222</td>\n",
       "      <td>(44.0, 36.0)</td>\n",
       "      <td>10</td>\n",
       "      <td>14</td>\n",
       "      <td>42</td>\n",
       "      <td>181.982755</td>\n",
       "      <td>11.313708</td>\n",
       "      <td>Dosenoeffner</td>\n",
       "    </tr>\n",
       "    <tr>\n",
       "      <th>14</th>\n",
       "      <td>3.575809</td>\n",
       "      <td>(160.58145141601562, 574.2086791992188)</td>\n",
       "      <td>249</td>\n",
       "      <td>248</td>\n",
       "      <td>181</td>\n",
       "      <td>1574.226601</td>\n",
       "      <td>3.605551</td>\n",
       "      <td>Flaschenoeffner</td>\n",
       "    </tr>\n",
       "    <tr>\n",
       "      <th>15</th>\n",
       "      <td>2.039579</td>\n",
       "      <td>(234.2752227783203, 477.82281494140625)</td>\n",
       "      <td>237</td>\n",
       "      <td>192</td>\n",
       "      <td>457</td>\n",
       "      <td>1408.912898</td>\n",
       "      <td>20.615528</td>\n",
       "      <td>Korkenzieher</td>\n",
       "    </tr>\n",
       "    <tr>\n",
       "      <th>16</th>\n",
       "      <td>2.265992</td>\n",
       "      <td>(542.3109130859375, 239.3260498046875)</td>\n",
       "      <td>224</td>\n",
       "      <td>240</td>\n",
       "      <td>22</td>\n",
       "      <td>1877.706834</td>\n",
       "      <td>36.013886</td>\n",
       "      <td>Dosenoeffner</td>\n",
       "    </tr>\n",
       "    <tr>\n",
       "      <th>17</th>\n",
       "      <td>7.492324</td>\n",
       "      <td>(62.35669708251953, 467.19659423828125)</td>\n",
       "      <td>259</td>\n",
       "      <td>251</td>\n",
       "      <td>206</td>\n",
       "      <td>1554.190906</td>\n",
       "      <td>8.246211</td>\n",
       "      <td>Flaschenoeffner</td>\n",
       "    </tr>\n",
       "    <tr>\n",
       "      <th>18</th>\n",
       "      <td>3.021784</td>\n",
       "      <td>(473.32220458984375, 156.63668823242188)</td>\n",
       "      <td>298</td>\n",
       "      <td>252</td>\n",
       "      <td>368</td>\n",
       "      <td>2195.498684</td>\n",
       "      <td>47.853944</td>\n",
       "      <td>Korkenzieher</td>\n",
       "    </tr>\n",
       "    <tr>\n",
       "      <th>19</th>\n",
       "      <td>2.818305</td>\n",
       "      <td>(147.53915405273438, 415.8102722167969)</td>\n",
       "      <td>256</td>\n",
       "      <td>253</td>\n",
       "      <td>145</td>\n",
       "      <td>2085.317884</td>\n",
       "      <td>19.416488</td>\n",
       "      <td>Dosenoeffner</td>\n",
       "    </tr>\n",
       "  </tbody>\n",
       "</table>\n",
       "</div>"
      ],
      "text/plain": [
       "     aspectR                             boxDimensions  contureX  contureY  \\\n",
       "0   2.391841   (373.8123474121094, 156.28643798828125)       249       174   \n",
       "1   1.120773                            (464.0, 414.0)       138       250   \n",
       "2   1.315248   (294.31121826171875, 387.0921325683594)       203       201   \n",
       "3   1.214401   (468.27618408203125, 385.6026306152344)       217       169   \n",
       "4   1.549235   (426.7472839355469, 275.45672607421875)       196       213   \n",
       "5   3.250000                              (12.0, 39.0)       487        28   \n",
       "6   1.578636   (495.8787841796875, 314.11859130859375)       264       268   \n",
       "7   1.338816    (343.8909912109375, 460.4066162109375)       255       276   \n",
       "8   5.045210   (167.94117736816406, 33.28725051879883)       414        91   \n",
       "9   3.991623   (100.00276184082031, 399.1733093261719)       248       206   \n",
       "10  1.129684  (267.11053466796875, 236.44712829589844)       250       269   \n",
       "11  1.785571                            (891.0, 499.0)       279       439   \n",
       "12  2.595587   (440.1925048828125, 169.59263610839844)       244       247   \n",
       "13  1.222222                              (44.0, 36.0)        10        14   \n",
       "14  3.575809   (160.58145141601562, 574.2086791992188)       249       248   \n",
       "15  2.039579   (234.2752227783203, 477.82281494140625)       237       192   \n",
       "16  2.265992    (542.3109130859375, 239.3260498046875)       224       240   \n",
       "17  7.492324   (62.35669708251953, 467.19659423828125)       259       251   \n",
       "18  3.021784  (473.32220458984375, 156.63668823242188)       298       252   \n",
       "19  2.818305   (147.53915405273438, 415.8102722167969)       256       253   \n",
       "\n",
       "    index    perimeter     steiner             type  \n",
       "0     276  1212.492421   13.928388  Flaschenoeffner  \n",
       "1     337  1890.933109  113.004425     Korkenzieher  \n",
       "2     355  1860.770763   22.847319     Korkenzieher  \n",
       "3     137  2149.263183    5.000000     Dosenoeffner  \n",
       "4     311  2450.719028   26.476405     Korkenzieher  \n",
       "5     243   143.497474    1.000000  Flaschenoeffner  \n",
       "6     144  1950.618524   24.515301     Dosenoeffner  \n",
       "7     365  2666.927177   33.241540     Korkenzieher  \n",
       "8     258   413.989894   19.798990  Flaschenoeffner  \n",
       "9     157  1081.830515    7.071068  Flaschenoeffner  \n",
       "10    456  1504.545367   32.015621     Korkenzieher  \n",
       "11     99  3949.712764   30.594117     Dosenoeffner  \n",
       "12     60  2359.082383   16.763055     Dosenoeffner  \n",
       "13     42   181.982755   11.313708     Dosenoeffner  \n",
       "14    181  1574.226601    3.605551  Flaschenoeffner  \n",
       "15    457  1408.912898   20.615528     Korkenzieher  \n",
       "16     22  1877.706834   36.013886     Dosenoeffner  \n",
       "17    206  1554.190906    8.246211  Flaschenoeffner  \n",
       "18    368  2195.498684   47.853944     Korkenzieher  \n",
       "19    145  2085.317884   19.416488     Dosenoeffner  "
      ]
     },
     "execution_count": 4,
     "metadata": {},
     "output_type": "execute_result"
    }
   ],
   "source": [
    "iris_df.head(20)"
   ]
  },
  {
   "cell_type": "code",
   "execution_count": 5,
   "metadata": {},
   "outputs": [
    {
     "data": {
      "text/plain": [
       "Index(['aspectR', 'boxDimensions', 'contureX', 'contureY', 'index',\n",
       "       'perimeter', 'steiner', 'type'],\n",
       "      dtype='object')"
      ]
     },
     "execution_count": 5,
     "metadata": {},
     "output_type": "execute_result"
    }
   ],
   "source": [
    "iris_df.columns "
   ]
  },
  {
   "cell_type": "code",
   "execution_count": 6,
   "metadata": {},
   "outputs": [
    {
     "data": {
      "text/html": [
       "<div>\n",
       "<style scoped>\n",
       "    .dataframe tbody tr th:only-of-type {\n",
       "        vertical-align: middle;\n",
       "    }\n",
       "\n",
       "    .dataframe tbody tr th {\n",
       "        vertical-align: top;\n",
       "    }\n",
       "\n",
       "    .dataframe thead th {\n",
       "        text-align: right;\n",
       "    }\n",
       "</style>\n",
       "<table border=\"1\" class=\"dataframe\">\n",
       "  <thead>\n",
       "    <tr style=\"text-align: right;\">\n",
       "      <th></th>\n",
       "      <th>aspectR</th>\n",
       "      <th>contureX</th>\n",
       "      <th>contureY</th>\n",
       "      <th>index</th>\n",
       "      <th>perimeter</th>\n",
       "      <th>steiner</th>\n",
       "    </tr>\n",
       "  </thead>\n",
       "  <tbody>\n",
       "    <tr>\n",
       "      <th>count</th>\n",
       "      <td>100.000000</td>\n",
       "      <td>100.000000</td>\n",
       "      <td>100.000000</td>\n",
       "      <td>100.000000</td>\n",
       "      <td>100.000000</td>\n",
       "      <td>100.000000</td>\n",
       "    </tr>\n",
       "    <tr>\n",
       "      <th>mean</th>\n",
       "      <td>2.940418</td>\n",
       "      <td>247.510000</td>\n",
       "      <td>236.050000</td>\n",
       "      <td>220.920000</td>\n",
       "      <td>1766.346405</td>\n",
       "      <td>23.663416</td>\n",
       "    </tr>\n",
       "    <tr>\n",
       "      <th>std</th>\n",
       "      <td>2.157470</td>\n",
       "      <td>58.435753</td>\n",
       "      <td>82.142691</td>\n",
       "      <td>124.691189</td>\n",
       "      <td>832.041055</td>\n",
       "      <td>23.172012</td>\n",
       "    </tr>\n",
       "    <tr>\n",
       "      <th>min</th>\n",
       "      <td>1.000000</td>\n",
       "      <td>10.000000</td>\n",
       "      <td>14.000000</td>\n",
       "      <td>18.000000</td>\n",
       "      <td>64.284271</td>\n",
       "      <td>0.000000</td>\n",
       "    </tr>\n",
       "    <tr>\n",
       "      <th>25%</th>\n",
       "      <td>1.814267</td>\n",
       "      <td>238.000000</td>\n",
       "      <td>211.250000</td>\n",
       "      <td>120.500000</td>\n",
       "      <td>1295.400100</td>\n",
       "      <td>6.980352</td>\n",
       "    </tr>\n",
       "    <tr>\n",
       "      <th>50%</th>\n",
       "      <td>2.515196</td>\n",
       "      <td>249.000000</td>\n",
       "      <td>246.000000</td>\n",
       "      <td>220.500000</td>\n",
       "      <td>1784.650924</td>\n",
       "      <td>19.416488</td>\n",
       "    </tr>\n",
       "    <tr>\n",
       "      <th>75%</th>\n",
       "      <td>3.401558</td>\n",
       "      <td>259.250000</td>\n",
       "      <td>256.500000</td>\n",
       "      <td>321.250000</td>\n",
       "      <td>2215.675310</td>\n",
       "      <td>31.494595</td>\n",
       "    </tr>\n",
       "    <tr>\n",
       "      <th>max</th>\n",
       "      <td>17.777778</td>\n",
       "      <td>487.000000</td>\n",
       "      <td>529.000000</td>\n",
       "      <td>457.000000</td>\n",
       "      <td>4197.656305</td>\n",
       "      <td>113.004425</td>\n",
       "    </tr>\n",
       "  </tbody>\n",
       "</table>\n",
       "</div>"
      ],
      "text/plain": [
       "          aspectR    contureX    contureY       index    perimeter     steiner\n",
       "count  100.000000  100.000000  100.000000  100.000000   100.000000  100.000000\n",
       "mean     2.940418  247.510000  236.050000  220.920000  1766.346405   23.663416\n",
       "std      2.157470   58.435753   82.142691  124.691189   832.041055   23.172012\n",
       "min      1.000000   10.000000   14.000000   18.000000    64.284271    0.000000\n",
       "25%      1.814267  238.000000  211.250000  120.500000  1295.400100    6.980352\n",
       "50%      2.515196  249.000000  246.000000  220.500000  1784.650924   19.416488\n",
       "75%      3.401558  259.250000  256.500000  321.250000  2215.675310   31.494595\n",
       "max     17.777778  487.000000  529.000000  457.000000  4197.656305  113.004425"
      ]
     },
     "execution_count": 6,
     "metadata": {},
     "output_type": "execute_result"
    }
   ],
   "source": [
    "iris_df.describe()"
   ]
  },
  {
   "cell_type": "code",
   "execution_count": 7,
   "metadata": {},
   "outputs": [
    {
     "data": {
      "text/plain": [
       "(100, 8)"
      ]
     },
     "execution_count": 7,
     "metadata": {},
     "output_type": "execute_result"
    }
   ],
   "source": [
    "iris_df.shape #anzahl Datensätze udn Spalten"
   ]
  },
  {
   "cell_type": "markdown",
   "metadata": {},
   "source": [
    "Scatterplot von 2 Merkmalen: Shaftblattlänge zu Breite\n",
    "Verschiedene Species unterschiedlich einfärben\n",
    "--> Klassifikationsmöglichkeit beurteilen"
   ]
  },
  {
   "cell_type": "code",
   "execution_count": 8,
   "metadata": {},
   "outputs": [],
   "source": [
    "colors = {'Dosenoeffner':'r','Flaschenoeffner':'g','Korkenzieher':'b'} # Farben für Kategorien"
   ]
  },
  {
   "cell_type": "code",
   "execution_count": 9,
   "metadata": {},
   "outputs": [
    {
     "data": {
      "text/plain": [
       "Text(0, 0.5, 'Sepal_Width')"
      ]
     },
     "execution_count": 9,
     "metadata": {},
     "output_type": "execute_result"
    },
    {
     "data": {
      "image/png": "[encoded data removed]",
      "text/plain": [
       "<Figure size 720x360 with 1 Axes>"
      ]
     },
     "metadata": {
      "needs_background": "light"
     },
     "output_type": "display_data"
    }
   ],
   "source": [
    "fig, ax = plt.subplots(figsize=(10,5)) #Größe Plot  konfigurieren\n",
    "\n",
    "for i  in range(len(iris_df['aspectR'])):\n",
    "    ax.scatter(iris_df['perimeter'][i],\n",
    "               iris_df['steiner'][i],\n",
    "               color=colors[iris_df['type'][i]])\n",
    "    \n",
    "ax.set_title('Iris Daten')\n",
    "ax.set_xlabel('Sepal_length')\n",
    "ax.set_ylabel('Sepal_Width')"
   ]
  },
  {
   "cell_type": "markdown",
   "metadata": {},
   "source": [
    "Klassen statt mit Namen mit Zahlen bezeichnen"
   ]
  },
  {
   "cell_type": "code",
   "execution_count": 10,
   "metadata": {},
   "outputs": [],
   "source": [
    "iris_names_df = iris_df #alten dataframe sichern"
   ]
  },
  {
   "cell_type": "code",
   "execution_count": 11,
   "metadata": {},
   "outputs": [
    {
     "data": {
      "text/html": [
       "<div>\n",
       "<style scoped>\n",
       "    .dataframe tbody tr th:only-of-type {\n",
       "        vertical-align: middle;\n",
       "    }\n",
       "\n",
       "    .dataframe tbody tr th {\n",
       "        vertical-align: top;\n",
       "    }\n",
       "\n",
       "    .dataframe thead th {\n",
       "        text-align: right;\n",
       "    }\n",
       "</style>\n",
       "<table border=\"1\" class=\"dataframe\">\n",
       "  <thead>\n",
       "    <tr style=\"text-align: right;\">\n",
       "      <th></th>\n",
       "      <th>aspectR</th>\n",
       "      <th>boxDimensions</th>\n",
       "      <th>contureX</th>\n",
       "      <th>contureY</th>\n",
       "      <th>index</th>\n",
       "      <th>perimeter</th>\n",
       "      <th>steiner</th>\n",
       "      <th>type</th>\n",
       "    </tr>\n",
       "  </thead>\n",
       "  <tbody>\n",
       "    <tr>\n",
       "      <th>0</th>\n",
       "      <td>2.391841</td>\n",
       "      <td>(373.8123474121094, 156.28643798828125)</td>\n",
       "      <td>249</td>\n",
       "      <td>174</td>\n",
       "      <td>276</td>\n",
       "      <td>1212.492421</td>\n",
       "      <td>13.928388</td>\n",
       "      <td>1</td>\n",
       "    </tr>\n",
       "    <tr>\n",
       "      <th>1</th>\n",
       "      <td>1.120773</td>\n",
       "      <td>(464.0, 414.0)</td>\n",
       "      <td>138</td>\n",
       "      <td>250</td>\n",
       "      <td>337</td>\n",
       "      <td>1890.933109</td>\n",
       "      <td>113.004425</td>\n",
       "      <td>2</td>\n",
       "    </tr>\n",
       "    <tr>\n",
       "      <th>2</th>\n",
       "      <td>1.315248</td>\n",
       "      <td>(294.31121826171875, 387.0921325683594)</td>\n",
       "      <td>203</td>\n",
       "      <td>201</td>\n",
       "      <td>355</td>\n",
       "      <td>1860.770763</td>\n",
       "      <td>22.847319</td>\n",
       "      <td>2</td>\n",
       "    </tr>\n",
       "    <tr>\n",
       "      <th>3</th>\n",
       "      <td>1.214401</td>\n",
       "      <td>(468.27618408203125, 385.6026306152344)</td>\n",
       "      <td>217</td>\n",
       "      <td>169</td>\n",
       "      <td>137</td>\n",
       "      <td>2149.263183</td>\n",
       "      <td>5.000000</td>\n",
       "      <td>0</td>\n",
       "    </tr>\n",
       "    <tr>\n",
       "      <th>4</th>\n",
       "      <td>1.549235</td>\n",
       "      <td>(426.7472839355469, 275.45672607421875)</td>\n",
       "      <td>196</td>\n",
       "      <td>213</td>\n",
       "      <td>311</td>\n",
       "      <td>2450.719028</td>\n",
       "      <td>26.476405</td>\n",
       "      <td>2</td>\n",
       "    </tr>\n",
       "  </tbody>\n",
       "</table>\n",
       "</div>"
      ],
      "text/plain": [
       "    aspectR                            boxDimensions  contureX  contureY  \\\n",
       "0  2.391841  (373.8123474121094, 156.28643798828125)       249       174   \n",
       "1  1.120773                           (464.0, 414.0)       138       250   \n",
       "2  1.315248  (294.31121826171875, 387.0921325683594)       203       201   \n",
       "3  1.214401  (468.27618408203125, 385.6026306152344)       217       169   \n",
       "4  1.549235  (426.7472839355469, 275.45672607421875)       196       213   \n",
       "\n",
       "   index    perimeter     steiner  type  \n",
       "0    276  1212.492421   13.928388     1  \n",
       "1    337  1890.933109  113.004425     2  \n",
       "2    355  1860.770763   22.847319     2  \n",
       "3    137  2149.263183    5.000000     0  \n",
       "4    311  2450.719028   26.476405     2  "
      ]
     },
     "execution_count": 11,
     "metadata": {},
     "output_type": "execute_result"
    }
   ],
   "source": [
    "species_to_int ={'Dosenoeffner':0,'Flaschenoeffner':1, 'Korkenzieher':2} # Für jede Klasse eindeutige Zahl setzen\n",
    "\n",
    "iris_df['type']=iris_df['type'].map(species_to_int) # Klassenspalte überschreiben mit Zahlen\n",
    "iris_df.head()"
   ]
  },
  {
   "cell_type": "markdown",
   "metadata": {},
   "source": [
    "Daten Visualieren, Merkmale und Kategorien"
   ]
  },
  {
   "cell_type": "code",
   "execution_count": 12,
   "metadata": {},
   "outputs": [
    {
     "data": {
      "image/png": "[encoded data removed]",
      "text/plain": [
       "<Figure size 432x288 with 9 Axes>"
      ]
     },
     "metadata": {
      "needs_background": "light"
     },
     "output_type": "display_data"
    }
   ],
   "source": [
    "iris_df.hist() #berechnet Histogramme aller Spalten\n",
    "plt.show()"
   ]
  },
  {
   "cell_type": "markdown",
   "metadata": {},
   "source": [
    "Scattermatrix erstellen als schnellen Überblick"
   ]
  },
  {
   "cell_type": "code",
   "execution_count": 13,
   "metadata": {},
   "outputs": [
    {
     "data": {
      "image/png": "[encoded data removed]",
      "text/plain": [
       "<Figure size 432x288 with 49 Axes>"
      ]
     },
     "metadata": {
      "needs_background": "light"
     },
     "output_type": "display_data"
    }
   ],
   "source": [
    "from pandas.plotting import scatter_matrix\n",
    "scatter_matrix(iris_df)\n",
    "plt.show()"
   ]
  },
  {
   "cell_type": "markdown",
   "metadata": {},
   "source": [
    "Erzeuge Trainings- und Testdaten\n",
    "1. Erzeuge eine Dataframe mit allen Merkmalen, aber nicht der Kategorie (Letzte Spalte)\n",
    "2. Erzeuge eine Dataframe nur mit der Kategorie (letzte Spalte)"
   ]
  },
  {
   "cell_type": "code",
   "execution_count": 14,
   "metadata": {},
   "outputs": [
    {
     "name": "stdout",
     "output_type": "stream",
     "text": [
      "X:  (100, 7)  y:  (100,)\n"
     ]
    }
   ],
   "source": [
    "X = iris_df.iloc[:,:-1] #alles außer letzter Spalte\n",
    "y = iris_df.iloc[:,-1] #nur letzte Spalte\n",
    "print('X: ',X.shape, ' y: ',y.shape)"
   ]
  },
  {
   "cell_type": "code",
   "execution_count": 15,
   "metadata": {},
   "outputs": [
    {
     "name": "stdout",
     "output_type": "stream",
     "text": [
      "X_train:  (80, 7)  y_train:  (80,)\n",
      "X_test:  (20, 7)  y_test:  (20,)\n"
     ]
    }
   ],
   "source": [
    "from sklearn.model_selection import train_test_split\n",
    "\n",
    "X_train, X_test, y_train, y_test = train_test_split(X,y, test_size=0.2,\n",
    "                                                   random_state=42)\n",
    "\n",
    "print('X_train: ', X_train.shape, ' y_train: ',y_train.shape)\n",
    "print('X_test: ', X_test.shape, ' y_test: ', y_test.shape)"
   ]
  },
  {
   "cell_type": "markdown",
   "metadata": {},
   "source": [
    "Bayes Klassifikator"
   ]
  },
  {
   "cell_type": "code",
   "execution_count": 16,
   "metadata": {},
   "outputs": [
    {
     "ename": "ValueError",
     "evalue": "could not convert string to float: '(14.25216293334961, 56.02845001220703)'",
     "output_type": "error",
     "traceback": [
      "\u001b[1;31m---------------------------------------------------------------------------\u001b[0m",
      "\u001b[1;31mValueError\u001b[0m                                Traceback (most recent call last)",
      "\u001b[1;32m~\\AppData\\Local\\Temp/ipykernel_20720/2023464231.py\u001b[0m in \u001b[0;36m<module>\u001b[1;34m\u001b[0m\n\u001b[0;32m      1\u001b[0m \u001b[1;32mfrom\u001b[0m \u001b[0msklearn\u001b[0m\u001b[1;33m.\u001b[0m\u001b[0mnaive_bayes\u001b[0m \u001b[1;32mimport\u001b[0m \u001b[0mGaussianNB\u001b[0m \u001b[1;31m# importiere Bayes-Klassifikator\u001b[0m\u001b[1;33m\u001b[0m\u001b[1;33m\u001b[0m\u001b[0m\n\u001b[0;32m      2\u001b[0m \u001b[0mbayes_clf\u001b[0m \u001b[1;33m=\u001b[0m \u001b[0mGaussianNB\u001b[0m\u001b[1;33m(\u001b[0m\u001b[1;33m)\u001b[0m\u001b[1;33m\u001b[0m\u001b[1;33m\u001b[0m\u001b[0m\n\u001b[1;32m----> 3\u001b[1;33m \u001b[0mbayes_clf\u001b[0m\u001b[1;33m.\u001b[0m\u001b[0mfit\u001b[0m\u001b[1;33m(\u001b[0m\u001b[0mX_train\u001b[0m\u001b[1;33m,\u001b[0m\u001b[0my_train\u001b[0m\u001b[1;33m)\u001b[0m \u001b[1;31m#Wende Klassifikator auf Trainingsdaten an\u001b[0m\u001b[1;33m\u001b[0m\u001b[1;33m\u001b[0m\u001b[0m\n\u001b[0m\u001b[0;32m      4\u001b[0m \u001b[1;33m\u001b[0m\u001b[0m\n\u001b[0;32m      5\u001b[0m \u001b[0mprint\u001b[0m\u001b[1;33m(\u001b[0m\u001b[1;34m'Accuracy Bayes: '\u001b[0m\u001b[1;33m,\u001b[0m \u001b[0mbayes_clf\u001b[0m\u001b[1;33m.\u001b[0m\u001b[0mscore\u001b[0m\u001b[1;33m(\u001b[0m\u001b[0mX_test\u001b[0m\u001b[1;33m,\u001b[0m \u001b[0my_test\u001b[0m\u001b[1;33m)\u001b[0m\u001b[1;33m)\u001b[0m\u001b[1;33m\u001b[0m\u001b[1;33m\u001b[0m\u001b[0m\n",
      "\u001b[1;32m~\\anaconda3\\lib\\site-packages\\sklearn\\naive_bayes.py\u001b[0m in \u001b[0;36mfit\u001b[1;34m(self, X, y, sample_weight)\u001b[0m\n\u001b[0;32m    205\u001b[0m         \u001b[0mself\u001b[0m \u001b[1;33m:\u001b[0m \u001b[0mobject\u001b[0m\u001b[1;33m\u001b[0m\u001b[1;33m\u001b[0m\u001b[0m\n\u001b[0;32m    206\u001b[0m         \"\"\"\n\u001b[1;32m--> 207\u001b[1;33m         \u001b[0mX\u001b[0m\u001b[1;33m,\u001b[0m \u001b[0my\u001b[0m \u001b[1;33m=\u001b[0m \u001b[0mself\u001b[0m\u001b[1;33m.\u001b[0m\u001b[0m_validate_data\u001b[0m\u001b[1;33m(\u001b[0m\u001b[0mX\u001b[0m\u001b[1;33m,\u001b[0m \u001b[0my\u001b[0m\u001b[1;33m)\u001b[0m\u001b[1;33m\u001b[0m\u001b[1;33m\u001b[0m\u001b[0m\n\u001b[0m\u001b[0;32m    208\u001b[0m         \u001b[0my\u001b[0m \u001b[1;33m=\u001b[0m \u001b[0mcolumn_or_1d\u001b[0m\u001b[1;33m(\u001b[0m\u001b[0my\u001b[0m\u001b[1;33m,\u001b[0m \u001b[0mwarn\u001b[0m\u001b[1;33m=\u001b[0m\u001b[1;32mTrue\u001b[0m\u001b[1;33m)\u001b[0m\u001b[1;33m\u001b[0m\u001b[1;33m\u001b[0m\u001b[0m\n\u001b[0;32m    209\u001b[0m         return self._partial_fit(X, y, np.unique(y), _refit=True,\n",
      "\u001b[1;32m~\\anaconda3\\lib\\site-packages\\sklearn\\base.py\u001b[0m in \u001b[0;36m_validate_data\u001b[1;34m(self, X, y, reset, validate_separately, **check_params)\u001b[0m\n\u001b[0;32m    431\u001b[0m                 \u001b[0my\u001b[0m \u001b[1;33m=\u001b[0m \u001b[0mcheck_array\u001b[0m\u001b[1;33m(\u001b[0m\u001b[0my\u001b[0m\u001b[1;33m,\u001b[0m \u001b[1;33m**\u001b[0m\u001b[0mcheck_y_params\u001b[0m\u001b[1;33m)\u001b[0m\u001b[1;33m\u001b[0m\u001b[1;33m\u001b[0m\u001b[0m\n\u001b[0;32m    432\u001b[0m             \u001b[1;32melse\u001b[0m\u001b[1;33m:\u001b[0m\u001b[1;33m\u001b[0m\u001b[1;33m\u001b[0m\u001b[0m\n\u001b[1;32m--> 433\u001b[1;33m                 \u001b[0mX\u001b[0m\u001b[1;33m,\u001b[0m \u001b[0my\u001b[0m \u001b[1;33m=\u001b[0m \u001b[0mcheck_X_y\u001b[0m\u001b[1;33m(\u001b[0m\u001b[0mX\u001b[0m\u001b[1;33m,\u001b[0m \u001b[0my\u001b[0m\u001b[1;33m,\u001b[0m \u001b[1;33m**\u001b[0m\u001b[0mcheck_params\u001b[0m\u001b[1;33m)\u001b[0m\u001b[1;33m\u001b[0m\u001b[1;33m\u001b[0m\u001b[0m\n\u001b[0m\u001b[0;32m    434\u001b[0m             \u001b[0mout\u001b[0m \u001b[1;33m=\u001b[0m \u001b[0mX\u001b[0m\u001b[1;33m,\u001b[0m \u001b[0my\u001b[0m\u001b[1;33m\u001b[0m\u001b[1;33m\u001b[0m\u001b[0m\n\u001b[0;32m    435\u001b[0m \u001b[1;33m\u001b[0m\u001b[0m\n",
      "\u001b[1;32m~\\anaconda3\\lib\\site-packages\\sklearn\\utils\\validation.py\u001b[0m in \u001b[0;36minner_f\u001b[1;34m(*args, **kwargs)\u001b[0m\n\u001b[0;32m     61\u001b[0m             \u001b[0mextra_args\u001b[0m \u001b[1;33m=\u001b[0m \u001b[0mlen\u001b[0m\u001b[1;33m(\u001b[0m\u001b[0margs\u001b[0m\u001b[1;33m)\u001b[0m \u001b[1;33m-\u001b[0m \u001b[0mlen\u001b[0m\u001b[1;33m(\u001b[0m\u001b[0mall_args\u001b[0m\u001b[1;33m)\u001b[0m\u001b[1;33m\u001b[0m\u001b[1;33m\u001b[0m\u001b[0m\n\u001b[0;32m     62\u001b[0m             \u001b[1;32mif\u001b[0m \u001b[0mextra_args\u001b[0m \u001b[1;33m<=\u001b[0m \u001b[1;36m0\u001b[0m\u001b[1;33m:\u001b[0m\u001b[1;33m\u001b[0m\u001b[1;33m\u001b[0m\u001b[0m\n\u001b[1;32m---> 63\u001b[1;33m                 \u001b[1;32mreturn\u001b[0m \u001b[0mf\u001b[0m\u001b[1;33m(\u001b[0m\u001b[1;33m*\u001b[0m\u001b[0margs\u001b[0m\u001b[1;33m,\u001b[0m \u001b[1;33m**\u001b[0m\u001b[0mkwargs\u001b[0m\u001b[1;33m)\u001b[0m\u001b[1;33m\u001b[0m\u001b[1;33m\u001b[0m\u001b[0m\n\u001b[0m\u001b[0;32m     64\u001b[0m \u001b[1;33m\u001b[0m\u001b[0m\n\u001b[0;32m     65\u001b[0m             \u001b[1;31m# extra_args > 0\u001b[0m\u001b[1;33m\u001b[0m\u001b[1;33m\u001b[0m\u001b[0m\n",
      "\u001b[1;32m~\\anaconda3\\lib\\site-packages\\sklearn\\utils\\validation.py\u001b[0m in \u001b[0;36mcheck_X_y\u001b[1;34m(X, y, accept_sparse, accept_large_sparse, dtype, order, copy, force_all_finite, ensure_2d, allow_nd, multi_output, ensure_min_samples, ensure_min_features, y_numeric, estimator)\u001b[0m\n\u001b[0;32m    869\u001b[0m         \u001b[1;32mraise\u001b[0m \u001b[0mValueError\u001b[0m\u001b[1;33m(\u001b[0m\u001b[1;34m\"y cannot be None\"\u001b[0m\u001b[1;33m)\u001b[0m\u001b[1;33m\u001b[0m\u001b[1;33m\u001b[0m\u001b[0m\n\u001b[0;32m    870\u001b[0m \u001b[1;33m\u001b[0m\u001b[0m\n\u001b[1;32m--> 871\u001b[1;33m     X = check_array(X, accept_sparse=accept_sparse,\n\u001b[0m\u001b[0;32m    872\u001b[0m                     \u001b[0maccept_large_sparse\u001b[0m\u001b[1;33m=\u001b[0m\u001b[0maccept_large_sparse\u001b[0m\u001b[1;33m,\u001b[0m\u001b[1;33m\u001b[0m\u001b[1;33m\u001b[0m\u001b[0m\n\u001b[0;32m    873\u001b[0m                     \u001b[0mdtype\u001b[0m\u001b[1;33m=\u001b[0m\u001b[0mdtype\u001b[0m\u001b[1;33m,\u001b[0m \u001b[0morder\u001b[0m\u001b[1;33m=\u001b[0m\u001b[0morder\u001b[0m\u001b[1;33m,\u001b[0m \u001b[0mcopy\u001b[0m\u001b[1;33m=\u001b[0m\u001b[0mcopy\u001b[0m\u001b[1;33m,\u001b[0m\u001b[1;33m\u001b[0m\u001b[1;33m\u001b[0m\u001b[0m\n",
      "\u001b[1;32m~\\anaconda3\\lib\\site-packages\\sklearn\\utils\\validation.py\u001b[0m in \u001b[0;36minner_f\u001b[1;34m(*args, **kwargs)\u001b[0m\n\u001b[0;32m     61\u001b[0m             \u001b[0mextra_args\u001b[0m \u001b[1;33m=\u001b[0m \u001b[0mlen\u001b[0m\u001b[1;33m(\u001b[0m\u001b[0margs\u001b[0m\u001b[1;33m)\u001b[0m \u001b[1;33m-\u001b[0m \u001b[0mlen\u001b[0m\u001b[1;33m(\u001b[0m\u001b[0mall_args\u001b[0m\u001b[1;33m)\u001b[0m\u001b[1;33m\u001b[0m\u001b[1;33m\u001b[0m\u001b[0m\n\u001b[0;32m     62\u001b[0m             \u001b[1;32mif\u001b[0m \u001b[0mextra_args\u001b[0m \u001b[1;33m<=\u001b[0m \u001b[1;36m0\u001b[0m\u001b[1;33m:\u001b[0m\u001b[1;33m\u001b[0m\u001b[1;33m\u001b[0m\u001b[0m\n\u001b[1;32m---> 63\u001b[1;33m                 \u001b[1;32mreturn\u001b[0m \u001b[0mf\u001b[0m\u001b[1;33m(\u001b[0m\u001b[1;33m*\u001b[0m\u001b[0margs\u001b[0m\u001b[1;33m,\u001b[0m \u001b[1;33m**\u001b[0m\u001b[0mkwargs\u001b[0m\u001b[1;33m)\u001b[0m\u001b[1;33m\u001b[0m\u001b[1;33m\u001b[0m\u001b[0m\n\u001b[0m\u001b[0;32m     64\u001b[0m \u001b[1;33m\u001b[0m\u001b[0m\n\u001b[0;32m     65\u001b[0m             \u001b[1;31m# extra_args > 0\u001b[0m\u001b[1;33m\u001b[0m\u001b[1;33m\u001b[0m\u001b[0m\n",
      "\u001b[1;32m~\\anaconda3\\lib\\site-packages\\sklearn\\utils\\validation.py\u001b[0m in \u001b[0;36mcheck_array\u001b[1;34m(array, accept_sparse, accept_large_sparse, dtype, order, copy, force_all_finite, ensure_2d, allow_nd, ensure_min_samples, ensure_min_features, estimator)\u001b[0m\n\u001b[0;32m    671\u001b[0m                     \u001b[0marray\u001b[0m \u001b[1;33m=\u001b[0m \u001b[0marray\u001b[0m\u001b[1;33m.\u001b[0m\u001b[0mastype\u001b[0m\u001b[1;33m(\u001b[0m\u001b[0mdtype\u001b[0m\u001b[1;33m,\u001b[0m \u001b[0mcasting\u001b[0m\u001b[1;33m=\u001b[0m\u001b[1;34m\"unsafe\"\u001b[0m\u001b[1;33m,\u001b[0m \u001b[0mcopy\u001b[0m\u001b[1;33m=\u001b[0m\u001b[1;32mFalse\u001b[0m\u001b[1;33m)\u001b[0m\u001b[1;33m\u001b[0m\u001b[1;33m\u001b[0m\u001b[0m\n\u001b[0;32m    672\u001b[0m                 \u001b[1;32melse\u001b[0m\u001b[1;33m:\u001b[0m\u001b[1;33m\u001b[0m\u001b[1;33m\u001b[0m\u001b[0m\n\u001b[1;32m--> 673\u001b[1;33m                     \u001b[0marray\u001b[0m \u001b[1;33m=\u001b[0m \u001b[0mnp\u001b[0m\u001b[1;33m.\u001b[0m\u001b[0masarray\u001b[0m\u001b[1;33m(\u001b[0m\u001b[0marray\u001b[0m\u001b[1;33m,\u001b[0m \u001b[0morder\u001b[0m\u001b[1;33m=\u001b[0m\u001b[0morder\u001b[0m\u001b[1;33m,\u001b[0m \u001b[0mdtype\u001b[0m\u001b[1;33m=\u001b[0m\u001b[0mdtype\u001b[0m\u001b[1;33m)\u001b[0m\u001b[1;33m\u001b[0m\u001b[1;33m\u001b[0m\u001b[0m\n\u001b[0m\u001b[0;32m    674\u001b[0m             \u001b[1;32mexcept\u001b[0m \u001b[0mComplexWarning\u001b[0m \u001b[1;32mas\u001b[0m \u001b[0mcomplex_warning\u001b[0m\u001b[1;33m:\u001b[0m\u001b[1;33m\u001b[0m\u001b[1;33m\u001b[0m\u001b[0m\n\u001b[0;32m    675\u001b[0m                 raise ValueError(\"Complex data not supported\\n\"\n",
      "\u001b[1;32m~\\anaconda3\\lib\\site-packages\\numpy\\core\\_asarray.py\u001b[0m in \u001b[0;36masarray\u001b[1;34m(a, dtype, order, like)\u001b[0m\n\u001b[0;32m    100\u001b[0m         \u001b[1;32mreturn\u001b[0m \u001b[0m_asarray_with_like\u001b[0m\u001b[1;33m(\u001b[0m\u001b[0ma\u001b[0m\u001b[1;33m,\u001b[0m \u001b[0mdtype\u001b[0m\u001b[1;33m=\u001b[0m\u001b[0mdtype\u001b[0m\u001b[1;33m,\u001b[0m \u001b[0morder\u001b[0m\u001b[1;33m=\u001b[0m\u001b[0morder\u001b[0m\u001b[1;33m,\u001b[0m \u001b[0mlike\u001b[0m\u001b[1;33m=\u001b[0m\u001b[0mlike\u001b[0m\u001b[1;33m)\u001b[0m\u001b[1;33m\u001b[0m\u001b[1;33m\u001b[0m\u001b[0m\n\u001b[0;32m    101\u001b[0m \u001b[1;33m\u001b[0m\u001b[0m\n\u001b[1;32m--> 102\u001b[1;33m     \u001b[1;32mreturn\u001b[0m \u001b[0marray\u001b[0m\u001b[1;33m(\u001b[0m\u001b[0ma\u001b[0m\u001b[1;33m,\u001b[0m \u001b[0mdtype\u001b[0m\u001b[1;33m,\u001b[0m \u001b[0mcopy\u001b[0m\u001b[1;33m=\u001b[0m\u001b[1;32mFalse\u001b[0m\u001b[1;33m,\u001b[0m \u001b[0morder\u001b[0m\u001b[1;33m=\u001b[0m\u001b[0morder\u001b[0m\u001b[1;33m)\u001b[0m\u001b[1;33m\u001b[0m\u001b[1;33m\u001b[0m\u001b[0m\n\u001b[0m\u001b[0;32m    103\u001b[0m \u001b[1;33m\u001b[0m\u001b[0m\n\u001b[0;32m    104\u001b[0m \u001b[1;33m\u001b[0m\u001b[0m\n",
      "\u001b[1;32m~\\anaconda3\\lib\\site-packages\\pandas\\core\\generic.py\u001b[0m in \u001b[0;36m__array__\u001b[1;34m(self, dtype)\u001b[0m\n\u001b[0;32m   1991\u001b[0m \u001b[1;33m\u001b[0m\u001b[0m\n\u001b[0;32m   1992\u001b[0m     \u001b[1;32mdef\u001b[0m \u001b[0m__array__\u001b[0m\u001b[1;33m(\u001b[0m\u001b[0mself\u001b[0m\u001b[1;33m,\u001b[0m \u001b[0mdtype\u001b[0m\u001b[1;33m:\u001b[0m \u001b[0mNpDtype\u001b[0m \u001b[1;33m|\u001b[0m \u001b[1;32mNone\u001b[0m \u001b[1;33m=\u001b[0m \u001b[1;32mNone\u001b[0m\u001b[1;33m)\u001b[0m \u001b[1;33m->\u001b[0m \u001b[0mnp\u001b[0m\u001b[1;33m.\u001b[0m\u001b[0mndarray\u001b[0m\u001b[1;33m:\u001b[0m\u001b[1;33m\u001b[0m\u001b[1;33m\u001b[0m\u001b[0m\n\u001b[1;32m-> 1993\u001b[1;33m         \u001b[1;32mreturn\u001b[0m \u001b[0mnp\u001b[0m\u001b[1;33m.\u001b[0m\u001b[0masarray\u001b[0m\u001b[1;33m(\u001b[0m\u001b[0mself\u001b[0m\u001b[1;33m.\u001b[0m\u001b[0m_values\u001b[0m\u001b[1;33m,\u001b[0m \u001b[0mdtype\u001b[0m\u001b[1;33m=\u001b[0m\u001b[0mdtype\u001b[0m\u001b[1;33m)\u001b[0m\u001b[1;33m\u001b[0m\u001b[1;33m\u001b[0m\u001b[0m\n\u001b[0m\u001b[0;32m   1994\u001b[0m \u001b[1;33m\u001b[0m\u001b[0m\n\u001b[0;32m   1995\u001b[0m     def __array_wrap__(\n",
      "\u001b[1;32m~\\anaconda3\\lib\\site-packages\\numpy\\core\\_asarray.py\u001b[0m in \u001b[0;36masarray\u001b[1;34m(a, dtype, order, like)\u001b[0m\n\u001b[0;32m    100\u001b[0m         \u001b[1;32mreturn\u001b[0m \u001b[0m_asarray_with_like\u001b[0m\u001b[1;33m(\u001b[0m\u001b[0ma\u001b[0m\u001b[1;33m,\u001b[0m \u001b[0mdtype\u001b[0m\u001b[1;33m=\u001b[0m\u001b[0mdtype\u001b[0m\u001b[1;33m,\u001b[0m \u001b[0morder\u001b[0m\u001b[1;33m=\u001b[0m\u001b[0morder\u001b[0m\u001b[1;33m,\u001b[0m \u001b[0mlike\u001b[0m\u001b[1;33m=\u001b[0m\u001b[0mlike\u001b[0m\u001b[1;33m)\u001b[0m\u001b[1;33m\u001b[0m\u001b[1;33m\u001b[0m\u001b[0m\n\u001b[0;32m    101\u001b[0m \u001b[1;33m\u001b[0m\u001b[0m\n\u001b[1;32m--> 102\u001b[1;33m     \u001b[1;32mreturn\u001b[0m \u001b[0marray\u001b[0m\u001b[1;33m(\u001b[0m\u001b[0ma\u001b[0m\u001b[1;33m,\u001b[0m \u001b[0mdtype\u001b[0m\u001b[1;33m,\u001b[0m \u001b[0mcopy\u001b[0m\u001b[1;33m=\u001b[0m\u001b[1;32mFalse\u001b[0m\u001b[1;33m,\u001b[0m \u001b[0morder\u001b[0m\u001b[1;33m=\u001b[0m\u001b[0morder\u001b[0m\u001b[1;33m)\u001b[0m\u001b[1;33m\u001b[0m\u001b[1;33m\u001b[0m\u001b[0m\n\u001b[0m\u001b[0;32m    103\u001b[0m \u001b[1;33m\u001b[0m\u001b[0m\n\u001b[0;32m    104\u001b[0m \u001b[1;33m\u001b[0m\u001b[0m\n",
      "\u001b[1;31mValueError\u001b[0m: could not convert string to float: '(14.25216293334961, 56.02845001220703)'"
     ]
    }
   ],
   "source": [
    "from sklearn.naive_bayes import GaussianNB # importiere Bayes-Klassifikator\n",
    "bayes_clf = GaussianNB()\n",
    "bayes_clf.fit(X_train,y_train) #Wende Klassifikator auf Trainingsdaten an\n",
    "\n",
    "print('Accuracy Bayes: ', bayes_clf.score(X_test, y_test))"
   ]
  },
  {
   "cell_type": "markdown",
   "metadata": {},
   "source": [
    "Accuracy = 1: Kann komplett genau klassifizieren"
   ]
  },
  {
   "cell_type": "markdown",
   "metadata": {},
   "source": [
    "Weitere Maße außer Accuracy:"
   ]
  },
  {
   "cell_type": "code",
   "execution_count": null,
   "metadata": {},
   "outputs": [],
   "source": [
    "from sklearn.metrics import confusion_matrix\n",
    "\n",
    "y_pred = bayes_clf.predict(X_test) #nimm Testdaten als Vorhersagedaten\n",
    "\n",
    "print(confusion_matrix(y_test, y_pred))"
   ]
  },
  {
   "cell_type": "code",
   "execution_count": null,
   "metadata": {},
   "outputs": [],
   "source": [
    "from sklearn.metrics import classification_report\n",
    "print(classification_report(y_test, y_pred))"
   ]
  },
  {
   "cell_type": "markdown",
   "metadata": {},
   "source": [
    "Entscheidungsbaum"
   ]
  },
  {
   "cell_type": "code",
   "execution_count": null,
   "metadata": {},
   "outputs": [],
   "source": [
    "from sklearn.tree import DecisionTreeClassifier\n",
    "from sklearn import tree\n",
    "\n",
    "tree_clf = DecisionTreeClassifier()\n",
    "\n",
    "tree_clf.fit(X_train, y_train)"
   ]
  },
  {
   "cell_type": "code",
   "execution_count": null,
   "metadata": {},
   "outputs": [],
   "source": [
    "print('Accuracy Decision Tree', tree_clf.score(X_test,y_test)) # Accuracy nach Generalisierung"
   ]
  },
  {
   "cell_type": "code",
   "execution_count": null,
   "metadata": {},
   "outputs": [],
   "source": [
    "tree.plot_tree(tree_clf)"
   ]
  },
  {
   "cell_type": "markdown",
   "metadata": {},
   "source": [
    "Decision Tree anwenden"
   ]
  },
  {
   "cell_type": "code",
   "execution_count": null,
   "metadata": {},
   "outputs": [],
   "source": [
    "y_pred = tree_clf.predict(X_test) #Vorhesage der X_testdaten erzeugen\n",
    "# hier könnten statt X_test auch andere Dataframes stehen\n",
    "\n",
    "from sklearn.metrics import accuracy_score\n",
    "\n",
    "print('Accuracy:', accuracy_score(y_test,y_pred)) #Vergleich Prädiktion mit Test"
   ]
  },
  {
   "cell_type": "code",
   "execution_count": null,
   "metadata": {},
   "outputs": [],
   "source": [
    "X_testDf = pd.DataFrame([[5.1,2.9,1.6,0.3]],columns=['sepal_length', 'sepal_width', 'petal_length', 'petal_width'])\n",
    "y_pred = tree_clf.predict(X_testDf)"
   ]
  },
  {
   "cell_type": "code",
   "execution_count": null,
   "metadata": {},
   "outputs": [],
   "source": [
    "print('Vorhergesagte Kategorie: ',y_pred)"
   ]
  },
  {
   "cell_type": "code",
   "execution_count": null,
   "metadata": {},
   "outputs": [],
   "source": [
    "y_pred_bayes = bayes_clf.predict(X_testDf)\n",
    "print('Vorhergesagte Kategorie mit Bayes: ',y_pred_bayes)"
   ]
  },
  {
   "cell_type": "code",
   "execution_count": null,
   "metadata": {},
   "outputs": [],
   "source": [
    "from sklearn.ensemble import RandomForestClassifier\n",
    "\n",
    "forest_clf = RandomForestClassifier(n_estimators=10, criterion='gini', max_depth=2)\n",
    "\n",
    "forest_clf.fit(X_train,y_train)"
   ]
  },
  {
   "cell_type": "code",
   "execution_count": null,
   "metadata": {},
   "outputs": [],
   "source": [
    "y_pred_rf = forest_clf.predict(X_test)\n",
    "print('Accuracy Random Forest: ', accuracy_score(y_test,y_pred_rf))"
   ]
  },
  {
   "cell_type": "code",
   "execution_count": null,
   "metadata": {},
   "outputs": [],
   "source": []
  }
 ],
 "metadata": {
  "kernelspec": {
   "display_name": "Python 3 (ipykernel)",
   "language": "python",
   "name": "python3"
  },
  "language_info": {
   "codemirror_mode": {
    "name": "ipython",
    "version": 3
   },
   "file_extension": ".py",
   "mimetype": "text/x-python",
   "name": "python",
   "nbconvert_exporter": "python",
   "pygments_lexer": "ipython3",
   "version": "3.9.7"
  }
 },
 "nbformat": 4,
 "nbformat_minor": 4
}
