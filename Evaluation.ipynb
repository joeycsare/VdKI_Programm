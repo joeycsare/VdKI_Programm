{
 "cells": [
  {
   "cell_type": "markdown",
   "metadata": {},
   "source": [
    "# Evaluation"
   ]
  },
  {
   "cell_type": "code",
   "execution_count": 1,
   "metadata": {},
   "outputs": [],
   "source": [
    "import ImageHandler as ih\n",
    "from ImageHandler import cv\n",
    "import numpy as np\n",
    "import matplotlib.pyplot as plt\n",
    "import pandas as pd\n",
    "import sklearn"
   ]
  },
  {
   "cell_type": "code",
   "execution_count": 2,
   "metadata": {},
   "outputs": [
    {
     "name": "stdout",
     "output_type": "stream",
     "text": [
      "Added Directory iliasdaten\\Dosenoeffner\n",
      "Added Directory iliasdaten\\Flaschenoeffner\n",
      "Added Directory iliasdaten\\Korkenzieher\n",
      "Added Directory train\\Dosenoeffner\n",
      "Added Directory train\\Flaschenoeffner\n",
      "Added Directory train\\Korkenzieher\n"
     ]
    }
   ],
   "source": [
    "\n",
    "\n",
    "loader = ih.ImageLoader('iliasdaten\\Dosenoeffner')\n",
    "loader.AddDirRealPath('iliasdaten\\Flaschenoeffner')\n",
    "loader.AddDirRealPath('iliasdaten\\Korkenzieher')\n",
    "loader.AddDirRealPath('train\\Dosenoeffner')\n",
    "loader.AddDirRealPath('train\\Flaschenoeffner')\n",
    "loader.AddDirRealPath('train\\Korkenzieher')\n",
    "loader.MakeSampleEntrys(1)\n",
    "\n"
   ]
  },
  {
   "cell_type": "code",
   "execution_count": 3,
   "metadata": {},
   "outputs": [
    {
     "name": "stdout",
     "output_type": "stream",
     "text": [
      "conturanzahl =  11\n",
      "-------------CSV Done------------\n"
     ]
    }
   ],
   "source": [
    "changer = ih.ImageChanger(loader.sampleEntrysPath, 1, False)\n",
    "changer.Blur(3)\n",
    "changer.Gray()\n",
    "changer.ThresholdDual(False,tresh=120)\n",
    "changer.FrameByWidth(500)\n",
    "changer.Contures(2)\n",
    "changer.ShowRandomImage()\n",
    "loader.AddColumnsToSample(changer.contureValues)\n",
    "loader.DeleteColumnFromSample('name')\n",
    "loader.DeleteColumnFromSample('path')\n",
    "loader.DeleteColumnFromSample('directoryPath')\n",
    "loader.DeleteColumnFromSample('assignment')\n",
    "loader.PrintSamplesToCSV()"
   ]
  },
  {
   "cell_type": "code",
   "execution_count": 4,
   "metadata": {},
   "outputs": [],
   "source": [
    "test_df = pd.read_csv('output.csv')"
   ]
  },
  {
   "cell_type": "code",
   "execution_count": 5,
   "metadata": {},
   "outputs": [
    {
     "data": {
      "text/html": [
       "<div>\n",
       "<style scoped>\n",
       "    .dataframe tbody tr th:only-of-type {\n",
       "        vertical-align: middle;\n",
       "    }\n",
       "\n",
       "    .dataframe tbody tr th {\n",
       "        vertical-align: top;\n",
       "    }\n",
       "\n",
       "    .dataframe thead th {\n",
       "        text-align: right;\n",
       "    }\n",
       "</style>\n",
       "<table border=\"1\" class=\"dataframe\">\n",
       "  <thead>\n",
       "    <tr style=\"text-align: right;\">\n",
       "      <th></th>\n",
       "      <th>approxContureArea_1</th>\n",
       "      <th>approxContureArea_2</th>\n",
       "      <th>approxContureLenght_1</th>\n",
       "      <th>approxContureLenght_2</th>\n",
       "      <th>area_1</th>\n",
       "      <th>area_2</th>\n",
       "      <th>boxLenght_1</th>\n",
       "      <th>boxLenght_2</th>\n",
       "      <th>boxWidth_1</th>\n",
       "      <th>boxWidth_2</th>\n",
       "      <th>...</th>\n",
       "      <th>convexHullLenght_1</th>\n",
       "      <th>convexHullLenght_2</th>\n",
       "      <th>index</th>\n",
       "      <th>perimeter_1</th>\n",
       "      <th>perimeter_2</th>\n",
       "      <th>ratio_1</th>\n",
       "      <th>ratio_2</th>\n",
       "      <th>stein_1</th>\n",
       "      <th>stein_2</th>\n",
       "      <th>type</th>\n",
       "    </tr>\n",
       "  </thead>\n",
       "  <tbody>\n",
       "    <tr>\n",
       "      <th>0</th>\n",
       "      <td>0.0</td>\n",
       "      <td>1060.0</td>\n",
       "      <td>850.129395</td>\n",
       "      <td>179.36797</td>\n",
       "      <td>5847.0</td>\n",
       "      <td>769.5</td>\n",
       "      <td>424.96875</td>\n",
       "      <td>81.08783</td>\n",
       "      <td>55.596165</td>\n",
       "      <td>28.509262</td>\n",
       "      <td>...</td>\n",
       "      <td>880.526403</td>\n",
       "      <td>187.539182</td>\n",
       "      <td>1377</td>\n",
       "      <td>1813.69552</td>\n",
       "      <td>233.355338</td>\n",
       "      <td>7.64385</td>\n",
       "      <td>2.844263</td>\n",
       "      <td>26.627054</td>\n",
       "      <td>6.082763</td>\n",
       "      <td>Korkenzieher</td>\n",
       "    </tr>\n",
       "  </tbody>\n",
       "</table>\n",
       "<p>1 rows × 22 columns</p>\n",
       "</div>"
      ],
      "text/plain": [
       "   approxContureArea_1  approxContureArea_2  approxContureLenght_1  \\\n",
       "0                  0.0               1060.0             850.129395   \n",
       "\n",
       "   approxContureLenght_2  area_1  area_2  boxLenght_1  boxLenght_2  \\\n",
       "0              179.36797  5847.0   769.5    424.96875     81.08783   \n",
       "\n",
       "   boxWidth_1  boxWidth_2  ...  convexHullLenght_1  convexHullLenght_2  index  \\\n",
       "0   55.596165   28.509262  ...          880.526403          187.539182   1377   \n",
       "\n",
       "   perimeter_1  perimeter_2  ratio_1   ratio_2    stein_1   stein_2  \\\n",
       "0   1813.69552   233.355338  7.64385  2.844263  26.627054  6.082763   \n",
       "\n",
       "           type  \n",
       "0  Korkenzieher  \n",
       "\n",
       "[1 rows x 22 columns]"
      ]
     },
     "execution_count": 5,
     "metadata": {},
     "output_type": "execute_result"
    }
   ],
   "source": [
    "test_df.head()"
   ]
  },
  {
   "cell_type": "code",
   "execution_count": 6,
   "metadata": {},
   "outputs": [
    {
     "data": {
      "text/html": [
       "<div>\n",
       "<style scoped>\n",
       "    .dataframe tbody tr th:only-of-type {\n",
       "        vertical-align: middle;\n",
       "    }\n",
       "\n",
       "    .dataframe tbody tr th {\n",
       "        vertical-align: top;\n",
       "    }\n",
       "\n",
       "    .dataframe thead th {\n",
       "        text-align: right;\n",
       "    }\n",
       "</style>\n",
       "<table border=\"1\" class=\"dataframe\">\n",
       "  <thead>\n",
       "    <tr style=\"text-align: right;\">\n",
       "      <th></th>\n",
       "      <th>approxContureArea_1</th>\n",
       "      <th>approxContureArea_2</th>\n",
       "      <th>approxContureLenght_1</th>\n",
       "      <th>approxContureLenght_2</th>\n",
       "      <th>area_1</th>\n",
       "      <th>area_2</th>\n",
       "      <th>boxLenght_1</th>\n",
       "      <th>boxLenght_2</th>\n",
       "      <th>boxWidth_1</th>\n",
       "      <th>boxWidth_2</th>\n",
       "      <th>...</th>\n",
       "      <th>convexHullLenght_1</th>\n",
       "      <th>convexHullLenght_2</th>\n",
       "      <th>index</th>\n",
       "      <th>perimeter_1</th>\n",
       "      <th>perimeter_2</th>\n",
       "      <th>ratio_1</th>\n",
       "      <th>ratio_2</th>\n",
       "      <th>stein_1</th>\n",
       "      <th>stein_2</th>\n",
       "      <th>type</th>\n",
       "    </tr>\n",
       "  </thead>\n",
       "  <tbody>\n",
       "    <tr>\n",
       "      <th>0</th>\n",
       "      <td>0.0</td>\n",
       "      <td>1060.0</td>\n",
       "      <td>850.129395</td>\n",
       "      <td>179.36797</td>\n",
       "      <td>5847.0</td>\n",
       "      <td>769.5</td>\n",
       "      <td>424.96875</td>\n",
       "      <td>81.08783</td>\n",
       "      <td>55.596165</td>\n",
       "      <td>28.509262</td>\n",
       "      <td>...</td>\n",
       "      <td>880.526403</td>\n",
       "      <td>187.539182</td>\n",
       "      <td>1377</td>\n",
       "      <td>1813.69552</td>\n",
       "      <td>233.355338</td>\n",
       "      <td>7.64385</td>\n",
       "      <td>2.844263</td>\n",
       "      <td>26.627054</td>\n",
       "      <td>6.082763</td>\n",
       "      <td>Korkenzieher</td>\n",
       "    </tr>\n",
       "  </tbody>\n",
       "</table>\n",
       "<p>1 rows × 22 columns</p>\n",
       "</div>"
      ],
      "text/plain": [
       "   approxContureArea_1  approxContureArea_2  approxContureLenght_1  \\\n",
       "0                  0.0               1060.0             850.129395   \n",
       "\n",
       "   approxContureLenght_2  area_1  area_2  boxLenght_1  boxLenght_2  \\\n",
       "0              179.36797  5847.0   769.5    424.96875     81.08783   \n",
       "\n",
       "   boxWidth_1  boxWidth_2  ...  convexHullLenght_1  convexHullLenght_2  index  \\\n",
       "0   55.596165   28.509262  ...          880.526403          187.539182   1377   \n",
       "\n",
       "   perimeter_1  perimeter_2  ratio_1   ratio_2    stein_1   stein_2  \\\n",
       "0   1813.69552   233.355338  7.64385  2.844263  26.627054  6.082763   \n",
       "\n",
       "           type  \n",
       "0  Korkenzieher  \n",
       "\n",
       "[1 rows x 22 columns]"
      ]
     },
     "execution_count": 6,
     "metadata": {},
     "output_type": "execute_result"
    }
   ],
   "source": [
    "test_df.head(20)"
   ]
  },
  {
   "cell_type": "code",
   "execution_count": 7,
   "metadata": {},
   "outputs": [
    {
     "data": {
      "text/plain": [
       "Index(['approxContureArea_1', 'approxContureArea_2', 'approxContureLenght_1',\n",
       "       'approxContureLenght_2', 'area_1', 'area_2', 'boxLenght_1',\n",
       "       'boxLenght_2', 'boxWidth_1', 'boxWidth_2', 'convexHullArea_1',\n",
       "       'convexHullArea_2', 'convexHullLenght_1', 'convexHullLenght_2', 'index',\n",
       "       'perimeter_1', 'perimeter_2', 'ratio_1', 'ratio_2', 'stein_1',\n",
       "       'stein_2', 'type'],\n",
       "      dtype='object')"
      ]
     },
     "execution_count": 7,
     "metadata": {},
     "output_type": "execute_result"
    }
   ],
   "source": [
    "test_df.columns "
   ]
  },
  {
   "cell_type": "code",
   "execution_count": 8,
   "metadata": {},
   "outputs": [
    {
     "data": {
      "text/html": [
       "<div>\n",
       "<style scoped>\n",
       "    .dataframe tbody tr th:only-of-type {\n",
       "        vertical-align: middle;\n",
       "    }\n",
       "\n",
       "    .dataframe tbody tr th {\n",
       "        vertical-align: top;\n",
       "    }\n",
       "\n",
       "    .dataframe thead th {\n",
       "        text-align: right;\n",
       "    }\n",
       "</style>\n",
       "<table border=\"1\" class=\"dataframe\">\n",
       "  <thead>\n",
       "    <tr style=\"text-align: right;\">\n",
       "      <th></th>\n",
       "      <th>approxContureArea_1</th>\n",
       "      <th>approxContureArea_2</th>\n",
       "      <th>approxContureLenght_1</th>\n",
       "      <th>approxContureLenght_2</th>\n",
       "      <th>area_1</th>\n",
       "      <th>area_2</th>\n",
       "      <th>boxLenght_1</th>\n",
       "      <th>boxLenght_2</th>\n",
       "      <th>boxWidth_1</th>\n",
       "      <th>boxWidth_2</th>\n",
       "      <th>...</th>\n",
       "      <th>convexHullArea_2</th>\n",
       "      <th>convexHullLenght_1</th>\n",
       "      <th>convexHullLenght_2</th>\n",
       "      <th>index</th>\n",
       "      <th>perimeter_1</th>\n",
       "      <th>perimeter_2</th>\n",
       "      <th>ratio_1</th>\n",
       "      <th>ratio_2</th>\n",
       "      <th>stein_1</th>\n",
       "      <th>stein_2</th>\n",
       "    </tr>\n",
       "  </thead>\n",
       "  <tbody>\n",
       "    <tr>\n",
       "      <th>count</th>\n",
       "      <td>1.0</td>\n",
       "      <td>1.0</td>\n",
       "      <td>1.000000</td>\n",
       "      <td>1.00000</td>\n",
       "      <td>1.0</td>\n",
       "      <td>1.0</td>\n",
       "      <td>1.00000</td>\n",
       "      <td>1.00000</td>\n",
       "      <td>1.000000</td>\n",
       "      <td>1.000000</td>\n",
       "      <td>...</td>\n",
       "      <td>1.0</td>\n",
       "      <td>1.000000</td>\n",
       "      <td>1.000000</td>\n",
       "      <td>1.0</td>\n",
       "      <td>1.00000</td>\n",
       "      <td>1.000000</td>\n",
       "      <td>1.00000</td>\n",
       "      <td>1.000000</td>\n",
       "      <td>1.000000</td>\n",
       "      <td>1.000000</td>\n",
       "    </tr>\n",
       "    <tr>\n",
       "      <th>mean</th>\n",
       "      <td>0.0</td>\n",
       "      <td>1060.0</td>\n",
       "      <td>850.129395</td>\n",
       "      <td>179.36797</td>\n",
       "      <td>5847.0</td>\n",
       "      <td>769.5</td>\n",
       "      <td>424.96875</td>\n",
       "      <td>81.08783</td>\n",
       "      <td>55.596165</td>\n",
       "      <td>28.509262</td>\n",
       "      <td>...</td>\n",
       "      <td>1655.5</td>\n",
       "      <td>880.526403</td>\n",
       "      <td>187.539182</td>\n",
       "      <td>1377.0</td>\n",
       "      <td>1813.69552</td>\n",
       "      <td>233.355338</td>\n",
       "      <td>7.64385</td>\n",
       "      <td>2.844263</td>\n",
       "      <td>26.627054</td>\n",
       "      <td>6.082763</td>\n",
       "    </tr>\n",
       "    <tr>\n",
       "      <th>std</th>\n",
       "      <td>NaN</td>\n",
       "      <td>NaN</td>\n",
       "      <td>NaN</td>\n",
       "      <td>NaN</td>\n",
       "      <td>NaN</td>\n",
       "      <td>NaN</td>\n",
       "      <td>NaN</td>\n",
       "      <td>NaN</td>\n",
       "      <td>NaN</td>\n",
       "      <td>NaN</td>\n",
       "      <td>...</td>\n",
       "      <td>NaN</td>\n",
       "      <td>NaN</td>\n",
       "      <td>NaN</td>\n",
       "      <td>NaN</td>\n",
       "      <td>NaN</td>\n",
       "      <td>NaN</td>\n",
       "      <td>NaN</td>\n",
       "      <td>NaN</td>\n",
       "      <td>NaN</td>\n",
       "      <td>NaN</td>\n",
       "    </tr>\n",
       "    <tr>\n",
       "      <th>min</th>\n",
       "      <td>0.0</td>\n",
       "      <td>1060.0</td>\n",
       "      <td>850.129395</td>\n",
       "      <td>179.36797</td>\n",
       "      <td>5847.0</td>\n",
       "      <td>769.5</td>\n",
       "      <td>424.96875</td>\n",
       "      <td>81.08783</td>\n",
       "      <td>55.596165</td>\n",
       "      <td>28.509262</td>\n",
       "      <td>...</td>\n",
       "      <td>1655.5</td>\n",
       "      <td>880.526403</td>\n",
       "      <td>187.539182</td>\n",
       "      <td>1377.0</td>\n",
       "      <td>1813.69552</td>\n",
       "      <td>233.355338</td>\n",
       "      <td>7.64385</td>\n",
       "      <td>2.844263</td>\n",
       "      <td>26.627054</td>\n",
       "      <td>6.082763</td>\n",
       "    </tr>\n",
       "    <tr>\n",
       "      <th>25%</th>\n",
       "      <td>0.0</td>\n",
       "      <td>1060.0</td>\n",
       "      <td>850.129395</td>\n",
       "      <td>179.36797</td>\n",
       "      <td>5847.0</td>\n",
       "      <td>769.5</td>\n",
       "      <td>424.96875</td>\n",
       "      <td>81.08783</td>\n",
       "      <td>55.596165</td>\n",
       "      <td>28.509262</td>\n",
       "      <td>...</td>\n",
       "      <td>1655.5</td>\n",
       "      <td>880.526403</td>\n",
       "      <td>187.539182</td>\n",
       "      <td>1377.0</td>\n",
       "      <td>1813.69552</td>\n",
       "      <td>233.355338</td>\n",
       "      <td>7.64385</td>\n",
       "      <td>2.844263</td>\n",
       "      <td>26.627054</td>\n",
       "      <td>6.082763</td>\n",
       "    </tr>\n",
       "    <tr>\n",
       "      <th>50%</th>\n",
       "      <td>0.0</td>\n",
       "      <td>1060.0</td>\n",
       "      <td>850.129395</td>\n",
       "      <td>179.36797</td>\n",
       "      <td>5847.0</td>\n",
       "      <td>769.5</td>\n",
       "      <td>424.96875</td>\n",
       "      <td>81.08783</td>\n",
       "      <td>55.596165</td>\n",
       "      <td>28.509262</td>\n",
       "      <td>...</td>\n",
       "      <td>1655.5</td>\n",
       "      <td>880.526403</td>\n",
       "      <td>187.539182</td>\n",
       "      <td>1377.0</td>\n",
       "      <td>1813.69552</td>\n",
       "      <td>233.355338</td>\n",
       "      <td>7.64385</td>\n",
       "      <td>2.844263</td>\n",
       "      <td>26.627054</td>\n",
       "      <td>6.082763</td>\n",
       "    </tr>\n",
       "    <tr>\n",
       "      <th>75%</th>\n",
       "      <td>0.0</td>\n",
       "      <td>1060.0</td>\n",
       "      <td>850.129395</td>\n",
       "      <td>179.36797</td>\n",
       "      <td>5847.0</td>\n",
       "      <td>769.5</td>\n",
       "      <td>424.96875</td>\n",
       "      <td>81.08783</td>\n",
       "      <td>55.596165</td>\n",
       "      <td>28.509262</td>\n",
       "      <td>...</td>\n",
       "      <td>1655.5</td>\n",
       "      <td>880.526403</td>\n",
       "      <td>187.539182</td>\n",
       "      <td>1377.0</td>\n",
       "      <td>1813.69552</td>\n",
       "      <td>233.355338</td>\n",
       "      <td>7.64385</td>\n",
       "      <td>2.844263</td>\n",
       "      <td>26.627054</td>\n",
       "      <td>6.082763</td>\n",
       "    </tr>\n",
       "    <tr>\n",
       "      <th>max</th>\n",
       "      <td>0.0</td>\n",
       "      <td>1060.0</td>\n",
       "      <td>850.129395</td>\n",
       "      <td>179.36797</td>\n",
       "      <td>5847.0</td>\n",
       "      <td>769.5</td>\n",
       "      <td>424.96875</td>\n",
       "      <td>81.08783</td>\n",
       "      <td>55.596165</td>\n",
       "      <td>28.509262</td>\n",
       "      <td>...</td>\n",
       "      <td>1655.5</td>\n",
       "      <td>880.526403</td>\n",
       "      <td>187.539182</td>\n",
       "      <td>1377.0</td>\n",
       "      <td>1813.69552</td>\n",
       "      <td>233.355338</td>\n",
       "      <td>7.64385</td>\n",
       "      <td>2.844263</td>\n",
       "      <td>26.627054</td>\n",
       "      <td>6.082763</td>\n",
       "    </tr>\n",
       "  </tbody>\n",
       "</table>\n",
       "<p>8 rows × 21 columns</p>\n",
       "</div>"
      ],
      "text/plain": [
       "       approxContureArea_1  approxContureArea_2  approxContureLenght_1  \\\n",
       "count                  1.0                  1.0               1.000000   \n",
       "mean                   0.0               1060.0             850.129395   \n",
       "std                    NaN                  NaN                    NaN   \n",
       "min                    0.0               1060.0             850.129395   \n",
       "25%                    0.0               1060.0             850.129395   \n",
       "50%                    0.0               1060.0             850.129395   \n",
       "75%                    0.0               1060.0             850.129395   \n",
       "max                    0.0               1060.0             850.129395   \n",
       "\n",
       "       approxContureLenght_2  area_1  area_2  boxLenght_1  boxLenght_2  \\\n",
       "count                1.00000     1.0     1.0      1.00000      1.00000   \n",
       "mean               179.36797  5847.0   769.5    424.96875     81.08783   \n",
       "std                      NaN     NaN     NaN          NaN          NaN   \n",
       "min                179.36797  5847.0   769.5    424.96875     81.08783   \n",
       "25%                179.36797  5847.0   769.5    424.96875     81.08783   \n",
       "50%                179.36797  5847.0   769.5    424.96875     81.08783   \n",
       "75%                179.36797  5847.0   769.5    424.96875     81.08783   \n",
       "max                179.36797  5847.0   769.5    424.96875     81.08783   \n",
       "\n",
       "       boxWidth_1  boxWidth_2  ...  convexHullArea_2  convexHullLenght_1  \\\n",
       "count    1.000000    1.000000  ...               1.0            1.000000   \n",
       "mean    55.596165   28.509262  ...            1655.5          880.526403   \n",
       "std           NaN         NaN  ...               NaN                 NaN   \n",
       "min     55.596165   28.509262  ...            1655.5          880.526403   \n",
       "25%     55.596165   28.509262  ...            1655.5          880.526403   \n",
       "50%     55.596165   28.509262  ...            1655.5          880.526403   \n",
       "75%     55.596165   28.509262  ...            1655.5          880.526403   \n",
       "max     55.596165   28.509262  ...            1655.5          880.526403   \n",
       "\n",
       "       convexHullLenght_2   index  perimeter_1  perimeter_2  ratio_1  \\\n",
       "count            1.000000     1.0      1.00000     1.000000  1.00000   \n",
       "mean           187.539182  1377.0   1813.69552   233.355338  7.64385   \n",
       "std                   NaN     NaN          NaN          NaN      NaN   \n",
       "min            187.539182  1377.0   1813.69552   233.355338  7.64385   \n",
       "25%            187.539182  1377.0   1813.69552   233.355338  7.64385   \n",
       "50%            187.539182  1377.0   1813.69552   233.355338  7.64385   \n",
       "75%            187.539182  1377.0   1813.69552   233.355338  7.64385   \n",
       "max            187.539182  1377.0   1813.69552   233.355338  7.64385   \n",
       "\n",
       "        ratio_2    stein_1   stein_2  \n",
       "count  1.000000   1.000000  1.000000  \n",
       "mean   2.844263  26.627054  6.082763  \n",
       "std         NaN        NaN       NaN  \n",
       "min    2.844263  26.627054  6.082763  \n",
       "25%    2.844263  26.627054  6.082763  \n",
       "50%    2.844263  26.627054  6.082763  \n",
       "75%    2.844263  26.627054  6.082763  \n",
       "max    2.844263  26.627054  6.082763  \n",
       "\n",
       "[8 rows x 21 columns]"
      ]
     },
     "execution_count": 8,
     "metadata": {},
     "output_type": "execute_result"
    }
   ],
   "source": [
    "test_df.describe()"
   ]
  },
  {
   "cell_type": "code",
   "execution_count": 9,
   "metadata": {},
   "outputs": [
    {
     "data": {
      "text/plain": [
       "(1, 22)"
      ]
     },
     "execution_count": 9,
     "metadata": {},
     "output_type": "execute_result"
    }
   ],
   "source": [
    "test_df.shape #anzahl Datensätze udn Spalten"
   ]
  },
  {
   "cell_type": "markdown",
   "metadata": {},
   "source": [
    "Scatterplot von 2 Merkmalen um Klassifikation zu beurteilen"
   ]
  },
  {
   "cell_type": "code",
   "execution_count": 10,
   "metadata": {},
   "outputs": [],
   "source": [
    "colors = {'Dosenoeffner':'r','Flaschenoeffner':'g','Korkenzieher':'b'} # Farben für Kategorien"
   ]
  },
  {
   "cell_type": "code",
   "execution_count": 11,
   "metadata": {},
   "outputs": [
    {
     "data": {
      "text/plain": [
       "Text(0, 0.5, 'Zweites')"
      ]
     },
     "execution_count": 11,
     "metadata": {},
     "output_type": "execute_result"
    },
    {
     "data": {
      "image/png": "[encoded data removed]",
      "text/plain": [
       "<Figure size 1080x1080 with 1 Axes>"
      ]
     },
     "metadata": {
      "needs_background": "light"
     },
     "output_type": "display_data"
    }
   ],
   "source": [
    "fig, ax = plt.subplots(figsize=(15,15)) #Größe Plot  konfigurieren\n",
    "\n",
    "\n",
    "for i  in range(len(test_df['index'])):\n",
    "    ax.scatter(test_df['area_1'][i],\n",
    "               test_df['area_2'][i],\n",
    "               color=colors[test_df['type'][i]])\n",
    "    \n",
    "ax.set_title('VDKI Daten')\n",
    "ax.set_facecolor((0.1,0.1,0.1))\n",
    "ax.set_xlabel('Erstes')\n",
    "ax.set_ylabel('Zweites')"
   ]
  },
  {
   "cell_type": "markdown",
   "metadata": {},
   "source": [
    "Klassen statt mit Namen mit Zahlen bezeichnen"
   ]
  },
  {
   "cell_type": "code",
   "execution_count": 12,
   "metadata": {},
   "outputs": [],
   "source": [
    "test_original_df = test_df #alten dataframe sichern"
   ]
  },
  {
   "cell_type": "code",
   "execution_count": 13,
   "metadata": {},
   "outputs": [
    {
     "data": {
      "text/html": [
       "<div>\n",
       "<style scoped>\n",
       "    .dataframe tbody tr th:only-of-type {\n",
       "        vertical-align: middle;\n",
       "    }\n",
       "\n",
       "    .dataframe tbody tr th {\n",
       "        vertical-align: top;\n",
       "    }\n",
       "\n",
       "    .dataframe thead th {\n",
       "        text-align: right;\n",
       "    }\n",
       "</style>\n",
       "<table border=\"1\" class=\"dataframe\">\n",
       "  <thead>\n",
       "    <tr style=\"text-align: right;\">\n",
       "      <th></th>\n",
       "      <th>approxContureArea_1</th>\n",
       "      <th>approxContureArea_2</th>\n",
       "      <th>approxContureLenght_1</th>\n",
       "      <th>approxContureLenght_2</th>\n",
       "      <th>area_1</th>\n",
       "      <th>area_2</th>\n",
       "      <th>boxLenght_1</th>\n",
       "      <th>boxLenght_2</th>\n",
       "      <th>boxWidth_1</th>\n",
       "      <th>boxWidth_2</th>\n",
       "      <th>...</th>\n",
       "      <th>convexHullLenght_1</th>\n",
       "      <th>convexHullLenght_2</th>\n",
       "      <th>index</th>\n",
       "      <th>perimeter_1</th>\n",
       "      <th>perimeter_2</th>\n",
       "      <th>ratio_1</th>\n",
       "      <th>ratio_2</th>\n",
       "      <th>stein_1</th>\n",
       "      <th>stein_2</th>\n",
       "      <th>type</th>\n",
       "    </tr>\n",
       "  </thead>\n",
       "  <tbody>\n",
       "    <tr>\n",
       "      <th>0</th>\n",
       "      <td>0.0</td>\n",
       "      <td>1060.0</td>\n",
       "      <td>850.129395</td>\n",
       "      <td>179.36797</td>\n",
       "      <td>5847.0</td>\n",
       "      <td>769.5</td>\n",
       "      <td>424.96875</td>\n",
       "      <td>81.08783</td>\n",
       "      <td>55.596165</td>\n",
       "      <td>28.509262</td>\n",
       "      <td>...</td>\n",
       "      <td>880.526403</td>\n",
       "      <td>187.539182</td>\n",
       "      <td>1377</td>\n",
       "      <td>1813.69552</td>\n",
       "      <td>233.355338</td>\n",
       "      <td>7.64385</td>\n",
       "      <td>2.844263</td>\n",
       "      <td>26.627054</td>\n",
       "      <td>6.082763</td>\n",
       "      <td>2</td>\n",
       "    </tr>\n",
       "  </tbody>\n",
       "</table>\n",
       "<p>1 rows × 22 columns</p>\n",
       "</div>"
      ],
      "text/plain": [
       "   approxContureArea_1  approxContureArea_2  approxContureLenght_1  \\\n",
       "0                  0.0               1060.0             850.129395   \n",
       "\n",
       "   approxContureLenght_2  area_1  area_2  boxLenght_1  boxLenght_2  \\\n",
       "0              179.36797  5847.0   769.5    424.96875     81.08783   \n",
       "\n",
       "   boxWidth_1  boxWidth_2  ...  convexHullLenght_1  convexHullLenght_2  index  \\\n",
       "0   55.596165   28.509262  ...          880.526403          187.539182   1377   \n",
       "\n",
       "   perimeter_1  perimeter_2  ratio_1   ratio_2    stein_1   stein_2  type  \n",
       "0   1813.69552   233.355338  7.64385  2.844263  26.627054  6.082763     2  \n",
       "\n",
       "[1 rows x 22 columns]"
      ]
     },
     "execution_count": 13,
     "metadata": {},
     "output_type": "execute_result"
    }
   ],
   "source": [
    "type_to_int ={'Dosenoeffner':0,'Flaschenoeffner':1, 'Korkenzieher':2} # Für jede Klasse eindeutige Zahl setzen\n",
    "\n",
    "test_df['type']=test_df['type'].map(type_to_int) # Klassenspalte überschreiben mit Zahlen\n",
    "test_df.head()"
   ]
  },
  {
   "cell_type": "markdown",
   "metadata": {},
   "source": [
    "Daten Visualieren, Merkmale und Kategorien"
   ]
  },
  {
   "cell_type": "code",
   "execution_count": 14,
   "metadata": {},
   "outputs": [
    {
     "data": {
      "image/png": "[encoded data removed]",
      "text/plain": [
       "<Figure size 720x720 with 25 Axes>"
      ]
     },
     "metadata": {
      "needs_background": "light"
     },
     "output_type": "display_data"
    }
   ],
   "source": [
    "test_df.hist(figsize=(10,10)) #berechnet Histogramme aller Spalten\n",
    "plt.show()"
   ]
  },
  {
   "cell_type": "markdown",
   "metadata": {},
   "source": [
    "Scattermatrix erstellen als schnellen Überblick"
   ]
  },
  {
   "cell_type": "code",
   "execution_count": 15,
   "metadata": {},
   "outputs": [
    {
     "name": "stderr",
     "output_type": "stream",
     "text": [
      "C:\\Users\\xrlab\\anaconda3\\lib\\site-packages\\pandas\\plotting\\_matplotlib\\misc.py:91: UserWarning: Attempting to set identical left == right == 0.0 results in singular transformations; automatically expanding.\n",
      "  ax.set_xlim(boundaries_list[i])\n",
      "C:\\Users\\xrlab\\anaconda3\\lib\\site-packages\\pandas\\plotting\\_matplotlib\\misc.py:100: UserWarning: Attempting to set identical left == right == 1060.0 results in singular transformations; automatically expanding.\n",
      "  ax.set_xlim(boundaries_list[j])\n",
      "C:\\Users\\xrlab\\anaconda3\\lib\\site-packages\\pandas\\plotting\\_matplotlib\\misc.py:101: UserWarning: Attempting to set identical bottom == top == 0.0 results in singular transformations; automatically expanding.\n",
      "  ax.set_ylim(boundaries_list[i])\n",
      "C:\\Users\\xrlab\\anaconda3\\lib\\site-packages\\pandas\\plotting\\_matplotlib\\misc.py:100: UserWarning: Attempting to set identical left == right == 850.12939453125 results in singular transformations; automatically expanding.\n",
      "  ax.set_xlim(boundaries_list[j])\n",
      "C:\\Users\\xrlab\\anaconda3\\lib\\site-packages\\pandas\\plotting\\_matplotlib\\misc.py:100: UserWarning: Attempting to set identical left == right == 179.36796951293945 results in singular transformations; automatically expanding.\n",
      "  ax.set_xlim(boundaries_list[j])\n",
      "C:\\Users\\xrlab\\anaconda3\\lib\\site-packages\\pandas\\plotting\\_matplotlib\\misc.py:100: UserWarning: Attempting to set identical left == right == 5847.0 results in singular transformations; automatically expanding.\n",
      "  ax.set_xlim(boundaries_list[j])\n",
      "C:\\Users\\xrlab\\anaconda3\\lib\\site-packages\\pandas\\plotting\\_matplotlib\\misc.py:100: UserWarning: Attempting to set identical left == right == 769.5 results in singular transformations; automatically expanding.\n",
      "  ax.set_xlim(boundaries_list[j])\n",
      "C:\\Users\\xrlab\\anaconda3\\lib\\site-packages\\pandas\\plotting\\_matplotlib\\misc.py:100: UserWarning: Attempting to set identical left == right == 424.96875 results in singular transformations; automatically expanding.\n",
      "  ax.set_xlim(boundaries_list[j])\n",
      "C:\\Users\\xrlab\\anaconda3\\lib\\site-packages\\pandas\\plotting\\_matplotlib\\misc.py:100: UserWarning: Attempting to set identical left == right == 81.08782958984375 results in singular transformations; automatically expanding.\n",
      "  ax.set_xlim(boundaries_list[j])\n",
      "C:\\Users\\xrlab\\anaconda3\\lib\\site-packages\\pandas\\plotting\\_matplotlib\\misc.py:100: UserWarning: Attempting to set identical left == right == 55.59616470336914 results in singular transformations; automatically expanding.\n",
      "  ax.set_xlim(boundaries_list[j])\n",
      "C:\\Users\\xrlab\\anaconda3\\lib\\site-packages\\pandas\\plotting\\_matplotlib\\misc.py:100: UserWarning: Attempting to set identical left == right == 28.509262084960938 results in singular transformations; automatically expanding.\n",
      "  ax.set_xlim(boundaries_list[j])\n",
      "C:\\Users\\xrlab\\anaconda3\\lib\\site-packages\\pandas\\plotting\\_matplotlib\\misc.py:100: UserWarning: Attempting to set identical left == right == 18329.5 results in singular transformations; automatically expanding.\n",
      "  ax.set_xlim(boundaries_list[j])\n",
      "C:\\Users\\xrlab\\anaconda3\\lib\\site-packages\\pandas\\plotting\\_matplotlib\\misc.py:100: UserWarning: Attempting to set identical left == right == 1655.5 results in singular transformations; automatically expanding.\n",
      "  ax.set_xlim(boundaries_list[j])\n",
      "C:\\Users\\xrlab\\anaconda3\\lib\\site-packages\\pandas\\plotting\\_matplotlib\\misc.py:100: UserWarning: Attempting to set identical left == right == 880.5264029502869 results in singular transformations; automatically expanding.\n",
      "  ax.set_xlim(boundaries_list[j])\n",
      "C:\\Users\\xrlab\\anaconda3\\lib\\site-packages\\pandas\\plotting\\_matplotlib\\misc.py:100: UserWarning: Attempting to set identical left == right == 187.5391821861267 results in singular transformations; automatically expanding.\n",
      "  ax.set_xlim(boundaries_list[j])\n",
      "C:\\Users\\xrlab\\anaconda3\\lib\\site-packages\\pandas\\plotting\\_matplotlib\\misc.py:100: UserWarning: Attempting to set identical left == right == 1377.0 results in singular transformations; automatically expanding.\n",
      "  ax.set_xlim(boundaries_list[j])\n",
      "C:\\Users\\xrlab\\anaconda3\\lib\\site-packages\\pandas\\plotting\\_matplotlib\\misc.py:100: UserWarning: Attempting to set identical left == right == 1813.695519924164 results in singular transformations; automatically expanding.\n",
      "  ax.set_xlim(boundaries_list[j])\n",
      "C:\\Users\\xrlab\\anaconda3\\lib\\site-packages\\pandas\\plotting\\_matplotlib\\misc.py:100: UserWarning: Attempting to set identical left == right == 233.3553384542465 results in singular transformations; automatically expanding.\n",
      "  ax.set_xlim(boundaries_list[j])\n",
      "C:\\Users\\xrlab\\anaconda3\\lib\\site-packages\\pandas\\plotting\\_matplotlib\\misc.py:100: UserWarning: Attempting to set identical left == right == 7.643850115694164 results in singular transformations; automatically expanding.\n",
      "  ax.set_xlim(boundaries_list[j])\n",
      "C:\\Users\\xrlab\\anaconda3\\lib\\site-packages\\pandas\\plotting\\_matplotlib\\misc.py:100: UserWarning: Attempting to set identical left == right == 2.8442626592085243 results in singular transformations; automatically expanding.\n",
      "  ax.set_xlim(boundaries_list[j])\n",
      "C:\\Users\\xrlab\\anaconda3\\lib\\site-packages\\pandas\\plotting\\_matplotlib\\misc.py:100: UserWarning: Attempting to set identical left == right == 26.627053911388696 results in singular transformations; automatically expanding.\n",
      "  ax.set_xlim(boundaries_list[j])\n",
      "C:\\Users\\xrlab\\anaconda3\\lib\\site-packages\\pandas\\plotting\\_matplotlib\\misc.py:100: UserWarning: Attempting to set identical left == right == 6.082762530298219 results in singular transformations; automatically expanding.\n",
      "  ax.set_xlim(boundaries_list[j])\n",
      "C:\\Users\\xrlab\\anaconda3\\lib\\site-packages\\pandas\\plotting\\_matplotlib\\misc.py:100: UserWarning: Attempting to set identical left == right == 2.0 results in singular transformations; automatically expanding.\n",
      "  ax.set_xlim(boundaries_list[j])\n",
      "C:\\Users\\xrlab\\anaconda3\\lib\\site-packages\\pandas\\plotting\\_matplotlib\\misc.py:100: UserWarning: Attempting to set identical left == right == 0.0 results in singular transformations; automatically expanding.\n",
      "  ax.set_xlim(boundaries_list[j])\n",
      "C:\\Users\\xrlab\\anaconda3\\lib\\site-packages\\pandas\\plotting\\_matplotlib\\misc.py:101: UserWarning: Attempting to set identical bottom == top == 1060.0 results in singular transformations; automatically expanding.\n",
      "  ax.set_ylim(boundaries_list[i])\n",
      "C:\\Users\\xrlab\\anaconda3\\lib\\site-packages\\pandas\\plotting\\_matplotlib\\misc.py:91: UserWarning: Attempting to set identical left == right == 1060.0 results in singular transformations; automatically expanding.\n",
      "  ax.set_xlim(boundaries_list[i])\n",
      "C:\\Users\\xrlab\\anaconda3\\lib\\site-packages\\pandas\\plotting\\_matplotlib\\misc.py:101: UserWarning: Attempting to set identical bottom == top == 850.12939453125 results in singular transformations; automatically expanding.\n",
      "  ax.set_ylim(boundaries_list[i])\n",
      "C:\\Users\\xrlab\\anaconda3\\lib\\site-packages\\pandas\\plotting\\_matplotlib\\misc.py:91: UserWarning: Attempting to set identical left == right == 850.12939453125 results in singular transformations; automatically expanding.\n",
      "  ax.set_xlim(boundaries_list[i])\n",
      "C:\\Users\\xrlab\\anaconda3\\lib\\site-packages\\pandas\\plotting\\_matplotlib\\misc.py:101: UserWarning: Attempting to set identical bottom == top == 179.36796951293945 results in singular transformations; automatically expanding.\n",
      "  ax.set_ylim(boundaries_list[i])\n",
      "C:\\Users\\xrlab\\anaconda3\\lib\\site-packages\\pandas\\plotting\\_matplotlib\\misc.py:91: UserWarning: Attempting to set identical left == right == 179.36796951293945 results in singular transformations; automatically expanding.\n",
      "  ax.set_xlim(boundaries_list[i])\n",
      "C:\\Users\\xrlab\\anaconda3\\lib\\site-packages\\pandas\\plotting\\_matplotlib\\misc.py:101: UserWarning: Attempting to set identical bottom == top == 5847.0 results in singular transformations; automatically expanding.\n",
      "  ax.set_ylim(boundaries_list[i])\n",
      "C:\\Users\\xrlab\\anaconda3\\lib\\site-packages\\pandas\\plotting\\_matplotlib\\misc.py:91: UserWarning: Attempting to set identical left == right == 5847.0 results in singular transformations; automatically expanding.\n",
      "  ax.set_xlim(boundaries_list[i])\n",
      "C:\\Users\\xrlab\\anaconda3\\lib\\site-packages\\pandas\\plotting\\_matplotlib\\misc.py:101: UserWarning: Attempting to set identical bottom == top == 769.5 results in singular transformations; automatically expanding.\n",
      "  ax.set_ylim(boundaries_list[i])\n",
      "C:\\Users\\xrlab\\anaconda3\\lib\\site-packages\\pandas\\plotting\\_matplotlib\\misc.py:91: UserWarning: Attempting to set identical left == right == 769.5 results in singular transformations; automatically expanding.\n",
      "  ax.set_xlim(boundaries_list[i])\n",
      "C:\\Users\\xrlab\\anaconda3\\lib\\site-packages\\pandas\\plotting\\_matplotlib\\misc.py:101: UserWarning: Attempting to set identical bottom == top == 424.96875 results in singular transformations; automatically expanding.\n",
      "  ax.set_ylim(boundaries_list[i])\n",
      "C:\\Users\\xrlab\\anaconda3\\lib\\site-packages\\pandas\\plotting\\_matplotlib\\misc.py:91: UserWarning: Attempting to set identical left == right == 424.96875 results in singular transformations; automatically expanding.\n",
      "  ax.set_xlim(boundaries_list[i])\n",
      "C:\\Users\\xrlab\\anaconda3\\lib\\site-packages\\pandas\\plotting\\_matplotlib\\misc.py:101: UserWarning: Attempting to set identical bottom == top == 81.08782958984375 results in singular transformations; automatically expanding.\n",
      "  ax.set_ylim(boundaries_list[i])\n",
      "C:\\Users\\xrlab\\anaconda3\\lib\\site-packages\\pandas\\plotting\\_matplotlib\\misc.py:91: UserWarning: Attempting to set identical left == right == 81.08782958984375 results in singular transformations; automatically expanding.\n",
      "  ax.set_xlim(boundaries_list[i])\n",
      "C:\\Users\\xrlab\\anaconda3\\lib\\site-packages\\pandas\\plotting\\_matplotlib\\misc.py:101: UserWarning: Attempting to set identical bottom == top == 55.59616470336914 results in singular transformations; automatically expanding.\n",
      "  ax.set_ylim(boundaries_list[i])\n",
      "C:\\Users\\xrlab\\anaconda3\\lib\\site-packages\\pandas\\plotting\\_matplotlib\\misc.py:91: UserWarning: Attempting to set identical left == right == 55.59616470336914 results in singular transformations; automatically expanding.\n",
      "  ax.set_xlim(boundaries_list[i])\n",
      "C:\\Users\\xrlab\\anaconda3\\lib\\site-packages\\pandas\\plotting\\_matplotlib\\misc.py:101: UserWarning: Attempting to set identical bottom == top == 28.509262084960938 results in singular transformations; automatically expanding.\n",
      "  ax.set_ylim(boundaries_list[i])\n",
      "C:\\Users\\xrlab\\anaconda3\\lib\\site-packages\\pandas\\plotting\\_matplotlib\\misc.py:91: UserWarning: Attempting to set identical left == right == 28.509262084960938 results in singular transformations; automatically expanding.\n",
      "  ax.set_xlim(boundaries_list[i])\n",
      "C:\\Users\\xrlab\\anaconda3\\lib\\site-packages\\pandas\\plotting\\_matplotlib\\misc.py:101: UserWarning: Attempting to set identical bottom == top == 18329.5 results in singular transformations; automatically expanding.\n",
      "  ax.set_ylim(boundaries_list[i])\n",
      "C:\\Users\\xrlab\\anaconda3\\lib\\site-packages\\pandas\\plotting\\_matplotlib\\misc.py:91: UserWarning: Attempting to set identical left == right == 18329.5 results in singular transformations; automatically expanding.\n",
      "  ax.set_xlim(boundaries_list[i])\n",
      "C:\\Users\\xrlab\\anaconda3\\lib\\site-packages\\pandas\\plotting\\_matplotlib\\misc.py:101: UserWarning: Attempting to set identical bottom == top == 1655.5 results in singular transformations; automatically expanding.\n",
      "  ax.set_ylim(boundaries_list[i])\n",
      "C:\\Users\\xrlab\\anaconda3\\lib\\site-packages\\pandas\\plotting\\_matplotlib\\misc.py:91: UserWarning: Attempting to set identical left == right == 1655.5 results in singular transformations; automatically expanding.\n",
      "  ax.set_xlim(boundaries_list[i])\n",
      "C:\\Users\\xrlab\\anaconda3\\lib\\site-packages\\pandas\\plotting\\_matplotlib\\misc.py:101: UserWarning: Attempting to set identical bottom == top == 880.5264029502869 results in singular transformations; automatically expanding.\n",
      "  ax.set_ylim(boundaries_list[i])\n",
      "C:\\Users\\xrlab\\anaconda3\\lib\\site-packages\\pandas\\plotting\\_matplotlib\\misc.py:91: UserWarning: Attempting to set identical left == right == 880.5264029502869 results in singular transformations; automatically expanding.\n",
      "  ax.set_xlim(boundaries_list[i])\n",
      "C:\\Users\\xrlab\\anaconda3\\lib\\site-packages\\pandas\\plotting\\_matplotlib\\misc.py:101: UserWarning: Attempting to set identical bottom == top == 187.5391821861267 results in singular transformations; automatically expanding.\n",
      "  ax.set_ylim(boundaries_list[i])\n",
      "C:\\Users\\xrlab\\anaconda3\\lib\\site-packages\\pandas\\plotting\\_matplotlib\\misc.py:91: UserWarning: Attempting to set identical left == right == 187.5391821861267 results in singular transformations; automatically expanding.\n",
      "  ax.set_xlim(boundaries_list[i])\n",
      "C:\\Users\\xrlab\\anaconda3\\lib\\site-packages\\pandas\\plotting\\_matplotlib\\misc.py:101: UserWarning: Attempting to set identical bottom == top == 1377.0 results in singular transformations; automatically expanding.\n",
      "  ax.set_ylim(boundaries_list[i])\n",
      "C:\\Users\\xrlab\\anaconda3\\lib\\site-packages\\pandas\\plotting\\_matplotlib\\misc.py:91: UserWarning: Attempting to set identical left == right == 1377.0 results in singular transformations; automatically expanding.\n",
      "  ax.set_xlim(boundaries_list[i])\n",
      "C:\\Users\\xrlab\\anaconda3\\lib\\site-packages\\pandas\\plotting\\_matplotlib\\misc.py:101: UserWarning: Attempting to set identical bottom == top == 1813.695519924164 results in singular transformations; automatically expanding.\n",
      "  ax.set_ylim(boundaries_list[i])\n",
      "C:\\Users\\xrlab\\anaconda3\\lib\\site-packages\\pandas\\plotting\\_matplotlib\\misc.py:91: UserWarning: Attempting to set identical left == right == 1813.695519924164 results in singular transformations; automatically expanding.\n",
      "  ax.set_xlim(boundaries_list[i])\n",
      "C:\\Users\\xrlab\\anaconda3\\lib\\site-packages\\pandas\\plotting\\_matplotlib\\misc.py:101: UserWarning: Attempting to set identical bottom == top == 233.3553384542465 results in singular transformations; automatically expanding.\n",
      "  ax.set_ylim(boundaries_list[i])\n",
      "C:\\Users\\xrlab\\anaconda3\\lib\\site-packages\\pandas\\plotting\\_matplotlib\\misc.py:91: UserWarning: Attempting to set identical left == right == 233.3553384542465 results in singular transformations; automatically expanding.\n",
      "  ax.set_xlim(boundaries_list[i])\n",
      "C:\\Users\\xrlab\\anaconda3\\lib\\site-packages\\pandas\\plotting\\_matplotlib\\misc.py:101: UserWarning: Attempting to set identical bottom == top == 7.643850115694164 results in singular transformations; automatically expanding.\n",
      "  ax.set_ylim(boundaries_list[i])\n",
      "C:\\Users\\xrlab\\anaconda3\\lib\\site-packages\\pandas\\plotting\\_matplotlib\\misc.py:91: UserWarning: Attempting to set identical left == right == 7.643850115694164 results in singular transformations; automatically expanding.\n",
      "  ax.set_xlim(boundaries_list[i])\n",
      "C:\\Users\\xrlab\\anaconda3\\lib\\site-packages\\pandas\\plotting\\_matplotlib\\misc.py:101: UserWarning: Attempting to set identical bottom == top == 2.8442626592085243 results in singular transformations; automatically expanding.\n",
      "  ax.set_ylim(boundaries_list[i])\n",
      "C:\\Users\\xrlab\\anaconda3\\lib\\site-packages\\pandas\\plotting\\_matplotlib\\misc.py:91: UserWarning: Attempting to set identical left == right == 2.8442626592085243 results in singular transformations; automatically expanding.\n",
      "  ax.set_xlim(boundaries_list[i])\n",
      "C:\\Users\\xrlab\\anaconda3\\lib\\site-packages\\pandas\\plotting\\_matplotlib\\misc.py:101: UserWarning: Attempting to set identical bottom == top == 26.627053911388696 results in singular transformations; automatically expanding.\n",
      "  ax.set_ylim(boundaries_list[i])\n",
      "C:\\Users\\xrlab\\anaconda3\\lib\\site-packages\\pandas\\plotting\\_matplotlib\\misc.py:91: UserWarning: Attempting to set identical left == right == 26.627053911388696 results in singular transformations; automatically expanding.\n",
      "  ax.set_xlim(boundaries_list[i])\n",
      "C:\\Users\\xrlab\\anaconda3\\lib\\site-packages\\pandas\\plotting\\_matplotlib\\misc.py:101: UserWarning: Attempting to set identical bottom == top == 6.082762530298219 results in singular transformations; automatically expanding.\n",
      "  ax.set_ylim(boundaries_list[i])\n",
      "C:\\Users\\xrlab\\anaconda3\\lib\\site-packages\\pandas\\plotting\\_matplotlib\\misc.py:91: UserWarning: Attempting to set identical left == right == 6.082762530298219 results in singular transformations; automatically expanding.\n",
      "  ax.set_xlim(boundaries_list[i])\n",
      "C:\\Users\\xrlab\\anaconda3\\lib\\site-packages\\pandas\\plotting\\_matplotlib\\misc.py:101: UserWarning: Attempting to set identical bottom == top == 2.0 results in singular transformations; automatically expanding.\n",
      "  ax.set_ylim(boundaries_list[i])\n",
      "C:\\Users\\xrlab\\anaconda3\\lib\\site-packages\\pandas\\plotting\\_matplotlib\\misc.py:91: UserWarning: Attempting to set identical left == right == 2.0 results in singular transformations; automatically expanding.\n",
      "  ax.set_xlim(boundaries_list[i])\n",
      "C:\\Users\\xrlab\\anaconda3\\lib\\site-packages\\pandas\\plotting\\_matplotlib\\misc.py:115: RuntimeWarning: invalid value encountered in true_divide\n",
      "  adj = (locs - lim1[0]) / (lim1[1] - lim1[0])\n"
     ]
    },
    {
     "data": {
      "image/png": "[encoded data removed]",
      "text/plain": [
       "<Figure size 1080x1080 with 484 Axes>"
      ]
     },
     "metadata": {
      "needs_background": "light"
     },
     "output_type": "display_data"
    }
   ],
   "source": [
    "from pandas.plotting import scatter_matrix\n",
    "scatter_matrix(test_df,figsize=(15,15))\n",
    "plt.show()"
   ]
  },
  {
   "cell_type": "markdown",
   "metadata": {},
   "source": [
    "Erzeuge Trainings- und Testdaten\n",
    "1. Erzeuge eine Dataframe mit allen Merkmalen, aber nicht der Kategorie (Letzte Spalte)\n",
    "2. Erzeuge eine Dataframe nur mit der Kategorie (letzte Spalte)"
   ]
  },
  {
   "cell_type": "code",
   "execution_count": 16,
   "metadata": {},
   "outputs": [
    {
     "name": "stdout",
     "output_type": "stream",
     "text": [
      "X:  (1, 21)  y:  (1,)\n"
     ]
    }
   ],
   "source": [
    "X = test_df.iloc[:,:-1] #alles außer letzter Spalte\n",
    "y = test_df.iloc[:,-1] #nur letzte Spalte\n",
    "print('X: ',X.shape, ' y: ',y.shape)"
   ]
  },
  {
   "cell_type": "code",
   "execution_count": 17,
   "metadata": {},
   "outputs": [
    {
     "ename": "ValueError",
     "evalue": "With n_samples=1, test_size=0.2 and train_size=None, the resulting train set will be empty. Adjust any of the aforementioned parameters.",
     "output_type": "error",
     "traceback": [
      "\u001b[1;31m---------------------------------------------------------------------------\u001b[0m",
      "\u001b[1;31mValueError\u001b[0m                                Traceback (most recent call last)",
      "\u001b[1;32m~\\AppData\\Local\\Temp/ipykernel_27276/4143361298.py\u001b[0m in \u001b[0;36m<module>\u001b[1;34m\u001b[0m\n\u001b[0;32m      1\u001b[0m \u001b[1;32mfrom\u001b[0m \u001b[0msklearn\u001b[0m\u001b[1;33m.\u001b[0m\u001b[0mmodel_selection\u001b[0m \u001b[1;32mimport\u001b[0m \u001b[0mtrain_test_split\u001b[0m\u001b[1;33m\u001b[0m\u001b[1;33m\u001b[0m\u001b[0m\n\u001b[0;32m      2\u001b[0m \u001b[1;33m\u001b[0m\u001b[0m\n\u001b[1;32m----> 3\u001b[1;33m X_train, X_test, y_train, y_test = train_test_split(X,y, test_size=0.2,\n\u001b[0m\u001b[0;32m      4\u001b[0m                                                    random_state=42)\n\u001b[0;32m      5\u001b[0m \u001b[1;33m\u001b[0m\u001b[0m\n",
      "\u001b[1;32m~\\anaconda3\\lib\\site-packages\\sklearn\\model_selection\\_split.py\u001b[0m in \u001b[0;36mtrain_test_split\u001b[1;34m(test_size, train_size, random_state, shuffle, stratify, *arrays)\u001b[0m\n\u001b[0;32m   2173\u001b[0m \u001b[1;33m\u001b[0m\u001b[0m\n\u001b[0;32m   2174\u001b[0m     \u001b[0mn_samples\u001b[0m \u001b[1;33m=\u001b[0m \u001b[0m_num_samples\u001b[0m\u001b[1;33m(\u001b[0m\u001b[0marrays\u001b[0m\u001b[1;33m[\u001b[0m\u001b[1;36m0\u001b[0m\u001b[1;33m]\u001b[0m\u001b[1;33m)\u001b[0m\u001b[1;33m\u001b[0m\u001b[1;33m\u001b[0m\u001b[0m\n\u001b[1;32m-> 2175\u001b[1;33m     n_train, n_test = _validate_shuffle_split(n_samples, test_size, train_size,\n\u001b[0m\u001b[0;32m   2176\u001b[0m                                               default_test_size=0.25)\n\u001b[0;32m   2177\u001b[0m \u001b[1;33m\u001b[0m\u001b[0m\n",
      "\u001b[1;32m~\\anaconda3\\lib\\site-packages\\sklearn\\model_selection\\_split.py\u001b[0m in \u001b[0;36m_validate_shuffle_split\u001b[1;34m(n_samples, test_size, train_size, default_test_size)\u001b[0m\n\u001b[0;32m   1855\u001b[0m \u001b[1;33m\u001b[0m\u001b[0m\n\u001b[0;32m   1856\u001b[0m     \u001b[1;32mif\u001b[0m \u001b[0mn_train\u001b[0m \u001b[1;33m==\u001b[0m \u001b[1;36m0\u001b[0m\u001b[1;33m:\u001b[0m\u001b[1;33m\u001b[0m\u001b[1;33m\u001b[0m\u001b[0m\n\u001b[1;32m-> 1857\u001b[1;33m         raise ValueError(\n\u001b[0m\u001b[0;32m   1858\u001b[0m             \u001b[1;34m'With n_samples={}, test_size={} and train_size={}, the '\u001b[0m\u001b[1;33m\u001b[0m\u001b[1;33m\u001b[0m\u001b[0m\n\u001b[0;32m   1859\u001b[0m             \u001b[1;34m'resulting train set will be empty. Adjust any of the '\u001b[0m\u001b[1;33m\u001b[0m\u001b[1;33m\u001b[0m\u001b[0m\n",
      "\u001b[1;31mValueError\u001b[0m: With n_samples=1, test_size=0.2 and train_size=None, the resulting train set will be empty. Adjust any of the aforementioned parameters."
     ]
    }
   ],
   "source": [
    "from sklearn.model_selection import train_test_split\n",
    "\n",
    "X_train, X_test, y_train, y_test = train_test_split(X,y, test_size=0.2,\n",
    "                                                   random_state=42)\n",
    "\n",
    "print('X_train: ', X_train.shape, ' y_train: ',y_train.shape)\n",
    "print('X_test: ', X_test.shape, ' y_test: ', y_test.shape)"
   ]
  },
  {
   "cell_type": "markdown",
   "metadata": {},
   "source": [
    "Bayes Klassifikator"
   ]
  },
  {
   "cell_type": "code",
   "execution_count": null,
   "metadata": {},
   "outputs": [],
   "source": [
    "from sklearn.naive_bayes import GaussianNB # importiere Bayes-Klassifikator\n",
    "bayes_clf = GaussianNB()\n",
    "bayes_clf.fit(X_train,y_train) #Wende Klassifikator auf Trainingsdaten an\n",
    "\n",
    "print('Accuracy Bayes: ', bayes_clf.score(X_test, y_test))"
   ]
  },
  {
   "cell_type": "markdown",
   "metadata": {},
   "source": [
    "Accuracy = 1: Kann komplett genau klassifizieren"
   ]
  },
  {
   "cell_type": "markdown",
   "metadata": {},
   "source": [
    "Weitere Maße außer Accuracy:"
   ]
  },
  {
   "cell_type": "code",
   "execution_count": null,
   "metadata": {},
   "outputs": [],
   "source": [
    "from sklearn.metrics import confusion_matrix\n",
    "\n",
    "y_pred = bayes_clf.predict(X_test) #nimm Testdaten als Vorhersagedaten\n",
    "\n",
    "print(confusion_matrix(y_test, y_pred))"
   ]
  },
  {
   "cell_type": "code",
   "execution_count": null,
   "metadata": {},
   "outputs": [],
   "source": [
    "from sklearn.metrics import classification_report\n",
    "print(classification_report(y_test, y_pred))"
   ]
  },
  {
   "cell_type": "markdown",
   "metadata": {},
   "source": [
    "Entscheidungsbaum"
   ]
  },
  {
   "cell_type": "code",
   "execution_count": null,
   "metadata": {},
   "outputs": [],
   "source": [
    "from sklearn.tree import DecisionTreeClassifier\n",
    "from sklearn import tree\n",
    "\n",
    "tree_clf = DecisionTreeClassifier()\n",
    "\n",
    "tree_clf.fit(X_train, y_train)"
   ]
  },
  {
   "cell_type": "code",
   "execution_count": null,
   "metadata": {},
   "outputs": [],
   "source": [
    "print('Accuracy Decision Tree', tree_clf.score(X_test,y_test)) # Accuracy nach Generalisierung"
   ]
  },
  {
   "cell_type": "code",
   "execution_count": null,
   "metadata": {},
   "outputs": [],
   "source": [
    "tree.plot_tree(tree_clf)"
   ]
  },
  {
   "cell_type": "markdown",
   "metadata": {},
   "source": [
    "Decision Tree anwenden"
   ]
  },
  {
   "cell_type": "code",
   "execution_count": null,
   "metadata": {},
   "outputs": [],
   "source": [
    "y_pred = tree_clf.predict(X_test) #Vorhesage der X_testdaten erzeugen\n",
    "# hier könnten statt X_test auch andere Dataframes stehen\n",
    "\n",
    "from sklearn.metrics import accuracy_score\n",
    "\n",
    "print('Accuracy:', accuracy_score(y_test,y_pred)) #Vergleich Prädiktion mit Test"
   ]
  },
  {
   "cell_type": "code",
   "execution_count": null,
   "metadata": {},
   "outputs": [],
   "source": [
    "X_testDf = pd.DataFrame([[5.1,2.9,1.6,0.3]],columns=['sepal_length', 'sepal_width', 'petal_length', 'petal_width'])\n",
    "y_pred = tree_clf.predict(X_testDf)"
   ]
  },
  {
   "cell_type": "code",
   "execution_count": null,
   "metadata": {},
   "outputs": [],
   "source": [
    "print('Vorhergesagte Kategorie: ',y_pred)"
   ]
  },
  {
   "cell_type": "code",
   "execution_count": null,
   "metadata": {},
   "outputs": [],
   "source": [
    "y_pred_bayes = bayes_clf.predict(X_testDf)\n",
    "print('Vorhergesagte Kategorie mit Bayes: ',y_pred_bayes)"
   ]
  },
  {
   "cell_type": "code",
   "execution_count": null,
   "metadata": {},
   "outputs": [],
   "source": [
    "from sklearn.ensemble import RandomForestClassifier\n",
    "\n",
    "forest_clf = RandomForestClassifier(n_estimators=10, criterion='gini', max_depth=2)\n",
    "\n",
    "forest_clf.fit(X_train,y_train)"
   ]
  },
  {
   "cell_type": "code",
   "execution_count": null,
   "metadata": {},
   "outputs": [],
   "source": [
    "y_pred_rf = forest_clf.predict(X_test)\n",
    "print('Accuracy Random Forest: ', accuracy_score(y_test,y_pred_rf))"
   ]
  },
  {
   "cell_type": "code",
   "execution_count": null,
   "metadata": {},
   "outputs": [],
   "source": []
  }
 ],
 "metadata": {
  "kernelspec": {
   "display_name": "Python 3 (ipykernel)",
   "language": "python",
   "name": "python3"
  },
  "language_info": {
   "codemirror_mode": {
    "name": "ipython",
    "version": 3
   },
   "file_extension": ".py",
   "mimetype": "text/x-python",
   "name": "python",
   "nbconvert_exporter": "python",
   "pygments_lexer": "ipython3",
   "version": "3.9.7"
  }
 },
 "nbformat": 4,
 "nbformat_minor": 4
}
