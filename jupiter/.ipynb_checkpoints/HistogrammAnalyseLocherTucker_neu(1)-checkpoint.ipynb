{
 "cells": [
  {
   "cell_type": "code",
   "execution_count": 1,
   "metadata": {},
   "outputs": [],
   "source": [
    "import pandas as pd\n",
    "import numpy as np\n",
    "import matplotlib.pyplot as plt\n",
    "import math"
   ]
  },
  {
   "cell_type": "code",
   "execution_count": 2,
   "metadata": {},
   "outputs": [],
   "source": [
    "df = pd.read_excel('C:\\Users\\johan\\bwSyncShare\\Phyton\\Data\\LocherTucker.xlsx')"
   ]
  },
  {
   "cell_type": "code",
   "execution_count": 3,
   "metadata": {},
   "outputs": [
    {
     "name": "stdout",
     "output_type": "stream",
     "text": [
      "                    Unnamed: 0  AspectRatio    Extent  SurfaceRatio  Category\n",
      "0                            0     1.237552  0.358045      0.632045       0.0\n",
      "1                            1     2.152893  0.537711      0.695425       0.0\n",
      "2                            2     1.321640  0.652844      0.774687       0.0\n",
      "3                            3     1.057289  0.316268      0.678793       0.0\n",
      "4                            4     1.748148  0.719767      0.786710       1.0\n",
      "..                         ...          ...       ...           ...       ...\n",
      "74                         NaN          NaN       NaN           NaN       NaN\n",
      "75                         NaN          NaN       NaN           NaN       NaN\n",
      "76         Insgesamt: 73 Werte          NaN       NaN           NaN       NaN\n",
      "77  Train Data: 54 Werte (75%)          NaN       NaN           NaN       NaN\n",
      "78   Class Data: 19 Were (25%)          NaN       NaN           NaN       NaN\n",
      "\n",
      "[79 rows x 5 columns]\n"
     ]
    }
   ],
   "source": [
    "print(df)"
   ]
  },
  {
   "cell_type": "code",
   "execution_count": 4,
   "metadata": {},
   "outputs": [
    {
     "data": {
      "text/plain": [
       "0     1.237552\n",
       "1     2.152893\n",
       "2     1.321640\n",
       "3     1.057289\n",
       "4     1.748148\n",
       "        ...   \n",
       "74         NaN\n",
       "75         NaN\n",
       "76         NaN\n",
       "77         NaN\n",
       "78         NaN\n",
       "Name: AspectRatio, Length: 79, dtype: float64"
      ]
     },
     "execution_count": 4,
     "metadata": {},
     "output_type": "execute_result"
    }
   ],
   "source": [
    "df['AspectRatio']"
   ]
  },
  {
   "cell_type": "code",
   "execution_count": 5,
   "metadata": {},
   "outputs": [],
   "source": [
    "data = df.head(73)"
   ]
  },
  {
   "cell_type": "code",
   "execution_count": 6,
   "metadata": {},
   "outputs": [],
   "source": [
    "locher = data.loc[data['Category']==0]['AspectRatio']"
   ]
  },
  {
   "cell_type": "code",
   "execution_count": 7,
   "metadata": {},
   "outputs": [
    {
     "data": {
      "text/plain": [
       "(array([6., 9., 5., 2., 6., 1., 2., 1., 1., 3.]),\n",
       " array([0.98426259, 1.10112559, 1.21798858, 1.33485158, 1.45171458,\n",
       "        1.56857758, 1.68544057, 1.80230357, 1.91916657, 2.03602956,\n",
       "        2.15289256]),\n",
       " <BarContainer object of 10 artists>)"
      ]
     },
     "execution_count": 7,
     "metadata": {},
     "output_type": "execute_result"
    },
    {
     "data": {
      "image/png": "[encoded data removed]",
      "text/plain": [
       "<Figure size 432x288 with 1 Axes>"
      ]
     },
     "metadata": {
      "needs_background": "light"
     },
     "output_type": "display_data"
    }
   ],
   "source": [
    "plt.hist(locher)"
   ]
  },
  {
   "cell_type": "code",
   "execution_count": 8,
   "metadata": {},
   "outputs": [
    {
     "data": {
      "text/plain": [
       "(array([10.,  0.,  2.,  4.,  9.,  2.,  1.,  3.,  3.,  3.]),\n",
       " array([0.47774159, 0.88164653, 1.28555148, 1.68945642, 2.09336137,\n",
       "        2.49726632, 2.90117126, 3.30507621, 3.70898115, 4.1128861 ,\n",
       "        4.51679104]),\n",
       " <BarContainer object of 10 artists>)"
      ]
     },
     "execution_count": 8,
     "metadata": {},
     "output_type": "execute_result"
    },
    {
     "data": {
      "image/png": "[encoded data removed]",
      "text/plain": [
       "<Figure size 432x288 with 1 Axes>"
      ]
     },
     "metadata": {
      "needs_background": "light"
     },
     "output_type": "display_data"
    }
   ],
   "source": [
    "tucker = data.loc[data['Category']==1]['AspectRatio']\n",
    "plt.hist(tucker)"
   ]
  },
  {
   "cell_type": "code",
   "execution_count": 9,
   "metadata": {},
   "outputs": [
    {
     "data": {
      "text/plain": [
       "<matplotlib.legend.Legend at 0x14568629910>"
      ]
     },
     "execution_count": 9,
     "metadata": {},
     "output_type": "execute_result"
    },
    {
     "data": {
      "image/png": "[encoded data removed]",
      "text/plain": [
       "<Figure size 432x288 with 1 Axes>"
      ]
     },
     "metadata": {
      "needs_background": "light"
     },
     "output_type": "display_data"
    }
   ],
   "source": [
    "plt.hist([tucker,locher], label=['tucker','locher'])\n",
    "plt.legend(loc = 'upper right')"
   ]
  },
  {
   "cell_type": "code",
   "execution_count": 10,
   "metadata": {},
   "outputs": [
    {
     "name": "stdout",
     "output_type": "stream",
     "text": [
      "Locher:\n",
      "std: 0.33002891451413807  var:  0.10891908441538027  mean:  1.3945325902784924\n",
      "Tucker:\n",
      "std: 1.2412323466507773  var:  1.5406577383721956  mean:  2.164878492984965\n"
     ]
    }
   ],
   "source": [
    "st = tucker.std() #standard deviation von tucker\n",
    "sl = locher.std() #standard deviation von locher\n",
    "vt = tucker.var() #sigma_kuadrat = varian; tucker\n",
    "vl = locher.var() #sigma_kuadrat = varian; locher\n",
    "mt = tucker.mean() #mean von tucker\n",
    "ml = locher.mean() #mean von locher\n",
    "\n",
    "print('Locher:')\n",
    "print('std:', sl, ' var: ', vl, ' mean: ',ml)\n",
    "print('Tucker:')\n",
    "print('std:', st, ' var: ', vt, ' mean: ',mt)\n"
   ]
  },
  {
   "cell_type": "code",
   "execution_count": 11,
   "metadata": {},
   "outputs": [],
   "source": [
    "Pl = len(locher)/73\n",
    "Pt = len(tucker)/73\n"
   ]
  },
  {
   "cell_type": "code",
   "execution_count": 12,
   "metadata": {},
   "outputs": [
    {
     "data": {
      "text/plain": [
       "1.4317386539568153"
      ]
     },
     "execution_count": 12,
     "metadata": {},
     "output_type": "execute_result"
    }
   ],
   "source": [
    "A = vt - vl\n",
    "A"
   ]
  },
  {
   "cell_type": "code",
   "execution_count": 13,
   "metadata": {},
   "outputs": [
    {
     "data": {
      "text/plain": [
       "-3.825401686596622"
      ]
     },
     "execution_count": 13,
     "metadata": {},
     "output_type": "execute_result"
    }
   ],
   "source": [
    "B = 2*(mt*vl -ml*vt)\n",
    "B\n"
   ]
  },
  {
   "cell_type": "code",
   "execution_count": 14,
   "metadata": {},
   "outputs": [
    {
     "data": {
      "text/plain": [
       "-2.9210643892269355"
      ]
     },
     "execution_count": 14,
     "metadata": {},
     "output_type": "execute_result"
    }
   ],
   "source": [
    "C= mt*mt*vl - ml*ml*vt + 2*vl*vt*math.log((sl*Pt)/(st*Pl))\n",
    "C"
   ]
  },
  {
   "cell_type": "code",
   "execution_count": 15,
   "metadata": {},
   "outputs": [
    {
     "data": {
      "text/plain": [
       "3.2916709282317163"
      ]
     },
     "execution_count": 15,
     "metadata": {},
     "output_type": "execute_result"
    }
   ],
   "source": [
    "x1 = (-B+math.sqrt(B**2-4*A*C))/(2*A)\n",
    "x1"
   ]
  },
  {
   "cell_type": "code",
   "execution_count": 16,
   "metadata": {},
   "outputs": [
    {
     "data": {
      "text/plain": [
       "-0.6198134100844096"
      ]
     },
     "execution_count": 16,
     "metadata": {},
     "output_type": "execute_result"
    }
   ],
   "source": [
    "x2 = (-B-math.sqrt(B**2-4*A*C))/(2*A)\n",
    "x2"
   ]
  },
  {
   "cell_type": "code",
   "execution_count": null,
   "metadata": {},
   "outputs": [],
   "source": []
  }
 ],
 "metadata": {
  "kernelspec": {
   "display_name": "Python 3 (ipykernel)",
   "language": "python",
   "name": "python3"
  },
  "language_info": {
   "codemirror_mode": {
    "name": "ipython",
    "version": 3
   },
   "file_extension": ".py",
   "mimetype": "text/x-python",
   "name": "python",
   "nbconvert_exporter": "python",
   "pygments_lexer": "ipython3",
   "version": "3.8.8"
  }
 },
 "nbformat": 4,
 "nbformat_minor": 4
}
