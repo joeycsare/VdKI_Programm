{
 "cells": [
  {
   "cell_type": "markdown",
   "metadata": {},
   "source": [
    "## Beispiel Neuronales Netz"
   ]
  },
  {
   "cell_type": "code",
   "execution_count": 1,
   "metadata": {},
   "outputs": [],
   "source": [
    "import tensorflow as tf\n",
    "from tensorflow import keras\n",
    "\n",
    "import numpy as np\n",
    "import sklearn\n",
    "import matplotlib.pyplot as plt\n",
    "import pandas as pd\n",
    "from keras.datasets import mnist"
   ]
  },
  {
   "cell_type": "code",
   "execution_count": 2,
   "metadata": {},
   "outputs": [],
   "source": [
    "(train_images, train_labels), (test_images, test_labels) = mnist.load_data() #laden Mnist-Datensammlung"
   ]
  },
  {
   "cell_type": "code",
   "execution_count": 3,
   "metadata": {},
   "outputs": [
    {
     "name": "stdout",
     "output_type": "stream",
     "text": [
      "Dimensionen Trainingsdaten:  (60000, 28, 28)\n",
      "Anzahl Trainingsdaten:  60000\n",
      "Lables Trainingsdaten:  [5 0 4 ... 5 6 8]\n"
     ]
    }
   ],
   "source": [
    "print('Dimensionen Trainingsdaten: ', train_images.shape) #Bilder als numpy-Arrays\n",
    "print('Anzahl Trainingsdaten: ',len(train_labels))\n",
    "print('Lables Trainingsdaten: ', train_labels) #Klassenbezeichnungen, als Ziffernarray"
   ]
  },
  {
   "cell_type": "code",
   "execution_count": 4,
   "metadata": {},
   "outputs": [
    {
     "name": "stdout",
     "output_type": "stream",
     "text": [
      "Anzahl Achsen des Tensors:  3\n"
     ]
    }
   ],
   "source": [
    "print('Anzahl Achsen des Tensors: ', train_images.ndim)"
   ]
  },
  {
   "cell_type": "code",
   "execution_count": 5,
   "metadata": {},
   "outputs": [
    {
     "name": "stdout",
     "output_type": "stream",
     "text": [
      "Datentyp: uint8\n"
     ]
    }
   ],
   "source": [
    "print('Datentyp:',train_images.dtype)"
   ]
  },
  {
   "cell_type": "markdown",
   "metadata": {},
   "source": [
    "Anzeigen eines Bildes der Trainigsdatenmenge"
   ]
  },
  {
   "cell_type": "code",
   "execution_count": 6,
   "metadata": {},
   "outputs": [
    {
     "data": {
      "image/png": "[encoded data removed]",
      "text/plain": [
       "<Figure size 432x288 with 1 Axes>"
      ]
     },
     "metadata": {
      "needs_background": "light"
     },
     "output_type": "display_data"
    }
   ],
   "source": [
    "digit=train_images[4]\n",
    "plt.imshow(digit, cmap=plt.cm.binary)\n",
    "plt.show()"
   ]
  },
  {
   "cell_type": "code",
   "execution_count": 7,
   "metadata": {},
   "outputs": [
    {
     "name": "stdout",
     "output_type": "stream",
     "text": [
      "Dimensionen Testsdaten:  (10000, 28, 28)\n",
      "Anzahl Testdaten:  10000\n",
      "Lables Testdaten:  [7 2 1 ... 4 5 6]\n"
     ]
    }
   ],
   "source": [
    "print('Dimensionen Testsdaten: ', test_images.shape) #Bilder als numpy-Arrays\n",
    "print('Anzahl Testdaten: ',len(test_labels))\n",
    "print('Lables Testdaten: ', test_labels) #Klassenbezeichnungen, als Ziffernarray"
   ]
  },
  {
   "cell_type": "code",
   "execution_count": 8,
   "metadata": {},
   "outputs": [],
   "source": [
    "from keras import models\n",
    "from keras import layers\n",
    "network = models.Sequential()\n",
    "network.add(layers.Dense(512, activation='relu',\n",
    "                        input_shape=(28*28,)))\n",
    "network.add(layers.Dense(10, activation='softmax')) #Layer gibt 10 Wahrscheinlichkeiten aus, deren Summe 1"
   ]
  },
  {
   "cell_type": "markdown",
   "metadata": {},
   "source": [
    "Vorverarbeitung Daten"
   ]
  },
  {
   "cell_type": "code",
   "execution_count": 9,
   "metadata": {},
   "outputs": [],
   "source": [
    "train_images=train_images.reshape((60000,28*28)) # Umwandeln in 2D_Array \n",
    "train_images=train_images.astype('float32') / 255  # Umwandeln in float von uint8, auf Werte von 00..1 aus 0..255"
   ]
  },
  {
   "cell_type": "code",
   "execution_count": 10,
   "metadata": {},
   "outputs": [],
   "source": [
    "test_images=test_images.reshape((10000,28*28)) # Umwandeln in 2D_Array \n",
    "test_images=test_images.astype('float32') / 255  # Umwandeln in float von uint8, auf Werte von 00..1 aus 0..255"
   ]
  },
  {
   "cell_type": "markdown",
   "metadata": {},
   "source": [
    "Kategorisierung Klassenbezeichnungen"
   ]
  },
  {
   "cell_type": "code",
   "execution_count": 11,
   "metadata": {},
   "outputs": [],
   "source": [
    "from keras.utils.np_utils import to_categorical\n",
    "train_labels=to_categorical(train_labels)\n",
    "test_labels=to_categorical(test_labels)"
   ]
  },
  {
   "cell_type": "markdown",
   "metadata": {},
   "source": [
    "Validierung mit Extra abgesplatener Validierungsmenge"
   ]
  },
  {
   "cell_type": "code",
   "execution_count": 12,
   "metadata": {},
   "outputs": [],
   "source": [
    "images_val = train_images[:10000] #10000 Datensätze zurückhalten als Validierungdmenge\n",
    "partial_images_val = train_images[50000:]\n",
    "labels_val = train_labels[:10000] \n",
    "partial_labels_val = train_labels[50000:]"
   ]
  },
  {
   "cell_type": "markdown",
   "metadata": {},
   "source": [
    "Vorbereitung Netz"
   ]
  },
  {
   "cell_type": "code",
   "execution_count": 13,
   "metadata": {},
   "outputs": [],
   "source": [
    "network.compile(optimizer='rmsprop',\n",
    "                loss='categorical_crossentropy',\n",
    "                metrics=['accuracy'])"
   ]
  },
  {
   "cell_type": "markdown",
   "metadata": {},
   "source": [
    "Trainieren"
   ]
  },
  {
   "cell_type": "code",
   "execution_count": 14,
   "metadata": {},
   "outputs": [
    {
     "name": "stdout",
     "output_type": "stream",
     "text": [
      "Epoch 1/20\n",
      "79/79 [==============================] - 16s 15ms/step - loss: 0.8068 - accuracy: 0.7643 - val_loss: 0.3348 - val_accuracy: 0.8986\n",
      "Epoch 2/20\n",
      "79/79 [==============================] - 1s 10ms/step - loss: 0.2401 - accuracy: 0.9318 - val_loss: 0.4434 - val_accuracy: 0.8605\n",
      "Epoch 3/20\n",
      "79/79 [==============================] - 1s 10ms/step - loss: 0.1705 - accuracy: 0.9492 - val_loss: 0.2137 - val_accuracy: 0.9367\n",
      "Epoch 4/20\n",
      "79/79 [==============================] - 1s 10ms/step - loss: 0.1217 - accuracy: 0.9642 - val_loss: 0.2120 - val_accuracy: 0.9376\n",
      "Epoch 5/20\n",
      "79/79 [==============================] - 1s 10ms/step - loss: 0.0900 - accuracy: 0.9749 - val_loss: 0.2173 - val_accuracy: 0.9356\n",
      "Epoch 6/20\n",
      "79/79 [==============================] - 1s 10ms/step - loss: 0.0677 - accuracy: 0.9821 - val_loss: 0.1770 - val_accuracy: 0.9490\n",
      "Epoch 7/20\n",
      "79/79 [==============================] - 1s 13ms/step - loss: 0.0510 - accuracy: 0.9883 - val_loss: 0.1909 - val_accuracy: 0.9429\n",
      "Epoch 8/20\n",
      "79/79 [==============================] - 1s 10ms/step - loss: 0.0388 - accuracy: 0.9907 - val_loss: 0.1851 - val_accuracy: 0.9479\n",
      "Epoch 9/20\n",
      "79/79 [==============================] - 1s 10ms/step - loss: 0.0251 - accuracy: 0.9954 - val_loss: 0.2060 - val_accuracy: 0.9407\n",
      "Epoch 10/20\n",
      "79/79 [==============================] - 1s 10ms/step - loss: 0.0205 - accuracy: 0.9958 - val_loss: 0.1919 - val_accuracy: 0.9497\n",
      "Epoch 11/20\n",
      "79/79 [==============================] - 1s 10ms/step - loss: 0.0165 - accuracy: 0.9968 - val_loss: 0.1666 - val_accuracy: 0.9575\n",
      "Epoch 12/20\n",
      "79/79 [==============================] - 1s 10ms/step - loss: 0.0095 - accuracy: 0.9988 - val_loss: 0.1757 - val_accuracy: 0.9548\n",
      "Epoch 13/20\n",
      "79/79 [==============================] - 1s 11ms/step - loss: 0.0067 - accuracy: 0.9993 - val_loss: 0.1960 - val_accuracy: 0.9535\n",
      "Epoch 14/20\n",
      "79/79 [==============================] - 1s 12ms/step - loss: 0.0060 - accuracy: 0.9988 - val_loss: 0.1899 - val_accuracy: 0.9550\n",
      "Epoch 15/20\n",
      "79/79 [==============================] - 1s 10ms/step - loss: 0.0040 - accuracy: 0.9995 - val_loss: 0.1907 - val_accuracy: 0.9559\n",
      "Epoch 16/20\n",
      "79/79 [==============================] - 1s 10ms/step - loss: 0.0023 - accuracy: 0.9999 - val_loss: 0.1900 - val_accuracy: 0.9589\n",
      "Epoch 17/20\n",
      "79/79 [==============================] - 1s 10ms/step - loss: 0.0024 - accuracy: 0.9999 - val_loss: 0.2005 - val_accuracy: 0.9568\n",
      "Epoch 18/20\n",
      "79/79 [==============================] - 1s 10ms/step - loss: 0.0016 - accuracy: 0.9998 - val_loss: 0.2028 - val_accuracy: 0.9589\n",
      "Epoch 19/20\n",
      "79/79 [==============================] - 1s 10ms/step - loss: 9.7982e-04 - accuracy: 0.9999 - val_loss: 0.2173 - val_accuracy: 0.9565\n",
      "Epoch 20/20\n",
      "79/79 [==============================] - 1s 11ms/step - loss: 6.3219e-04 - accuracy: 0.9999 - val_loss: 0.2254 - val_accuracy: 0.9560\n"
     ]
    }
   ],
   "source": [
    "#networkhistory=network.fit(train_images, train_labels, epochs=5, batch_size=128) #ohne Extravalidierung\n",
    "network_history=network.fit(partial_images_val,\n",
    "                           partial_labels_val, \n",
    "                           epochs=20, \n",
    "                           batch_size=128,\n",
    "                           validation_data=(images_val,labels_val))"
   ]
  },
  {
   "cell_type": "markdown",
   "metadata": {},
   "source": [
    "Testen"
   ]
  },
  {
   "cell_type": "code",
   "execution_count": 15,
   "metadata": {},
   "outputs": [
    {
     "name": "stdout",
     "output_type": "stream",
     "text": [
      "313/313 [==============================] - 1s 2ms/step - loss: 0.2191 - accuracy: 0.9565\n",
      "Korrektklasssifiziereungsrate Test: 0.9564999938011169\n"
     ]
    }
   ],
   "source": [
    "test_loss, test_acc = network.evaluate(test_images, test_labels)\n",
    "print('Korrektklasssifiziereungsrate Test:',test_acc)"
   ]
  },
  {
   "cell_type": "code",
   "execution_count": 16,
   "metadata": {},
   "outputs": [
    {
     "data": {
      "text/plain": [
       "dict_keys(['loss', 'accuracy', 'val_loss', 'val_accuracy'])"
      ]
     },
     "execution_count": 16,
     "metadata": {},
     "output_type": "execute_result"
    }
   ],
   "source": [
    "history_dict=network_history.history\n",
    "history_dict.keys()"
   ]
  },
  {
   "cell_type": "markdown",
   "metadata": {},
   "source": [
    "Einträge in history: überwachte Kennzahlen während training und Validierung"
   ]
  },
  {
   "cell_type": "markdown",
   "metadata": {},
   "source": [
    "#### Plotten Verlustfunktion"
   ]
  },
  {
   "cell_type": "code",
   "execution_count": 17,
   "metadata": {},
   "outputs": [
    {
     "data": {
      "image/png": "[encoded data removed]",
      "text/plain": [
       "<Figure size 432x288 with 1 Axes>"
      ]
     },
     "metadata": {
      "needs_background": "light"
     },
     "output_type": "display_data"
    }
   ],
   "source": [
    "loss_values = history_dict['loss']\n",
    "val_loss_values = history_dict['val_loss']\n",
    "\n",
    "epochs = range(1, len(loss_values) + 1)\n",
    "\n",
    "plt.plot(epochs, loss_values, 'bo', \n",
    "        label='Verlust Training') # bo blauer punkt\n",
    "plt.plot(epochs, val_loss_values, 'b',\n",
    "        label='Verlust Validierung')\n",
    "plt.title('Wert der Verlustfunktion Training / Validierung')\n",
    "plt.xlabel('Epochen')\n",
    "plt.ylabel('Wert der Verluszfunktion')\n",
    "plt.legend()\n",
    "plt.show()"
   ]
  },
  {
   "cell_type": "markdown",
   "metadata": {},
   "source": [
    "### Korrektklassifizierungsrate"
   ]
  },
  {
   "cell_type": "code",
   "execution_count": 19,
   "metadata": {},
   "outputs": [
    {
     "data": {
      "image/png": "[encoded data removed]",
      "text/plain": [
       "<Figure size 432x288 with 1 Axes>"
      ]
     },
     "metadata": {
      "needs_background": "light"
     },
     "output_type": "display_data"
    }
   ],
   "source": [
    "plt.clf() #Zeichenbereich löschen\n",
    "acc = history_dict['accuracy']\n",
    "val_acc = history_dict['val_accuracy']\n",
    "\n",
    "plt.plot(epochs, acc, 'ro', \n",
    "        label='Training') # bo blauer punkt\n",
    "plt.plot(epochs, val_acc, 'r',\n",
    "        label='Validierung')\n",
    "plt.title('Korrektklassifizierungsrate Training / Validierung')\n",
    "plt.xlabel('Epochen')\n",
    "plt.ylabel('Korrektklassifizierungsrate')\n",
    "plt.legend()\n",
    "plt.show()"
   ]
  },
  {
   "cell_type": "markdown",
   "metadata": {},
   "source": [
    "### Vorhersagen"
   ]
  },
  {
   "cell_type": "code",
   "execution_count": 20,
   "metadata": {},
   "outputs": [
    {
     "data": {
      "text/plain": [
       "array([[1.6424889e-10, 4.6778294e-17, 8.3821984e-11, ..., 1.0000000e+00,\n",
       "        5.1062025e-13, 2.1747422e-09],\n",
       "       [6.7924492e-11, 4.8230063e-17, 9.9999988e-01, ..., 1.4142660e-23,\n",
       "        3.6776649e-12, 6.9141237e-24],\n",
       "       [4.3346816e-11, 9.9998844e-01, 1.6371678e-07, ..., 9.5802188e-06,\n",
       "        1.4156951e-06, 1.3352460e-08],\n",
       "       ...,\n",
       "       [3.2924154e-14, 1.6985165e-16, 1.8892333e-14, ..., 2.5008131e-07,\n",
       "        6.4292044e-07, 5.6010545e-06],\n",
       "       [9.0259475e-12, 2.2485246e-15, 1.4728692e-16, ..., 1.3516690e-15,\n",
       "        1.7027654e-05, 2.4469112e-16],\n",
       "       [6.8565067e-14, 5.7241306e-21, 2.0850489e-12, ..., 1.9511385e-19,\n",
       "        7.6280881e-23, 1.2422462e-18]], dtype=float32)"
      ]
     },
     "execution_count": 20,
     "metadata": {},
     "output_type": "execute_result"
    }
   ],
   "source": [
    "network.predict(test_images)"
   ]
  },
  {
   "cell_type": "code",
   "execution_count": null,
   "metadata": {},
   "outputs": [],
   "source": []
  }
 ],
 "metadata": {
  "kernelspec": {
   "display_name": "Python 3 (ipykernel)",
   "language": "python",
   "name": "python3"
  },
  "language_info": {
   "codemirror_mode": {
    "name": "ipython",
    "version": 3
   },
   "file_extension": ".py",
   "mimetype": "text/x-python",
   "name": "python",
   "nbconvert_exporter": "python",
   "pygments_lexer": "ipython3",
   "version": "3.8.8"
  }
 },
 "nbformat": 4,
 "nbformat_minor": 4
}
