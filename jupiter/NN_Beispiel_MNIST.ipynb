{
 "cells": [
  {
   "cell_type": "markdown",
   "metadata": {},
   "source": [
    "## Beispiel Neuronales Netz"
   ]
  },
  {
   "cell_type": "code",
   "execution_count": 1,
   "metadata": {},
   "outputs": [],
   "source": [
    "import tensorflow as tf\n",
    "from tensorflow import keras\n",
    "\n",
    "import numpy as np\n",
    "import sklearn\n",
    "import matplotlib.pyplot as plt\n",
    "import pandas as pd\n",
    "from keras.datasets import mnist"
   ]
  },
  {
   "cell_type": "code",
   "execution_count": 2,
   "metadata": {},
   "outputs": [],
   "source": [
    "(train_images, train_labels), (test_images, test_labels) = mnist.load_data() #laden Mnist-Datensammlung"
   ]
  },
  {
   "cell_type": "code",
   "execution_count": 3,
   "metadata": {},
   "outputs": [
    {
     "name": "stdout",
     "output_type": "stream",
     "text": [
      "Dimensionen Trainingsdaten:  (60000, 28, 28)\n",
      "Anzahl Trainingsdaten:  60000\n",
      "Lables Trainingsdaten:  [5 0 4 ... 5 6 8]\n"
     ]
    }
   ],
   "source": [
    "print('Dimensionen Trainingsdaten: ', train_images.shape) #Bilder als numpy-Arrays\n",
    "print('Anzahl Trainingsdaten: ',len(train_labels))\n",
    "print('Lables Trainingsdaten: ', train_labels) #Klassenbezeichnungen, als Ziffernarray"
   ]
  },
  {
   "cell_type": "code",
   "execution_count": 4,
   "metadata": {},
   "outputs": [
    {
     "name": "stdout",
     "output_type": "stream",
     "text": [
      "Anzahl Achsen des Tensors:  3\n"
     ]
    }
   ],
   "source": [
    "print('Anzahl Achsen des Tensors: ', train_images.ndim)"
   ]
  },
  {
   "cell_type": "code",
   "execution_count": 5,
   "metadata": {},
   "outputs": [
    {
     "name": "stdout",
     "output_type": "stream",
     "text": [
      "Datentyp: uint8\n"
     ]
    }
   ],
   "source": [
    "print('Datentyp:',train_images.dtype)"
   ]
  },
  {
   "cell_type": "markdown",
   "metadata": {},
   "source": [
    "Anzeigen eines Bildes der Trainigsdatenmenge"
   ]
  },
  {
   "cell_type": "code",
   "execution_count": 6,
   "metadata": {},
   "outputs": [
    {
     "data": {
      "image/png": "[encoded data removed]",
      "text/plain": [
       "<Figure size 432x288 with 1 Axes>"
      ]
     },
     "metadata": {
      "needs_background": "light"
     },
     "output_type": "display_data"
    }
   ],
   "source": [
    "digit=train_images[4]\n",
    "plt.imshow(digit, cmap=plt.cm.binary)\n",
    "plt.show()"
   ]
  },
  {
   "cell_type": "code",
   "execution_count": 7,
   "metadata": {},
   "outputs": [
    {
     "name": "stdout",
     "output_type": "stream",
     "text": [
      "Dimensionen Testsdaten:  (10000, 28, 28)\n",
      "Anzahl Testdaten:  10000\n",
      "Lables Testdaten:  [7 2 1 ... 4 5 6]\n"
     ]
    }
   ],
   "source": [
    "print('Dimensionen Testsdaten: ', test_images.shape) #Bilder als numpy-Arrays\n",
    "print('Anzahl Testdaten: ',len(test_labels))\n",
    "print('Lables Testdaten: ', test_labels) #Klassenbezeichnungen, als Ziffernarray"
   ]
  },
  {
   "cell_type": "code",
   "execution_count": 8,
   "metadata": {},
   "outputs": [],
   "source": [
    "from keras import models\n",
    "from keras import layers\n",
    "network = models.Sequential()\n",
    "network.add(layers.Dense(512, activation='relu',\n",
    "                        input_shape=(28*28,)))\n",
    "network.add(layers.Dense(10, activation='softmax')) #Layer gibt 10 Wahrscheinlichkeiten aus, deren Summe 1"
   ]
  },
  {
   "cell_type": "markdown",
   "metadata": {},
   "source": [
    "Vorverarbeitung Daten"
   ]
  },
  {
   "cell_type": "code",
   "execution_count": 9,
   "metadata": {},
   "outputs": [],
   "source": [
    "train_images=train_images.reshape((60000,28*28)) # Umwandeln in 2D_Array \n",
    "train_images=train_images.astype('float32') / 255  # Umwandeln in float von uint8, auf Werte von 00..1 aus 0..255"
   ]
  },
  {
   "cell_type": "code",
   "execution_count": 10,
   "metadata": {},
   "outputs": [],
   "source": [
    "test_images=test_images.reshape((10000,28*28)) # Umwandeln in 2D_Array \n",
    "test_images=test_images.astype('float32') / 255  # Umwandeln in float von uint8, auf Werte von 00..1 aus 0..255"
   ]
  },
  {
   "cell_type": "markdown",
   "metadata": {},
   "source": [
    "Kategorisierung Klassenbezeichnungen"
   ]
  },
  {
   "cell_type": "code",
   "execution_count": 11,
   "metadata": {},
   "outputs": [],
   "source": [
    "from keras.utils.np_utils import to_categorical\n",
    "train_labels=to_categorical(train_labels)\n",
    "test_labels=to_categorical(test_labels)"
   ]
  },
  {
   "cell_type": "markdown",
   "metadata": {},
   "source": [
    "Validierung mit Extra abgesplatener Validierungsmenge"
   ]
  },
  {
   "cell_type": "code",
   "execution_count": 12,
   "metadata": {},
   "outputs": [],
   "source": [
    "images_val = train_images[:10000] #10000 Datensätze zurückhalten als Validierungdmenge\n",
    "partial_images_val = train_images[50000:]\n",
    "labels_val = train_labels[:10000] \n",
    "partial_labels_val = train_labels[50000:]"
   ]
  },
  {
   "cell_type": "markdown",
   "metadata": {},
   "source": [
    "Vorbereitung Netz"
   ]
  },
  {
   "cell_type": "code",
   "execution_count": 13,
   "metadata": {},
   "outputs": [],
   "source": [
    "network.compile(optimizer='rmsprop',\n",
    "                loss='categorical_crossentropy',\n",
    "                metrics=['accuracy'])"
   ]
  },
  {
   "cell_type": "markdown",
   "metadata": {},
   "source": [
    "Trainieren"
   ]
  },
  {
   "cell_type": "code",
   "execution_count": 14,
   "metadata": {},
   "outputs": [
    {
     "name": "stdout",
     "output_type": "stream",
     "text": [
      "Epoch 1/20\n",
      "79/79 [==============================] - 1s 6ms/step - loss: 0.4989 - accuracy: 0.8602 - val_loss: 0.5148 - val_accuracy: 0.8241\n",
      "Epoch 2/20\n",
      "79/79 [==============================] - 1s 6ms/step - loss: 0.2318 - accuracy: 0.9337 - val_loss: 0.2810 - val_accuracy: 0.9194\n",
      "Epoch 3/20\n",
      "79/79 [==============================] - 0s 5ms/step - loss: 0.1623 - accuracy: 0.9552 - val_loss: 0.2257 - val_accuracy: 0.9312\n",
      "Epoch 4/20\n",
      "79/79 [==============================] - 1s 7ms/step - loss: 0.1220 - accuracy: 0.9662 - val_loss: 0.1965 - val_accuracy: 0.9414\n",
      "Epoch 5/20\n",
      "79/79 [==============================] - 0s 5ms/step - loss: 0.0932 - accuracy: 0.9740 - val_loss: 0.2353 - val_accuracy: 0.9283\n",
      "Epoch 6/20\n",
      "79/79 [==============================] - 0s 5ms/step - loss: 0.0695 - accuracy: 0.9820 - val_loss: 0.1922 - val_accuracy: 0.9429\n",
      "Epoch 7/20\n",
      "79/79 [==============================] - 0s 5ms/step - loss: 0.0543 - accuracy: 0.9855 - val_loss: 0.1830 - val_accuracy: 0.9472\n",
      "Epoch 8/20\n",
      "79/79 [==============================] - 1s 7ms/step - loss: 0.0403 - accuracy: 0.9900 - val_loss: 0.1871 - val_accuracy: 0.9472\n",
      "Epoch 9/20\n",
      "79/79 [==============================] - 0s 6ms/step - loss: 0.0291 - accuracy: 0.9926 - val_loss: 0.2217 - val_accuracy: 0.9346\n",
      "Epoch 10/20\n",
      "79/79 [==============================] - 0s 6ms/step - loss: 0.0215 - accuracy: 0.9953 - val_loss: 0.1768 - val_accuracy: 0.9528\n",
      "Epoch 11/20\n",
      "79/79 [==============================] - 0s 5ms/step - loss: 0.0155 - accuracy: 0.9971 - val_loss: 0.1984 - val_accuracy: 0.9493\n",
      "Epoch 12/20\n",
      "79/79 [==============================] - 0s 5ms/step - loss: 0.0121 - accuracy: 0.9980 - val_loss: 0.1848 - val_accuracy: 0.9524\n",
      "Epoch 13/20\n",
      "79/79 [==============================] - 0s 5ms/step - loss: 0.0079 - accuracy: 0.9993 - val_loss: 0.1818 - val_accuracy: 0.9546\n",
      "Epoch 14/20\n",
      "79/79 [==============================] - 0s 5ms/step - loss: 0.0066 - accuracy: 0.9990 - val_loss: 0.1804 - val_accuracy: 0.9555\n",
      "Epoch 15/20\n",
      "79/79 [==============================] - 0s 5ms/step - loss: 0.0053 - accuracy: 0.9990 - val_loss: 0.1922 - val_accuracy: 0.9565\n",
      "Epoch 16/20\n",
      "79/79 [==============================] - 0s 5ms/step - loss: 0.0030 - accuracy: 0.9999 - val_loss: 0.1965 - val_accuracy: 0.9554\n",
      "Epoch 17/20\n",
      "79/79 [==============================] - 0s 5ms/step - loss: 0.0030 - accuracy: 0.9995 - val_loss: 0.2091 - val_accuracy: 0.9541\n",
      "Epoch 18/20\n",
      "79/79 [==============================] - 0s 5ms/step - loss: 0.0022 - accuracy: 0.9996 - val_loss: 0.1975 - val_accuracy: 0.9573\n",
      "Epoch 19/20\n",
      "79/79 [==============================] - 0s 6ms/step - loss: 0.0012 - accuracy: 1.0000 - val_loss: 0.2092 - val_accuracy: 0.9573\n",
      "Epoch 20/20\n",
      "79/79 [==============================] - 0s 5ms/step - loss: 9.6943e-04 - accuracy: 0.9999 - val_loss: 0.2105 - val_accuracy: 0.9593\n"
     ]
    }
   ],
   "source": [
    "#networkhistory=network.fit(train_images, train_labels, epochs=5, batch_size=128) #ohne Extravalidierung\n",
    "network_history=network.fit(partial_images_val,\n",
    "                           partial_labels_val, \n",
    "                           epochs=20, \n",
    "                           batch_size=128,\n",
    "                           validation_data=(images_val,labels_val))"
   ]
  },
  {
   "cell_type": "markdown",
   "metadata": {},
   "source": [
    "Testen"
   ]
  },
  {
   "cell_type": "code",
   "execution_count": 15,
   "metadata": {},
   "outputs": [
    {
     "name": "stdout",
     "output_type": "stream",
     "text": [
      "313/313 [==============================] - 0s 675us/step - loss: 0.1954 - accuracy: 0.9610\n",
      "Korrektklasssifiziereungsrate Test: 0.9610000252723694\n"
     ]
    }
   ],
   "source": [
    "test_loss, test_acc = network.evaluate(test_images, test_labels)\n",
    "print('Korrektklasssifiziereungsrate Test:',test_acc)"
   ]
  },
  {
   "cell_type": "code",
   "execution_count": 16,
   "metadata": {},
   "outputs": [
    {
     "data": {
      "text/plain": [
       "dict_keys(['loss', 'accuracy', 'val_loss', 'val_accuracy'])"
      ]
     },
     "execution_count": 16,
     "metadata": {},
     "output_type": "execute_result"
    }
   ],
   "source": [
    "history_dict=network_history.history\n",
    "history_dict.keys()"
   ]
  },
  {
   "cell_type": "markdown",
   "metadata": {},
   "source": [
    "Einträge in history: überwachte Kennzahlen während training und Validierung"
   ]
  },
  {
   "cell_type": "markdown",
   "metadata": {},
   "source": [
    "#### Plotten Verlustfunktion"
   ]
  },
  {
   "cell_type": "code",
   "execution_count": 17,
   "metadata": {},
   "outputs": [
    {
     "data": {
      "image/png": "[encoded data removed]",
      "text/plain": [
       "<Figure size 432x288 with 1 Axes>"
      ]
     },
     "metadata": {
      "needs_background": "light"
     },
     "output_type": "display_data"
    }
   ],
   "source": [
    "loss_values = history_dict['loss']\n",
    "val_loss_values = history_dict['val_loss']\n",
    "\n",
    "epochs = range(1, len(loss_values) + 1)\n",
    "\n",
    "plt.plot(epochs, loss_values, 'bo', \n",
    "        label='Verlust Training') # bo blauer punkt\n",
    "plt.plot(epochs, val_loss_values, 'b',\n",
    "        label='Verlust Validierung')\n",
    "plt.title('Wert der Verlustfunktion Training / Validierung')\n",
    "plt.xlabel('Epochen')\n",
    "plt.ylabel('Wert der Verluszfunktion')\n",
    "plt.legend()\n",
    "plt.show()"
   ]
  },
  {
   "cell_type": "markdown",
   "metadata": {},
   "source": [
    "### Korrektklassifizierungsrate"
   ]
  },
  {
   "cell_type": "code",
   "execution_count": 18,
   "metadata": {},
   "outputs": [
    {
     "data": {
      "image/png": "[encoded data removed]",
      "text/plain": [
       "<Figure size 432x288 with 1 Axes>"
      ]
     },
     "metadata": {
      "needs_background": "light"
     },
     "output_type": "display_data"
    }
   ],
   "source": [
    "plt.clf() #Zeichenbereich löschen\n",
    "acc = history_dict['accuracy']\n",
    "val_acc = history_dict['val_accuracy']\n",
    "\n",
    "plt.plot(epochs, acc, 'ro', \n",
    "        label='Training') # bo blauer punkt\n",
    "plt.plot(epochs, val_acc, 'r',\n",
    "        label='Validierung')\n",
    "plt.title('Korrektklassifizierungsrate Training / Validierung')\n",
    "plt.xlabel('Epochen')\n",
    "plt.ylabel('Korrektklassifizierungsrate')\n",
    "plt.legend()\n",
    "plt.show()"
   ]
  },
  {
   "cell_type": "markdown",
   "metadata": {},
   "source": [
    "### Vorhersagen"
   ]
  },
  {
   "cell_type": "code",
   "execution_count": 19,
   "metadata": {},
   "outputs": [
    {
     "data": {
      "text/plain": [
       "array([[1.79516846e-10, 1.16684496e-17, 4.99016869e-11, ...,\n",
       "        1.00000000e+00, 2.30574647e-13, 3.14898496e-10],\n",
       "       [1.67880085e-11, 6.76969696e-15, 9.99999881e-01, ...,\n",
       "        1.29925679e-20, 4.02014290e-11, 1.43635743e-22],\n",
       "       [8.38073222e-11, 9.99991059e-01, 8.14172381e-07, ...,\n",
       "        3.52081724e-06, 2.69846441e-06, 1.54160116e-08],\n",
       "       ...,\n",
       "       [5.15889948e-15, 2.19026259e-17, 1.25014389e-14, ...,\n",
       "        2.23129604e-08, 2.05338068e-07, 5.77366905e-07],\n",
       "       [1.07101814e-10, 2.28497556e-14, 1.19426182e-15, ...,\n",
       "        3.66831176e-16, 7.26232902e-05, 5.94409352e-15],\n",
       "       [8.33367087e-15, 5.02658317e-26, 3.17258806e-13, ...,\n",
       "        1.19184619e-21, 4.16828738e-23, 7.51338652e-21]], dtype=float32)"
      ]
     },
     "execution_count": 19,
     "metadata": {},
     "output_type": "execute_result"
    }
   ],
   "source": [
    "network.predict(test_images)"
   ]
  },
  {
   "cell_type": "code",
   "execution_count": null,
   "metadata": {},
   "outputs": [],
   "source": []
  }
 ],
 "metadata": {
  "kernelspec": {
   "display_name": "Python 3",
   "language": "python",
   "name": "python3"
  },
  "language_info": {
   "codemirror_mode": {
    "name": "ipython",
    "version": 3
   },
   "file_extension": ".py",
   "mimetype": "text/x-python",
   "name": "python",
   "nbconvert_exporter": "python",
   "pygments_lexer": "ipython3",
   "version": "3.9.7"
  }
 },
 "nbformat": 4,
 "nbformat_minor": 4
}
