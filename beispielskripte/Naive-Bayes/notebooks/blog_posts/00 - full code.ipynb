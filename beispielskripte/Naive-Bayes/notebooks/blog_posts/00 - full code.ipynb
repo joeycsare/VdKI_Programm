{
 "cells": [
  {
   "cell_type": "code",
   "execution_count": 15,
   "metadata": {},
   "outputs": [],
   "source": [
    "import pandas as pd\n",
    "\n",
    "from helper_functions import prepare_data, replace_strings\n",
    "\n",
    "from pprint import pprint\n",
    "from IPython.display import Image"
   ]
  },
  {
   "cell_type": "markdown",
   "metadata": {},
   "source": [
    "# Data Preparation"
   ]
  },
  {
   "cell_type": "code",
   "execution_count": 16,
   "metadata": {},
   "outputs": [
    {
     "data": {
      "text/html": [
       "<div>\n",
       "<style scoped>\n",
       "    .dataframe tbody tr th:only-of-type {\n",
       "        vertical-align: middle;\n",
       "    }\n",
       "\n",
       "    .dataframe tbody tr th {\n",
       "        vertical-align: top;\n",
       "    }\n",
       "\n",
       "    .dataframe thead th {\n",
       "        text-align: right;\n",
       "    }\n",
       "</style>\n",
       "<table border=\"1\" class=\"dataframe\">\n",
       "  <thead>\n",
       "    <tr style=\"text-align: right;\">\n",
       "      <th></th>\n",
       "      <th>Sex</th>\n",
       "      <th>Pclass</th>\n",
       "      <th>Age_Group</th>\n",
       "      <th>Embarked</th>\n",
       "      <th>SibSp</th>\n",
       "      <th>ParCh</th>\n",
       "      <th>Survived</th>\n",
       "    </tr>\n",
       "    <tr>\n",
       "      <th>PassengerId</th>\n",
       "      <th></th>\n",
       "      <th></th>\n",
       "      <th></th>\n",
       "      <th></th>\n",
       "      <th></th>\n",
       "      <th></th>\n",
       "      <th></th>\n",
       "    </tr>\n",
       "  </thead>\n",
       "  <tbody>\n",
       "    <tr>\n",
       "      <th>1</th>\n",
       "      <td>male</td>\n",
       "      <td>3</td>\n",
       "      <td>Adult</td>\n",
       "      <td>S</td>\n",
       "      <td>1</td>\n",
       "      <td>0</td>\n",
       "      <td>0</td>\n",
       "    </tr>\n",
       "    <tr>\n",
       "      <th>2</th>\n",
       "      <td>female</td>\n",
       "      <td>1</td>\n",
       "      <td>Adult</td>\n",
       "      <td>C</td>\n",
       "      <td>1</td>\n",
       "      <td>0</td>\n",
       "      <td>1</td>\n",
       "    </tr>\n",
       "    <tr>\n",
       "      <th>3</th>\n",
       "      <td>female</td>\n",
       "      <td>3</td>\n",
       "      <td>Adult</td>\n",
       "      <td>S</td>\n",
       "      <td>0</td>\n",
       "      <td>0</td>\n",
       "      <td>1</td>\n",
       "    </tr>\n",
       "    <tr>\n",
       "      <th>4</th>\n",
       "      <td>female</td>\n",
       "      <td>1</td>\n",
       "      <td>Adult</td>\n",
       "      <td>S</td>\n",
       "      <td>1</td>\n",
       "      <td>0</td>\n",
       "      <td>1</td>\n",
       "    </tr>\n",
       "    <tr>\n",
       "      <th>5</th>\n",
       "      <td>male</td>\n",
       "      <td>3</td>\n",
       "      <td>Adult</td>\n",
       "      <td>S</td>\n",
       "      <td>0</td>\n",
       "      <td>0</td>\n",
       "      <td>0</td>\n",
       "    </tr>\n",
       "  </tbody>\n",
       "</table>\n",
       "</div>"
      ],
      "text/plain": [
       "                Sex  Pclass Age_Group Embarked  SibSp  ParCh  Survived\n",
       "PassengerId                                                           \n",
       "1              male       3     Adult        S      1      0         0\n",
       "2            female       1     Adult        C      1      0         1\n",
       "3            female       3     Adult        S      0      0         1\n",
       "4            female       1     Adult        S      1      0         1\n",
       "5              male       3     Adult        S      0      0         0"
      ]
     },
     "execution_count": 16,
     "metadata": {},
     "output_type": "execute_result"
    }
   ],
   "source": [
    "# load data\n",
    "df_train = pd.read_csv(\"../../data/train.csv\", index_col=\"PassengerId\")\n",
    "df_test = pd.read_csv(\"../../data/test.csv\", index_col=\"PassengerId\")\n",
    "test_labels = pd.read_csv(\"../../data/test_labels.csv\", index_col=\"PassengerId\", squeeze=True)\n",
    "\n",
    "# prepare data\n",
    "df_train = prepare_data(df_train)\n",
    "df_test = prepare_data(df_test, train_set=False)\n",
    "\n",
    "# handle missing values in training data\n",
    "embarked_mode = df_train.Embarked.mode()[0]\n",
    "df_train[\"Embarked\"].fillna(embarked_mode, inplace=True)\n",
    "\n",
    "df_train.head()"
   ]
  },
  {
   "cell_type": "markdown",
   "metadata": {},
   "source": [
    "## 1. Step of the Algorithm"
   ]
  },
  {
   "cell_type": "code",
   "execution_count": null,
   "metadata": {},
   "outputs": [],
   "source": [
    "def create_age_groups(age):\n",
    "    if age <= 12:\n",
    "        return \"Child\"\n",
    "    if 12 < age <= 19:\n",
    "        return \"Teenager\"\n",
    "    if 19 < age:\n",
    "        return \"Adult\"\n",
    "    else:\n",
    "        return \"Unknown\"\n",
    "    "
   ]
  },
  {
   "cell_type": "code",
   "execution_count": null,
   "metadata": {},
   "outputs": [],
   "source": [
    "\n",
    "def prepare_data(df, train_set=True):\n",
    "    \n",
    "    # create new feature\n",
    "    df[\"Age_Group\"] = df.Age.apply(create_age_groups)\n",
    "    \n",
    "    # drop features that we are not going to use\n",
    "    df.drop([\"Name\", \"Age\", \"Ticket\", \"Fare\", \"Cabin\"], axis=1, inplace=True)\n",
    "    \n",
    "    # rename column \"Parch\" to \"ParCh\"\n",
    "    df.rename({\"Parch\": \"ParCh\"}, axis=1, inplace=True)\n",
    "    \n",
    "    # rearange order of columns\n",
    "    if train_set:\n",
    "        df = df[[\"Sex\", \"Pclass\", \"Age_Group\", \"Embarked\", \"SibSp\", \"ParCh\", \"Survived\"]]\n",
    "    else:\n",
    "        df = df[[\"Sex\", \"Pclass\", \"Age_Group\", \"Embarked\", \"SibSp\", \"ParCh\"]]\n",
    "    \n",
    "    return df\n"
   ]
  },
  {
   "cell_type": "code",
   "execution_count": null,
   "metadata": {},
   "outputs": [],
   "source": [
    "\n",
    "def replace_strings(df):\n",
    "    \n",
    "    df.Age_Group.replace({\"Adult\": 0, \"Unknown\": 1, \"Teenager\": 2, \"Child\": 3}, inplace=True)\n",
    "    df.Embarked.replace({\"S\": 0, \"C\": 1, \"Q\": 2}, inplace=True)\n",
    "    df.Sex.replace({\"male\": 0, \"female\": 1}, inplace=True)\n",
    "\n",
    "    return df"
   ]
  },
  {
   "cell_type": "code",
   "execution_count": 17,
   "metadata": {},
   "outputs": [],
   "source": [
    "example_table = {\n",
    "    \n",
    "    \"Sex\": {\"female\": [0.15, 0.68],\n",
    "            \"male\": [0.85, 0.32]},\n",
    "    \n",
    "    \"Pclass\": {1: [0.15, 0.40],\n",
    "               2: [0.18, 0.25],\n",
    "               3: [0.68, 0.35]},\n",
    "    \n",
    "    \"class_names\": [0, 1],\n",
    "    \"class_counts\": [549, 342]\n",
    "}"
   ]
  },
  {
   "cell_type": "code",
   "execution_count": 18,
   "metadata": {},
   "outputs": [],
   "source": [
    "def create_table(df, label_column):\n",
    "    table = {}\n",
    "\n",
    "    # determine values for the label\n",
    "    value_counts = df[label_column].value_counts().sort_index()\n",
    "    table[\"class_names\"] = value_counts.index.to_numpy()\n",
    "    table[\"class_counts\"] = value_counts.values\n",
    "\n",
    "    # determine probabilities for the features\n",
    "    for feature in df.drop(label_column, axis=1).columns:\n",
    "        table[feature] = {}\n",
    "\n",
    "        # determine counts\n",
    "        counts = df.groupby(label_column)[feature].value_counts()\n",
    "        df_counts = counts.unstack(label_column)\n",
    "\n",
    "        # add one count to avoid \"problem of rare values\"\n",
    "        if df_counts.isna().any(axis=None):\n",
    "            df_counts.fillna(value=0, inplace=True)\n",
    "            df_counts += 1\n",
    "\n",
    "        # calculate probabilities\n",
    "        df_probabilities = df_counts / df_counts.sum()\n",
    "        for value in df_probabilities.index:\n",
    "            probabilities = df_probabilities.loc[value].to_numpy()\n",
    "            table[feature][value] = probabilities\n",
    "            \n",
    "    return table"
   ]
  },
  {
   "cell_type": "code",
   "execution_count": 19,
   "metadata": {},
   "outputs": [
    {
     "name": "stdout",
     "output_type": "stream",
     "text": [
      "{'Age_Group': {'Adult': array([0.61748634, 0.61695906]),\n",
      "               'Child': array([0.05282332, 0.11695906]),\n",
      "               'Teenager': array([0.10200364, 0.11403509]),\n",
      "               'Unknown': array([0.2276867 , 0.15204678])},\n",
      " 'Embarked': {'C': array([0.13661202, 0.27192982]),\n",
      "              'Q': array([0.0856102, 0.0877193]),\n",
      "              'S': array([0.77777778, 0.64035088])},\n",
      " 'ParCh': {0: array([0.80215827, 0.67048711]),\n",
      "           1: array([0.0971223 , 0.18911175]),\n",
      "           2: array([0.07374101, 0.11747851]),\n",
      "           3: array([0.00539568, 0.01146132]),\n",
      "           4: array([0.00899281, 0.00286533]),\n",
      "           5: array([0.00899281, 0.00573066]),\n",
      "           6: array([0.00359712, 0.00286533])},\n",
      " 'Pclass': {1: array([0.14571949, 0.39766082]),\n",
      "            2: array([0.17668488, 0.25438596]),\n",
      "            3: array([0.67759563, 0.34795322])},\n",
      " 'Sex': {'female': array([0.14754098, 0.68128655]),\n",
      "         'male': array([0.85245902, 0.31871345])},\n",
      " 'SibSp': {0: array([0.7176259 , 0.60458453]),\n",
      "           1: array([0.17625899, 0.32378223]),\n",
      "           2: array([0.02877698, 0.04011461]),\n",
      "           3: array([0.02338129, 0.01432665]),\n",
      "           4: array([0.02877698, 0.01146132]),\n",
      "           5: array([0.01079137, 0.00286533]),\n",
      "           8: array([0.01438849, 0.00286533])},\n",
      " 'class_counts': array([549, 342], dtype=int64),\n",
      " 'class_names': array([0, 1], dtype=int64)}\n"
     ]
    }
   ],
   "source": [
    "lookup_table = create_table(df_train, label_column=\"Survived\")\n",
    "pprint(lookup_table)"
   ]
  },
  {
   "cell_type": "markdown",
   "metadata": {},
   "source": [
    "## 2. Step of the Algorithm"
   ]
  },
  {
   "cell_type": "code",
   "execution_count": 20,
   "metadata": {},
   "outputs": [],
   "source": [
    "def predict_example(row, lookup_table):\n",
    "    \n",
    "    class_estimates = lookup_table[\"class_counts\"]\n",
    "    for feature in row.index:\n",
    "\n",
    "        try:\n",
    "            value = row[feature]\n",
    "            probabilities = lookup_table[feature][value]\n",
    "            class_estimates = class_estimates * probabilities\n",
    "\n",
    "        # skip in case \"value\" only occurs in test set but not in train set\n",
    "        # (i.e. \"value\" is not in \"lookup_table\")\n",
    "        except KeyError:\n",
    "            continue\n",
    "\n",
    "    index_max_class = class_estimates.argmax()\n",
    "    prediction = lookup_table[\"class_names\"][index_max_class]\n",
    "    \n",
    "    return prediction"
   ]
  },
  {
   "cell_type": "code",
   "execution_count": 21,
   "metadata": {},
   "outputs": [
    {
     "data": {
      "text/plain": [
       "PassengerId\n",
       "892    0\n",
       "893    1\n",
       "894    0\n",
       "895    0\n",
       "896    1\n",
       "dtype: int64"
      ]
     },
     "execution_count": 21,
     "metadata": {},
     "output_type": "execute_result"
    }
   ],
   "source": [
    "predictions = df_test.apply(predict_example, axis=1, args=(lookup_table,))\n",
    "predictions.head()"
   ]
  },
  {
   "cell_type": "markdown",
   "metadata": {},
   "source": [
    "# Check Accuracy"
   ]
  },
  {
   "cell_type": "code",
   "execution_count": 22,
   "metadata": {},
   "outputs": [
    {
     "name": "stdout",
     "output_type": "stream",
     "text": [
      "Accuracy: 0.766\n"
     ]
    }
   ],
   "source": [
    "predictions_correct = predictions == test_labels\n",
    "accuracy = predictions_correct.mean()\n",
    "print(f\"Accuracy: {accuracy:.3f}\")"
   ]
  },
  {
   "cell_type": "markdown",
   "metadata": {},
   "source": [
    "# Comparison to Sklearn"
   ]
  },
  {
   "cell_type": "code",
   "execution_count": 23,
   "metadata": {},
   "outputs": [],
   "source": [
    "from sklearn.naive_bayes import GaussianNB, MultinomialNB, ComplementNB, BernoulliNB"
   ]
  },
  {
   "cell_type": "code",
   "execution_count": 24,
   "metadata": {},
   "outputs": [],
   "source": [
    "# data preparation\n",
    "df_train = replace_strings(df_train)\n",
    "X_train = df_train.drop(\"Survived\", axis=1)\n",
    "y_train = df_train.Survived\n",
    "\n",
    "X_test = replace_strings(df_test)\n",
    "y_test = test_labels"
   ]
  },
  {
   "cell_type": "code",
   "execution_count": 25,
   "metadata": {},
   "outputs": [
    {
     "name": "stdout",
     "output_type": "stream",
     "text": [
      "NB Model\tAccuracy\n",
      "--------\t--------\n",
      "GaussianNB\t0.763\n",
      "MultinomialNB\t0.768\n",
      "ComplementNB\t0.761\n",
      "BernoulliNB\t0.766\n"
     ]
    }
   ],
   "source": [
    "# use different sklearn Naive Bayes models\n",
    "clfs = [GaussianNB(), MultinomialNB(), ComplementNB(), BernoulliNB()]\n",
    "clfs_names = [\"GaussianNB\", \"MultinomialNB\", \"ComplementNB\", \"BernoulliNB\"]\n",
    "\n",
    "print(\"NB Model\\tAccuracy\")\n",
    "print(\"--------\\t--------\")\n",
    "for clf, clf_name in zip(clfs, clfs_names):\n",
    "    clf.fit(X_train, y_train)\n",
    "    acc = clf.score(X_test, y_test)\n",
    "    \n",
    "    print(f\"{clf_name}\\t{acc:.3f}\")"
   ]
  },
  {
   "cell_type": "code",
   "execution_count": null,
   "metadata": {},
   "outputs": [],
   "source": []
  }
 ],
 "metadata": {
  "kernelspec": {
   "display_name": "Python 3",
   "language": "python",
   "name": "python3"
  },
  "language_info": {
   "codemirror_mode": {
    "name": "ipython",
    "version": 3
   },
   "file_extension": ".py",
   "mimetype": "text/x-python",
   "name": "python",
   "nbconvert_exporter": "python",
   "pygments_lexer": "ipython3",
   "version": "3.9.7"
  }
 },
 "nbformat": 4,
 "nbformat_minor": 4
}
