{
 "cells": [
  {
   "cell_type": "markdown",
   "metadata": {},
   "source": [
    "# DemoMitIris "
   ]
  },
  {
   "cell_type": "code",
   "execution_count": 1,
   "metadata": {},
   "outputs": [],
   "source": [
    "import pandas as pd\n",
    "import numpy as np\n",
    "import matplotlib.pyplot as plt\n",
    "import sklearn"
   ]
  },
  {
   "cell_type": "code",
   "execution_count": 2,
   "metadata": {},
   "outputs": [],
   "source": [
    "iris_df = pd.read_excel('C:/Users/johan/bwSyncShare/Phyton/Data/LocherTucker.xlsx')"
   ]
  },
  {
   "cell_type": "code",
   "execution_count": 3,
   "metadata": {},
   "outputs": [
    {
     "data": {
      "text/html": [
       "<div>\n",
       "<style scoped>\n",
       "    .dataframe tbody tr th:only-of-type {\n",
       "        vertical-align: middle;\n",
       "    }\n",
       "\n",
       "    .dataframe tbody tr th {\n",
       "        vertical-align: top;\n",
       "    }\n",
       "\n",
       "    .dataframe thead th {\n",
       "        text-align: right;\n",
       "    }\n",
       "</style>\n",
       "<table border=\"1\" class=\"dataframe\">\n",
       "  <thead>\n",
       "    <tr style=\"text-align: right;\">\n",
       "      <th></th>\n",
       "      <th>Unnamed: 0</th>\n",
       "      <th>AspectRatio</th>\n",
       "      <th>Extent</th>\n",
       "      <th>SurfaceRatio</th>\n",
       "      <th>Category</th>\n",
       "    </tr>\n",
       "  </thead>\n",
       "  <tbody>\n",
       "    <tr>\n",
       "      <th>0</th>\n",
       "      <td>0</td>\n",
       "      <td>1.237552</td>\n",
       "      <td>0.358045</td>\n",
       "      <td>0.632045</td>\n",
       "      <td>0.0</td>\n",
       "    </tr>\n",
       "    <tr>\n",
       "      <th>1</th>\n",
       "      <td>1</td>\n",
       "      <td>2.152893</td>\n",
       "      <td>0.537711</td>\n",
       "      <td>0.695425</td>\n",
       "      <td>0.0</td>\n",
       "    </tr>\n",
       "    <tr>\n",
       "      <th>2</th>\n",
       "      <td>2</td>\n",
       "      <td>1.321640</td>\n",
       "      <td>0.652844</td>\n",
       "      <td>0.774687</td>\n",
       "      <td>0.0</td>\n",
       "    </tr>\n",
       "    <tr>\n",
       "      <th>3</th>\n",
       "      <td>3</td>\n",
       "      <td>1.057289</td>\n",
       "      <td>0.316268</td>\n",
       "      <td>0.678793</td>\n",
       "      <td>0.0</td>\n",
       "    </tr>\n",
       "    <tr>\n",
       "      <th>4</th>\n",
       "      <td>4</td>\n",
       "      <td>1.748148</td>\n",
       "      <td>0.719767</td>\n",
       "      <td>0.786710</td>\n",
       "      <td>1.0</td>\n",
       "    </tr>\n",
       "  </tbody>\n",
       "</table>\n",
       "</div>"
      ],
      "text/plain": [
       "  Unnamed: 0  AspectRatio    Extent  SurfaceRatio  Category\n",
       "0          0     1.237552  0.358045      0.632045       0.0\n",
       "1          1     2.152893  0.537711      0.695425       0.0\n",
       "2          2     1.321640  0.652844      0.774687       0.0\n",
       "3          3     1.057289  0.316268      0.678793       0.0\n",
       "4          4     1.748148  0.719767      0.786710       1.0"
      ]
     },
     "execution_count": 3,
     "metadata": {},
     "output_type": "execute_result"
    }
   ],
   "source": [
    "iris_df.head()"
   ]
  },
  {
   "cell_type": "code",
   "execution_count": 4,
   "metadata": {},
   "outputs": [
    {
     "data": {
      "text/html": [
       "<div>\n",
       "<style scoped>\n",
       "    .dataframe tbody tr th:only-of-type {\n",
       "        vertical-align: middle;\n",
       "    }\n",
       "\n",
       "    .dataframe tbody tr th {\n",
       "        vertical-align: top;\n",
       "    }\n",
       "\n",
       "    .dataframe thead th {\n",
       "        text-align: right;\n",
       "    }\n",
       "</style>\n",
       "<table border=\"1\" class=\"dataframe\">\n",
       "  <thead>\n",
       "    <tr style=\"text-align: right;\">\n",
       "      <th></th>\n",
       "      <th>Unnamed: 0</th>\n",
       "      <th>AspectRatio</th>\n",
       "      <th>Extent</th>\n",
       "      <th>SurfaceRatio</th>\n",
       "      <th>Category</th>\n",
       "    </tr>\n",
       "  </thead>\n",
       "  <tbody>\n",
       "    <tr>\n",
       "      <th>0</th>\n",
       "      <td>0</td>\n",
       "      <td>1.237552</td>\n",
       "      <td>0.358045</td>\n",
       "      <td>0.632045</td>\n",
       "      <td>0.0</td>\n",
       "    </tr>\n",
       "    <tr>\n",
       "      <th>1</th>\n",
       "      <td>1</td>\n",
       "      <td>2.152893</td>\n",
       "      <td>0.537711</td>\n",
       "      <td>0.695425</td>\n",
       "      <td>0.0</td>\n",
       "    </tr>\n",
       "    <tr>\n",
       "      <th>2</th>\n",
       "      <td>2</td>\n",
       "      <td>1.321640</td>\n",
       "      <td>0.652844</td>\n",
       "      <td>0.774687</td>\n",
       "      <td>0.0</td>\n",
       "    </tr>\n",
       "    <tr>\n",
       "      <th>3</th>\n",
       "      <td>3</td>\n",
       "      <td>1.057289</td>\n",
       "      <td>0.316268</td>\n",
       "      <td>0.678793</td>\n",
       "      <td>0.0</td>\n",
       "    </tr>\n",
       "    <tr>\n",
       "      <th>4</th>\n",
       "      <td>4</td>\n",
       "      <td>1.748148</td>\n",
       "      <td>0.719767</td>\n",
       "      <td>0.786710</td>\n",
       "      <td>1.0</td>\n",
       "    </tr>\n",
       "    <tr>\n",
       "      <th>5</th>\n",
       "      <td>5</td>\n",
       "      <td>2.117143</td>\n",
       "      <td>0.695063</td>\n",
       "      <td>0.831769</td>\n",
       "      <td>1.0</td>\n",
       "    </tr>\n",
       "    <tr>\n",
       "      <th>6</th>\n",
       "      <td>6</td>\n",
       "      <td>2.112903</td>\n",
       "      <td>0.752792</td>\n",
       "      <td>0.802819</td>\n",
       "      <td>1.0</td>\n",
       "    </tr>\n",
       "    <tr>\n",
       "      <th>7</th>\n",
       "      <td>7</td>\n",
       "      <td>1.496302</td>\n",
       "      <td>0.589014</td>\n",
       "      <td>0.766123</td>\n",
       "      <td>1.0</td>\n",
       "    </tr>\n",
       "    <tr>\n",
       "      <th>8</th>\n",
       "      <td>8</td>\n",
       "      <td>1.928458</td>\n",
       "      <td>0.821506</td>\n",
       "      <td>0.849811</td>\n",
       "      <td>1.0</td>\n",
       "    </tr>\n",
       "    <tr>\n",
       "      <th>9</th>\n",
       "      <td>9</td>\n",
       "      <td>0.599274</td>\n",
       "      <td>0.748551</td>\n",
       "      <td>0.826993</td>\n",
       "      <td>1.0</td>\n",
       "    </tr>\n",
       "    <tr>\n",
       "      <th>10</th>\n",
       "      <td>10</td>\n",
       "      <td>1.527371</td>\n",
       "      <td>0.595003</td>\n",
       "      <td>0.774583</td>\n",
       "      <td>1.0</td>\n",
       "    </tr>\n",
       "    <tr>\n",
       "      <th>11</th>\n",
       "      <td>11</td>\n",
       "      <td>0.687858</td>\n",
       "      <td>0.719616</td>\n",
       "      <td>0.878360</td>\n",
       "      <td>1.0</td>\n",
       "    </tr>\n",
       "    <tr>\n",
       "      <th>12</th>\n",
       "      <td>12</td>\n",
       "      <td>1.798434</td>\n",
       "      <td>0.830303</td>\n",
       "      <td>0.898182</td>\n",
       "      <td>0.0</td>\n",
       "    </tr>\n",
       "    <tr>\n",
       "      <th>13</th>\n",
       "      <td>13</td>\n",
       "      <td>2.367366</td>\n",
       "      <td>0.647995</td>\n",
       "      <td>0.774026</td>\n",
       "      <td>1.0</td>\n",
       "    </tr>\n",
       "    <tr>\n",
       "      <th>14</th>\n",
       "      <td>14</td>\n",
       "      <td>2.076239</td>\n",
       "      <td>0.699540</td>\n",
       "      <td>0.814646</td>\n",
       "      <td>0.0</td>\n",
       "    </tr>\n",
       "    <tr>\n",
       "      <th>15</th>\n",
       "      <td>15</td>\n",
       "      <td>1.186413</td>\n",
       "      <td>0.615475</td>\n",
       "      <td>0.745987</td>\n",
       "      <td>0.0</td>\n",
       "    </tr>\n",
       "    <tr>\n",
       "      <th>16</th>\n",
       "      <td>16</td>\n",
       "      <td>2.483425</td>\n",
       "      <td>0.709694</td>\n",
       "      <td>0.775793</td>\n",
       "      <td>1.0</td>\n",
       "    </tr>\n",
       "    <tr>\n",
       "      <th>17</th>\n",
       "      <td>17</td>\n",
       "      <td>2.301006</td>\n",
       "      <td>0.611433</td>\n",
       "      <td>0.760625</td>\n",
       "      <td>1.0</td>\n",
       "    </tr>\n",
       "    <tr>\n",
       "      <th>18</th>\n",
       "      <td>18</td>\n",
       "      <td>1.929984</td>\n",
       "      <td>0.699952</td>\n",
       "      <td>0.791409</td>\n",
       "      <td>0.0</td>\n",
       "    </tr>\n",
       "    <tr>\n",
       "      <th>19</th>\n",
       "      <td>19</td>\n",
       "      <td>1.365581</td>\n",
       "      <td>0.889680</td>\n",
       "      <td>0.892062</td>\n",
       "      <td>0.0</td>\n",
       "    </tr>\n",
       "  </tbody>\n",
       "</table>\n",
       "</div>"
      ],
      "text/plain": [
       "   Unnamed: 0  AspectRatio    Extent  SurfaceRatio  Category\n",
       "0           0     1.237552  0.358045      0.632045       0.0\n",
       "1           1     2.152893  0.537711      0.695425       0.0\n",
       "2           2     1.321640  0.652844      0.774687       0.0\n",
       "3           3     1.057289  0.316268      0.678793       0.0\n",
       "4           4     1.748148  0.719767      0.786710       1.0\n",
       "5           5     2.117143  0.695063      0.831769       1.0\n",
       "6           6     2.112903  0.752792      0.802819       1.0\n",
       "7           7     1.496302  0.589014      0.766123       1.0\n",
       "8           8     1.928458  0.821506      0.849811       1.0\n",
       "9           9     0.599274  0.748551      0.826993       1.0\n",
       "10         10     1.527371  0.595003      0.774583       1.0\n",
       "11         11     0.687858  0.719616      0.878360       1.0\n",
       "12         12     1.798434  0.830303      0.898182       0.0\n",
       "13         13     2.367366  0.647995      0.774026       1.0\n",
       "14         14     2.076239  0.699540      0.814646       0.0\n",
       "15         15     1.186413  0.615475      0.745987       0.0\n",
       "16         16     2.483425  0.709694      0.775793       1.0\n",
       "17         17     2.301006  0.611433      0.760625       1.0\n",
       "18         18     1.929984  0.699952      0.791409       0.0\n",
       "19         19     1.365581  0.889680      0.892062       0.0"
      ]
     },
     "execution_count": 4,
     "metadata": {},
     "output_type": "execute_result"
    }
   ],
   "source": [
    "iris_df.head(20)"
   ]
  },
  {
   "cell_type": "code",
   "execution_count": 5,
   "metadata": {},
   "outputs": [
    {
     "data": {
      "text/plain": [
       "Index(['Unnamed: 0', 'AspectRatio', 'Extent', 'SurfaceRatio', 'Category'], dtype='object')"
      ]
     },
     "execution_count": 5,
     "metadata": {},
     "output_type": "execute_result"
    }
   ],
   "source": [
    "iris_df.columns"
   ]
  },
  {
   "cell_type": "code",
   "execution_count": 6,
   "metadata": {},
   "outputs": [
    {
     "data": {
      "text/html": [
       "<div>\n",
       "<style scoped>\n",
       "    .dataframe tbody tr th:only-of-type {\n",
       "        vertical-align: middle;\n",
       "    }\n",
       "\n",
       "    .dataframe tbody tr th {\n",
       "        vertical-align: top;\n",
       "    }\n",
       "\n",
       "    .dataframe thead th {\n",
       "        text-align: right;\n",
       "    }\n",
       "</style>\n",
       "<table border=\"1\" class=\"dataframe\">\n",
       "  <thead>\n",
       "    <tr style=\"text-align: right;\">\n",
       "      <th></th>\n",
       "      <th>AspectRatio</th>\n",
       "      <th>Extent</th>\n",
       "      <th>SurfaceRatio</th>\n",
       "      <th>Category</th>\n",
       "    </tr>\n",
       "  </thead>\n",
       "  <tbody>\n",
       "    <tr>\n",
       "      <th>count</th>\n",
       "      <td>73.000000</td>\n",
       "      <td>73.000000</td>\n",
       "      <td>73.000000</td>\n",
       "      <td>73.000000</td>\n",
       "    </tr>\n",
       "    <tr>\n",
       "      <th>mean</th>\n",
       "      <td>1.784982</td>\n",
       "      <td>0.738971</td>\n",
       "      <td>0.837361</td>\n",
       "      <td>0.506849</td>\n",
       "    </tr>\n",
       "    <tr>\n",
       "      <th>std</th>\n",
       "      <td>0.986745</td>\n",
       "      <td>0.146657</td>\n",
       "      <td>0.084778</td>\n",
       "      <td>0.503413</td>\n",
       "    </tr>\n",
       "    <tr>\n",
       "      <th>min</th>\n",
       "      <td>0.477742</td>\n",
       "      <td>0.316268</td>\n",
       "      <td>0.632045</td>\n",
       "      <td>0.000000</td>\n",
       "    </tr>\n",
       "    <tr>\n",
       "      <th>25%</th>\n",
       "      <td>1.153303</td>\n",
       "      <td>0.652844</td>\n",
       "      <td>0.774583</td>\n",
       "      <td>0.000000</td>\n",
       "    </tr>\n",
       "    <tr>\n",
       "      <th>50%</th>\n",
       "      <td>1.541803</td>\n",
       "      <td>0.752792</td>\n",
       "      <td>0.849811</td>\n",
       "      <td>1.000000</td>\n",
       "    </tr>\n",
       "    <tr>\n",
       "      <th>75%</th>\n",
       "      <td>2.152893</td>\n",
       "      <td>0.856551</td>\n",
       "      <td>0.909630</td>\n",
       "      <td>1.000000</td>\n",
       "    </tr>\n",
       "    <tr>\n",
       "      <th>max</th>\n",
       "      <td>4.516791</td>\n",
       "      <td>0.955650</td>\n",
       "      <td>0.963165</td>\n",
       "      <td>1.000000</td>\n",
       "    </tr>\n",
       "  </tbody>\n",
       "</table>\n",
       "</div>"
      ],
      "text/plain": [
       "       AspectRatio     Extent  SurfaceRatio   Category\n",
       "count    73.000000  73.000000     73.000000  73.000000\n",
       "mean      1.784982   0.738971      0.837361   0.506849\n",
       "std       0.986745   0.146657      0.084778   0.503413\n",
       "min       0.477742   0.316268      0.632045   0.000000\n",
       "25%       1.153303   0.652844      0.774583   0.000000\n",
       "50%       1.541803   0.752792      0.849811   1.000000\n",
       "75%       2.152893   0.856551      0.909630   1.000000\n",
       "max       4.516791   0.955650      0.963165   1.000000"
      ]
     },
     "execution_count": 6,
     "metadata": {},
     "output_type": "execute_result"
    }
   ],
   "source": [
    "iris_df.describe()"
   ]
  },
  {
   "cell_type": "code",
   "execution_count": 28,
   "metadata": {},
   "outputs": [
    {
     "data": {
      "text/plain": [
       "(79, 5)"
      ]
     },
     "execution_count": 28,
     "metadata": {},
     "output_type": "execute_result"
    }
   ],
   "source": [
    "iris_df.shape #anzahl Datensätze udn Spalten"
   ]
  },
  {
   "cell_type": "code",
   "execution_count": 63,
   "metadata": {},
   "outputs": [
    {
     "data": {
      "text/html": [
       "<div>\n",
       "<style scoped>\n",
       "    .dataframe tbody tr th:only-of-type {\n",
       "        vertical-align: middle;\n",
       "    }\n",
       "\n",
       "    .dataframe tbody tr th {\n",
       "        vertical-align: top;\n",
       "    }\n",
       "\n",
       "    .dataframe thead th {\n",
       "        text-align: right;\n",
       "    }\n",
       "</style>\n",
       "<table border=\"1\" class=\"dataframe\">\n",
       "  <thead>\n",
       "    <tr style=\"text-align: right;\">\n",
       "      <th></th>\n",
       "      <th>Unnamed: 0</th>\n",
       "      <th>AspectRatio</th>\n",
       "      <th>Extent</th>\n",
       "      <th>SurfaceRatio</th>\n",
       "      <th>Category</th>\n",
       "    </tr>\n",
       "  </thead>\n",
       "  <tbody>\n",
       "    <tr>\n",
       "      <th>0</th>\n",
       "      <td>0</td>\n",
       "      <td>1.237552</td>\n",
       "      <td>0.358045</td>\n",
       "      <td>0.632045</td>\n",
       "      <td>0.0</td>\n",
       "    </tr>\n",
       "    <tr>\n",
       "      <th>1</th>\n",
       "      <td>1</td>\n",
       "      <td>2.152893</td>\n",
       "      <td>0.537711</td>\n",
       "      <td>0.695425</td>\n",
       "      <td>0.0</td>\n",
       "    </tr>\n",
       "    <tr>\n",
       "      <th>2</th>\n",
       "      <td>2</td>\n",
       "      <td>1.321640</td>\n",
       "      <td>0.652844</td>\n",
       "      <td>0.774687</td>\n",
       "      <td>0.0</td>\n",
       "    </tr>\n",
       "    <tr>\n",
       "      <th>3</th>\n",
       "      <td>3</td>\n",
       "      <td>1.057289</td>\n",
       "      <td>0.316268</td>\n",
       "      <td>0.678793</td>\n",
       "      <td>0.0</td>\n",
       "    </tr>\n",
       "    <tr>\n",
       "      <th>4</th>\n",
       "      <td>4</td>\n",
       "      <td>1.748148</td>\n",
       "      <td>0.719767</td>\n",
       "      <td>0.786710</td>\n",
       "      <td>1.0</td>\n",
       "    </tr>\n",
       "    <tr>\n",
       "      <th>...</th>\n",
       "      <td>...</td>\n",
       "      <td>...</td>\n",
       "      <td>...</td>\n",
       "      <td>...</td>\n",
       "      <td>...</td>\n",
       "    </tr>\n",
       "    <tr>\n",
       "      <th>70</th>\n",
       "      <td>70</td>\n",
       "      <td>1.157285</td>\n",
       "      <td>0.847954</td>\n",
       "      <td>0.914714</td>\n",
       "      <td>0.0</td>\n",
       "    </tr>\n",
       "    <tr>\n",
       "      <th>71</th>\n",
       "      <td>71</td>\n",
       "      <td>1.916746</td>\n",
       "      <td>0.666266</td>\n",
       "      <td>0.823950</td>\n",
       "      <td>1.0</td>\n",
       "    </tr>\n",
       "    <tr>\n",
       "      <th>72</th>\n",
       "      <td>72</td>\n",
       "      <td>2.612171</td>\n",
       "      <td>0.784751</td>\n",
       "      <td>0.866297</td>\n",
       "      <td>1.0</td>\n",
       "    </tr>\n",
       "    <tr>\n",
       "      <th>73</th>\n",
       "      <td>NaN</td>\n",
       "      <td>NaN</td>\n",
       "      <td>NaN</td>\n",
       "      <td>NaN</td>\n",
       "      <td>NaN</td>\n",
       "    </tr>\n",
       "    <tr>\n",
       "      <th>74</th>\n",
       "      <td>NaN</td>\n",
       "      <td>NaN</td>\n",
       "      <td>NaN</td>\n",
       "      <td>NaN</td>\n",
       "      <td>NaN</td>\n",
       "    </tr>\n",
       "  </tbody>\n",
       "</table>\n",
       "<p>75 rows × 5 columns</p>\n",
       "</div>"
      ],
      "text/plain": [
       "   Unnamed: 0  AspectRatio    Extent  SurfaceRatio  Category\n",
       "0           0     1.237552  0.358045      0.632045       0.0\n",
       "1           1     2.152893  0.537711      0.695425       0.0\n",
       "2           2     1.321640  0.652844      0.774687       0.0\n",
       "3           3     1.057289  0.316268      0.678793       0.0\n",
       "4           4     1.748148  0.719767      0.786710       1.0\n",
       "..        ...          ...       ...           ...       ...\n",
       "70         70     1.157285  0.847954      0.914714       0.0\n",
       "71         71     1.916746  0.666266      0.823950       1.0\n",
       "72         72     2.612171  0.784751      0.866297       1.0\n",
       "73        NaN          NaN       NaN           NaN       NaN\n",
       "74        NaN          NaN       NaN           NaN       NaN\n",
       "\n",
       "[75 rows x 5 columns]"
      ]
     },
     "execution_count": 63,
     "metadata": {},
     "output_type": "execute_result"
    }
   ],
   "source": [
    "iris_df.head(75)"
   ]
  },
  {
   "cell_type": "markdown",
   "metadata": {},
   "source": [
    "Scatterplot von 2 Merkmalen: Shaftblattlänge zu Breite\n",
    "Verschiedene Species unterschiedlich einfärben\n",
    "--> Klassifikationsmöglichkeit beurteilen"
   ]
  },
  {
   "cell_type": "code",
   "execution_count": 64,
   "metadata": {},
   "outputs": [
    {
     "name": "stdout",
     "output_type": "stream",
     "text": [
      "r\n"
     ]
    },
    {
     "data": {
      "text/plain": [
       "0.0"
      ]
     },
     "execution_count": 64,
     "metadata": {},
     "output_type": "execute_result"
    }
   ],
   "source": [
    "colors = {0.0:'r',1.0:'g'} # Farben für Kategorien\n",
    "print(colors[0.0])\n",
    "iris_df['Category'][1]"
   ]
  },
  {
   "cell_type": "code",
   "execution_count": 65,
   "metadata": {},
   "outputs": [
    {
     "ename": "KeyError",
     "evalue": "nan",
     "output_type": "error",
     "traceback": [
      "\u001b[1;31m---------------------------------------------------------------------------\u001b[0m",
      "\u001b[1;31mKeyError\u001b[0m                                  Traceback (most recent call last)",
      "\u001b[1;32m~\\AppData\\Local\\Temp/ipykernel_860/3959714531.py\u001b[0m in \u001b[0;36m<module>\u001b[1;34m\u001b[0m\n\u001b[0;32m      4\u001b[0m     ax.scatter(iris_df['AspectRatio'][i],\n\u001b[0;32m      5\u001b[0m                \u001b[0miris_df\u001b[0m\u001b[1;33m[\u001b[0m\u001b[1;34m'SurfaceRatio'\u001b[0m\u001b[1;33m]\u001b[0m\u001b[1;33m[\u001b[0m\u001b[0mi\u001b[0m\u001b[1;33m]\u001b[0m\u001b[1;33m,\u001b[0m\u001b[1;33m\u001b[0m\u001b[1;33m\u001b[0m\u001b[0m\n\u001b[1;32m----> 6\u001b[1;33m                color=colors[iris_df['Category'][i]])\n\u001b[0m\u001b[0;32m      7\u001b[0m \u001b[1;33m\u001b[0m\u001b[0m\n\u001b[0;32m      8\u001b[0m \u001b[0max\u001b[0m\u001b[1;33m.\u001b[0m\u001b[0mset_title\u001b[0m\u001b[1;33m(\u001b[0m\u001b[1;34m'Locher_Daten'\u001b[0m\u001b[1;33m)\u001b[0m\u001b[1;33m\u001b[0m\u001b[1;33m\u001b[0m\u001b[0m\n",
      "\u001b[1;31mKeyError\u001b[0m: nan"
     ]
    },
    {
     "data": {
      "image/png": "[encoded data removed]",
      "text/plain": [
       "<Figure size 720x360 with 1 Axes>"
      ]
     },
     "metadata": {
      "needs_background": "light"
     },
     "output_type": "display_data"
    }
   ],
   "source": [
    "fig, ax = plt.subplots(figsize=(10,5)) #Größe Plot  konfigurieren\n",
    "\n",
    "for i  in range(72):\n",
    "    ax.scatter(iris_df['AspectRatio'][i],\n",
    "               iris_df['SurfaceRatio'][i],\n",
    "               color=colors[iris_df['Category'][i]])\n",
    "    \n",
    "ax.set_title('Locher_Daten')\n",
    "ax.set_xlabel('AspectRatio')\n",
    "ax.set_ylabel('SurfaceRatio')"
   ]
  },
  {
   "cell_type": "markdown",
   "metadata": {},
   "source": [
    "Klassen statt mit Namen mit Zahlen bezeichnen"
   ]
  },
  {
   "cell_type": "code",
   "execution_count": null,
   "metadata": {},
   "outputs": [],
   "source": [
    "iris_names_df = iris_df #alten dataframe sichern"
   ]
  },
  {
   "cell_type": "code",
   "execution_count": null,
   "metadata": {},
   "outputs": [],
   "source": [
    "species_to_int ={'setosa':0,'versicolor':1, 'virginica':2} # Für jede Klasse eindeutige Zahl setzen\n",
    "\n",
    "iris_df['species']=iris_df['species'].map(species_to_int) # Klassenspalte überschreiben mit Zahlen\n",
    "iris_df.head()"
   ]
  },
  {
   "cell_type": "markdown",
   "metadata": {},
   "source": [
    "Daten Visualieren, Merkmale und Kategorien"
   ]
  },
  {
   "cell_type": "code",
   "execution_count": null,
   "metadata": {},
   "outputs": [],
   "source": [
    "iris_df.hist() #berechnet Histogramme aller Spalten\n",
    "plt.show()"
   ]
  },
  {
   "cell_type": "markdown",
   "metadata": {},
   "source": [
    "Scattermatrix erstellen als schnellen Überblick"
   ]
  },
  {
   "cell_type": "code",
   "execution_count": null,
   "metadata": {},
   "outputs": [],
   "source": [
    "from pandas.plotting import scatter_matrix\n",
    "scatter_matrix(iris_df)\n",
    "plt.show()"
   ]
  },
  {
   "cell_type": "markdown",
   "metadata": {},
   "source": [
    "Erzeuge Trainings- und Testdaten\n",
    "1. Erzeuge eine Dataframe mit allen Merkmalen, aber nicht der Kategorie (Letzte Spalte)\n",
    "2. Erzeuge eine Dataframe nur mit der Kategorie (letzte Spalte)"
   ]
  },
  {
   "cell_type": "code",
   "execution_count": null,
   "metadata": {},
   "outputs": [],
   "source": [
    "X = iris_df.iloc[:,:-1] #alles außer letzter Spalte\n",
    "y = iris_df.iloc[:,-1] #nur letzte Spalte\n",
    "print('X: ',X.shape, ' y: ',y.shape)"
   ]
  },
  {
   "cell_type": "code",
   "execution_count": null,
   "metadata": {},
   "outputs": [],
   "source": [
    "from sklearn.model_selection import train_test_split\n",
    "\n",
    "X_train, X_test, y_train, y_test = train_test_split(X,y, test_size=0.2,\n",
    "                                                   random_state=42)\n",
    "\n",
    "print('X_train: ', X_train.shape, ' y_train: ',y_train.shape)\n",
    "print('X_test: ', X_test.shape, ' y_test: ', y_test.shape)"
   ]
  },
  {
   "cell_type": "markdown",
   "metadata": {},
   "source": [
    "Bayes Klassifikator"
   ]
  },
  {
   "cell_type": "code",
   "execution_count": null,
   "metadata": {},
   "outputs": [],
   "source": [
    "from sklearn.naive_bayes import GaussianNB # importiere Bayes-Klassifikator\n",
    "bayes_clf = GaussianNB()\n",
    "bayes_clf.fit(X_train,y_train) #Wende Klassifikator auf Trainingsdaten an\n",
    "\n",
    "print('Accuracy Bayes: ', bayes_clf.score(X_test, y_test))"
   ]
  },
  {
   "cell_type": "markdown",
   "metadata": {},
   "source": [
    "Accuracy = 1: Kann komplett genau klassifizieren"
   ]
  },
  {
   "cell_type": "markdown",
   "metadata": {},
   "source": [
    "Weitere Maße außer Accuracy:"
   ]
  },
  {
   "cell_type": "code",
   "execution_count": null,
   "metadata": {},
   "outputs": [],
   "source": [
    "from sklearn.metrics import confusion_matrix\n",
    "\n",
    "y_pred = bayes_clf.predict(X_test) #nimm Testdaten als Vorhersagedaten\n",
    "\n",
    "print(confusion_matrix(y_test, y_pred))"
   ]
  },
  {
   "cell_type": "code",
   "execution_count": null,
   "metadata": {},
   "outputs": [],
   "source": [
    "from sklearn.metrics import classification_report\n",
    "print(classification_report(y_test, y_pred))"
   ]
  },
  {
   "cell_type": "markdown",
   "metadata": {},
   "source": [
    "Entscheidungsbaum"
   ]
  },
  {
   "cell_type": "code",
   "execution_count": null,
   "metadata": {},
   "outputs": [],
   "source": [
    "from sklearn.tree import DecisionTreeClassifier\n",
    "from sklearn import tree\n",
    "\n",
    "tree_clf = DecisionTreeClassifier()\n",
    "\n",
    "tree_clf.fit(X_train, y_train)"
   ]
  },
  {
   "cell_type": "code",
   "execution_count": null,
   "metadata": {},
   "outputs": [],
   "source": [
    "print('Accuracy Decision Tree', tree_clf.score(X_test,y_test)) # Accuracy nach Generalisierung"
   ]
  },
  {
   "cell_type": "code",
   "execution_count": null,
   "metadata": {},
   "outputs": [],
   "source": [
    "tree.plot_tree(tree_clf)"
   ]
  },
  {
   "cell_type": "markdown",
   "metadata": {},
   "source": [
    "Decision Tree anwenden"
   ]
  },
  {
   "cell_type": "code",
   "execution_count": null,
   "metadata": {},
   "outputs": [],
   "source": [
    "y_pred = tree_clf.predict(X_test) #Vorhesage der X_testdaten erzeugen\n",
    "# hier könnten statt X_test auch andere Dataframes stehen\n",
    "\n",
    "from sklearn.metrics import accuracy_score\n",
    "\n",
    "print('Accuracy:', accuracy_score(y_test,y_pred)) #Vergleich Prädiktion mit Test"
   ]
  },
  {
   "cell_type": "code",
   "execution_count": null,
   "metadata": {},
   "outputs": [],
   "source": [
    "X_testDf = pd.DataFrame([[5.1,2.9,1.6,0.3]],columns=['sepal_length', 'sepal_width', 'petal_length', 'petal_width'])\n",
    "y_pred = tree_clf.predict(X_testDf)"
   ]
  },
  {
   "cell_type": "code",
   "execution_count": null,
   "metadata": {},
   "outputs": [],
   "source": [
    "print('Vorhergesagte Kategorie: ',y_pred)"
   ]
  },
  {
   "cell_type": "code",
   "execution_count": null,
   "metadata": {},
   "outputs": [],
   "source": [
    "y_pred_bayes = bayes_clf.predict(X_testDf)\n",
    "print('Vorhergesagte Kategorie mit Bayes: ',y_pred_bayes)"
   ]
  },
  {
   "cell_type": "code",
   "execution_count": null,
   "metadata": {},
   "outputs": [],
   "source": [
    "from sklearn.ensemble import RandomForestClassifier\n",
    "\n",
    "forest_clf = RandomForestClassifier(n_estimators=10, criterion='gini', max_depth=2)\n",
    "\n",
    "forest_clf.fit(X_train,y_train)"
   ]
  },
  {
   "cell_type": "code",
   "execution_count": null,
   "metadata": {},
   "outputs": [],
   "source": [
    "y_pred_rf = forest_clf.predict(X_test)\n",
    "print('Accuracy Random Forest: ', accuracy_score(y_test,y_pred_rf))"
   ]
  },
  {
   "cell_type": "code",
   "execution_count": null,
   "metadata": {},
   "outputs": [],
   "source": []
  }
 ],
 "metadata": {
  "kernelspec": {
   "display_name": "Python 3 (ipykernel)",
   "language": "python",
   "name": "python3"
  },
  "language_info": {
   "codemirror_mode": {
    "name": "ipython",
    "version": 3
   },
   "file_extension": ".py",
   "mimetype": "text/x-python",
   "name": "python",
   "nbconvert_exporter": "python",
   "pygments_lexer": "ipython3",
   "version": "3.8.8"
  }
 },
 "nbformat": 4,
 "nbformat_minor": 4
}
